{
 "cells": [
  {
   "cell_type": "markdown",
   "id": "a5c53046",
   "metadata": {},
   "source": [
    "# A&A Project Boston Blue Bikes 2017 Analysis"
   ]
  },
  {
   "cell_type": "markdown",
   "id": "63128298",
   "metadata": {},
   "source": [
    "Import of packages"
   ]
  },
  {
   "cell_type": "code",
   "execution_count": 2,
   "id": "357e84df",
   "metadata": {},
   "outputs": [],
   "source": [
    "import pandas as pd\n",
    "import numpy as np"
   ]
  },
  {
   "cell_type": "markdown",
   "id": "56fd8654",
   "metadata": {},
   "source": [
    "Import of data"
   ]
  },
  {
   "cell_type": "code",
   "execution_count": 3,
   "id": "2b2c1a15",
   "metadata": {},
   "outputs": [],
   "source": [
    "df = pd.read_csv('boston_2017.csv')"
   ]
  },
  {
   "cell_type": "markdown",
   "id": "cb2fb43d",
   "metadata": {},
   "source": [
    "## Getting a first overview of the data"
   ]
  },
  {
   "cell_type": "code",
   "execution_count": 4,
   "id": "26982e3c",
   "metadata": {},
   "outputs": [
    {
     "data": {
      "text/plain": [
       "Index(['start_time', 'end_time', 'start_station_id', 'end_station_id',\n",
       "       'start_station_name', 'end_station_name', 'bike_id', 'user_type'],\n",
       "      dtype='object')"
      ]
     },
     "execution_count": 4,
     "metadata": {},
     "output_type": "execute_result"
    }
   ],
   "source": [
    "df.columns"
   ]
  },
  {
   "cell_type": "code",
   "execution_count": 5,
   "id": "e48df63a",
   "metadata": {},
   "outputs": [
    {
     "data": {
      "text/html": [
       "<div>\n",
       "<style scoped>\n",
       "    .dataframe tbody tr th:only-of-type {\n",
       "        vertical-align: middle;\n",
       "    }\n",
       "\n",
       "    .dataframe tbody tr th {\n",
       "        vertical-align: top;\n",
       "    }\n",
       "\n",
       "    .dataframe thead th {\n",
       "        text-align: right;\n",
       "    }\n",
       "</style>\n",
       "<table border=\"1\" class=\"dataframe\">\n",
       "  <thead>\n",
       "    <tr style=\"text-align: right;\">\n",
       "      <th></th>\n",
       "      <th>start_time</th>\n",
       "      <th>end_time</th>\n",
       "      <th>start_station_id</th>\n",
       "      <th>end_station_id</th>\n",
       "      <th>start_station_name</th>\n",
       "      <th>end_station_name</th>\n",
       "      <th>bike_id</th>\n",
       "      <th>user_type</th>\n",
       "    </tr>\n",
       "  </thead>\n",
       "  <tbody>\n",
       "    <tr>\n",
       "      <th>0</th>\n",
       "      <td>2017-01-01 00:06:58</td>\n",
       "      <td>2017-01-01 00:12:49</td>\n",
       "      <td>67</td>\n",
       "      <td>139</td>\n",
       "      <td>MIT at Mass Ave / Amherst St</td>\n",
       "      <td>Dana Park</td>\n",
       "      <td>644</td>\n",
       "      <td>Subscriber</td>\n",
       "    </tr>\n",
       "    <tr>\n",
       "      <th>1</th>\n",
       "      <td>2017-01-01 00:13:16</td>\n",
       "      <td>2017-01-01 00:28:07</td>\n",
       "      <td>36</td>\n",
       "      <td>10</td>\n",
       "      <td>Boston Public Library - 700 Boylston St.</td>\n",
       "      <td>B.U. Central - 725 Comm. Ave.</td>\n",
       "      <td>230</td>\n",
       "      <td>Subscriber</td>\n",
       "    </tr>\n",
       "    <tr>\n",
       "      <th>2</th>\n",
       "      <td>2017-01-01 00:16:17</td>\n",
       "      <td>2017-01-01 00:44:10</td>\n",
       "      <td>36</td>\n",
       "      <td>9</td>\n",
       "      <td>Boston Public Library - 700 Boylston St.</td>\n",
       "      <td>Agganis Arena - 925 Comm Ave.</td>\n",
       "      <td>980</td>\n",
       "      <td>Customer</td>\n",
       "    </tr>\n",
       "    <tr>\n",
       "      <th>3</th>\n",
       "      <td>2017-01-01 00:21:22</td>\n",
       "      <td>2017-01-01 00:33:50</td>\n",
       "      <td>46</td>\n",
       "      <td>19</td>\n",
       "      <td>Christian Science Plaza</td>\n",
       "      <td>Buswell St. at Park Dr.</td>\n",
       "      <td>1834</td>\n",
       "      <td>Subscriber</td>\n",
       "    </tr>\n",
       "    <tr>\n",
       "      <th>4</th>\n",
       "      <td>2017-01-01 00:30:06</td>\n",
       "      <td>2017-01-01 00:40:28</td>\n",
       "      <td>10</td>\n",
       "      <td>8</td>\n",
       "      <td>B.U. Central - 725 Comm. Ave.</td>\n",
       "      <td>Union Square - Brighton Ave. at Cambridge St.</td>\n",
       "      <td>230</td>\n",
       "      <td>Subscriber</td>\n",
       "    </tr>\n",
       "    <tr>\n",
       "      <th>5</th>\n",
       "      <td>2017-01-01 00:30:40</td>\n",
       "      <td>2017-01-01 00:41:45</td>\n",
       "      <td>47</td>\n",
       "      <td>195</td>\n",
       "      <td>Cross St. at Hanover St.</td>\n",
       "      <td>Brian P. Murphy Staircase at Child Street</td>\n",
       "      <td>1918</td>\n",
       "      <td>Subscriber</td>\n",
       "    </tr>\n",
       "    <tr>\n",
       "      <th>6</th>\n",
       "      <td>2017-01-01 00:42:04</td>\n",
       "      <td>2017-01-01 00:46:25</td>\n",
       "      <td>67</td>\n",
       "      <td>179</td>\n",
       "      <td>MIT at Mass Ave / Amherst St</td>\n",
       "      <td>MIT Vassar St</td>\n",
       "      <td>1102</td>\n",
       "      <td>Subscriber</td>\n",
       "    </tr>\n",
       "    <tr>\n",
       "      <th>7</th>\n",
       "      <td>2017-01-01 00:43:59</td>\n",
       "      <td>2017-01-01 00:50:42</td>\n",
       "      <td>107</td>\n",
       "      <td>179</td>\n",
       "      <td>Ames St at Main St</td>\n",
       "      <td>MIT Vassar St</td>\n",
       "      <td>1060</td>\n",
       "      <td>Subscriber</td>\n",
       "    </tr>\n",
       "    <tr>\n",
       "      <th>8</th>\n",
       "      <td>2017-01-01 00:47:49</td>\n",
       "      <td>2017-01-01 00:58:32</td>\n",
       "      <td>58</td>\n",
       "      <td>33</td>\n",
       "      <td>The Esplanade - Beacon St. at Arlington St.</td>\n",
       "      <td>Kenmore Sq / Comm Ave</td>\n",
       "      <td>1613</td>\n",
       "      <td>Subscriber</td>\n",
       "    </tr>\n",
       "    <tr>\n",
       "      <th>9</th>\n",
       "      <td>2017-01-01 00:48:37</td>\n",
       "      <td>2017-01-01 01:04:31</td>\n",
       "      <td>9</td>\n",
       "      <td>15</td>\n",
       "      <td>Agganis Arena - 925 Comm Ave.</td>\n",
       "      <td>Harvard Real Estate - Brighton Mills - 370 Wes...</td>\n",
       "      <td>980</td>\n",
       "      <td>Customer</td>\n",
       "    </tr>\n",
       "  </tbody>\n",
       "</table>\n",
       "</div>"
      ],
      "text/plain": [
       "            start_time             end_time  start_station_id  end_station_id  \\\n",
       "0  2017-01-01 00:06:58  2017-01-01 00:12:49                67             139   \n",
       "1  2017-01-01 00:13:16  2017-01-01 00:28:07                36              10   \n",
       "2  2017-01-01 00:16:17  2017-01-01 00:44:10                36               9   \n",
       "3  2017-01-01 00:21:22  2017-01-01 00:33:50                46              19   \n",
       "4  2017-01-01 00:30:06  2017-01-01 00:40:28                10               8   \n",
       "5  2017-01-01 00:30:40  2017-01-01 00:41:45                47             195   \n",
       "6  2017-01-01 00:42:04  2017-01-01 00:46:25                67             179   \n",
       "7  2017-01-01 00:43:59  2017-01-01 00:50:42               107             179   \n",
       "8  2017-01-01 00:47:49  2017-01-01 00:58:32                58              33   \n",
       "9  2017-01-01 00:48:37  2017-01-01 01:04:31                 9              15   \n",
       "\n",
       "                            start_station_name  \\\n",
       "0                 MIT at Mass Ave / Amherst St   \n",
       "1     Boston Public Library - 700 Boylston St.   \n",
       "2     Boston Public Library - 700 Boylston St.   \n",
       "3                      Christian Science Plaza   \n",
       "4                B.U. Central - 725 Comm. Ave.   \n",
       "5                     Cross St. at Hanover St.   \n",
       "6                 MIT at Mass Ave / Amherst St   \n",
       "7                           Ames St at Main St   \n",
       "8  The Esplanade - Beacon St. at Arlington St.   \n",
       "9                Agganis Arena - 925 Comm Ave.   \n",
       "\n",
       "                                    end_station_name  bike_id   user_type  \n",
       "0                                          Dana Park      644  Subscriber  \n",
       "1                      B.U. Central - 725 Comm. Ave.      230  Subscriber  \n",
       "2                      Agganis Arena - 925 Comm Ave.      980    Customer  \n",
       "3                            Buswell St. at Park Dr.     1834  Subscriber  \n",
       "4      Union Square - Brighton Ave. at Cambridge St.      230  Subscriber  \n",
       "5          Brian P. Murphy Staircase at Child Street     1918  Subscriber  \n",
       "6                                      MIT Vassar St     1102  Subscriber  \n",
       "7                                      MIT Vassar St     1060  Subscriber  \n",
       "8                              Kenmore Sq / Comm Ave     1613  Subscriber  \n",
       "9  Harvard Real Estate - Brighton Mills - 370 Wes...      980    Customer  "
      ]
     },
     "execution_count": 5,
     "metadata": {},
     "output_type": "execute_result"
    }
   ],
   "source": [
    "df.head(10)"
   ]
  },
  {
   "cell_type": "markdown",
   "id": "1199d6b1",
   "metadata": {},
   "source": [
    "## Identifying missing or wrong values "
   ]
  },
  {
   "cell_type": "code",
   "execution_count": 6,
   "id": "fe55527a",
   "metadata": {},
   "outputs": [
    {
     "data": {
      "text/plain": [
       "False"
      ]
     },
     "execution_count": 6,
     "metadata": {},
     "output_type": "execute_result"
    }
   ],
   "source": [
    "df.isnull().values.any()"
   ]
  },
  {
   "cell_type": "markdown",
   "id": "73592f4c",
   "metadata": {},
   "source": [
    "Test Github"
   ]
  }
 ],
 "metadata": {
  "kernelspec": {
   "display_name": "Python 3 (ipykernel)",
   "language": "python",
   "name": "python3"
  },
  "language_info": {
   "codemirror_mode": {
    "name": "ipython",
    "version": 3
   },
   "file_extension": ".py",
   "mimetype": "text/x-python",
   "name": "python",
   "nbconvert_exporter": "python",
   "pygments_lexer": "ipython3",
   "version": "3.9.7"
  }
 },
 "nbformat": 4,
 "nbformat_minor": 5
}
