{
 "cells": [
  {
   "cell_type": "markdown",
   "id": "a5c53046",
   "metadata": {},
   "source": [
    "# A&A Project Boston Blue Bikes 2017 Analysis"
   ]
  },
  {
   "cell_type": "markdown",
   "id": "63128298",
   "metadata": {},
   "source": [
    "Import of packages"
   ]
  },
  {
   "cell_type": "code",
   "execution_count": null,
   "id": "357e84df",
   "metadata": {},
   "outputs": [],
   "source": [
    "import pandas as pd\n",
    "import numpy as np\n",
    "import csv\n"
   ]
  },
  {
   "cell_type": "markdown",
   "id": "56fd8654",
   "metadata": {},
   "source": [
    "Import of data in the notebook"
   ]
  },
  {
   "cell_type": "code",
   "execution_count": null,
   "id": "2b2c1a15",
   "metadata": {},
   "outputs": [],
   "source": []
  }
 ],
 "metadata": {
  "kernelspec": {
   "display_name": "Python 3",
   "language": "python",
   "name": "python3"
  },
  "language_info": {
   "codemirror_mode": {
    "name": "ipython",
    "version": 3
   },
   "file_extension": ".py",
   "mimetype": "text/x-python",
   "name": "python",
   "nbconvert_exporter": "python",
   "pygments_lexer": "ipython3",
   "version": "3.8.8"
  }
 },
 "nbformat": 4,
 "nbformat_minor": 5
}
