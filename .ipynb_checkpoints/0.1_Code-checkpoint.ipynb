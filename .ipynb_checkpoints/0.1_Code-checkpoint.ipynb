{
 "cells": [
  {
   "cell_type": "markdown",
   "id": "a5c53046",
   "metadata": {},
   "source": [
    "# A&A Project Boston Blue Bikes 2017 Analysis"
   ]
  },
  {
   "cell_type": "markdown",
   "id": "63128298",
   "metadata": {},
   "source": [
    "Import of packages"
   ]
  },
  {
   "cell_type": "code",
   "execution_count": 30,
   "id": "357e84df",
   "metadata": {},
   "outputs": [],
   "source": [
    "import pandas as pd\n",
    "import numpy as np"
   ]
  },
  {
   "cell_type": "markdown",
   "id": "56fd8654",
   "metadata": {},
   "source": [
    "Import of data"
   ]
  },
  {
   "cell_type": "code",
   "execution_count": 31,
   "id": "2b2c1a15",
   "metadata": {},
   "outputs": [],
   "source": [
    "df_Trips = pd.read_csv('boston_2017.csv')\n",
    "df_Stations = pd.read_csv('current_bluebikes_stations.csv')\n",
    "df_Weather = pd.read_csv('weather_hourly_boston.csv')"
   ]
  },
  {
   "cell_type": "markdown",
   "id": "6c69c17a",
   "metadata": {},
   "source": [
    "## 1 Data Cleaning"
   ]
  },
  {
   "cell_type": "markdown",
   "id": "bd7db4a4",
   "metadata": {},
   "source": [
    "In the first step the imported data will be examined, cleaned and transformed. This leads to a clean data set with additional features upon which further analysis can be done."
   ]
  },
  {
   "cell_type": "markdown",
   "id": "20227f7e",
   "metadata": {},
   "source": [
    "###  1.1 Getting a first overview of the data"
   ]
  },
  {
   "cell_type": "code",
   "execution_count": 32,
   "id": "71289f3c",
   "metadata": {},
   "outputs": [
    {
     "name": "stdout",
     "output_type": "stream",
     "text": [
      "<class 'pandas.core.frame.DataFrame'>\n",
      "RangeIndex: 1313774 entries, 0 to 1313773\n",
      "Data columns (total 8 columns):\n",
      " #   Column              Non-Null Count    Dtype \n",
      "---  ------              --------------    ----- \n",
      " 0   start_time          1313774 non-null  object\n",
      " 1   end_time            1313774 non-null  object\n",
      " 2   start_station_id    1313774 non-null  int64 \n",
      " 3   end_station_id      1313774 non-null  int64 \n",
      " 4   start_station_name  1313774 non-null  object\n",
      " 5   end_station_name    1313774 non-null  object\n",
      " 6   bike_id             1313774 non-null  int64 \n",
      " 7   user_type           1313774 non-null  object\n",
      "dtypes: int64(3), object(5)\n",
      "memory usage: 80.2+ MB\n"
     ]
    }
   ],
   "source": [
    "df_Trips.info()"
   ]
  },
  {
   "cell_type": "code",
   "execution_count": 33,
   "id": "f6b0224d",
   "metadata": {},
   "outputs": [
    {
     "data": {
      "text/plain": [
       "1313774"
      ]
     },
     "execution_count": 33,
     "metadata": {},
     "output_type": "execute_result"
    }
   ],
   "source": [
    "len(df_Trips)"
   ]
  },
  {
   "cell_type": "code",
   "execution_count": 34,
   "id": "26982e3c",
   "metadata": {},
   "outputs": [
    {
     "data": {
      "text/plain": [
       "Index(['start_time', 'end_time', 'start_station_id', 'end_station_id',\n",
       "       'start_station_name', 'end_station_name', 'bike_id', 'user_type'],\n",
       "      dtype='object')"
      ]
     },
     "execution_count": 34,
     "metadata": {},
     "output_type": "execute_result"
    }
   ],
   "source": [
    "df_Trips.columns"
   ]
  },
  {
   "cell_type": "code",
   "execution_count": 35,
   "id": "e48df63a",
   "metadata": {
    "scrolled": true
   },
   "outputs": [
    {
     "data": {
      "text/html": [
       "<div>\n",
       "<style scoped>\n",
       "    .dataframe tbody tr th:only-of-type {\n",
       "        vertical-align: middle;\n",
       "    }\n",
       "\n",
       "    .dataframe tbody tr th {\n",
       "        vertical-align: top;\n",
       "    }\n",
       "\n",
       "    .dataframe thead th {\n",
       "        text-align: right;\n",
       "    }\n",
       "</style>\n",
       "<table border=\"1\" class=\"dataframe\">\n",
       "  <thead>\n",
       "    <tr style=\"text-align: right;\">\n",
       "      <th></th>\n",
       "      <th>start_time</th>\n",
       "      <th>end_time</th>\n",
       "      <th>start_station_id</th>\n",
       "      <th>end_station_id</th>\n",
       "      <th>start_station_name</th>\n",
       "      <th>end_station_name</th>\n",
       "      <th>bike_id</th>\n",
       "      <th>user_type</th>\n",
       "    </tr>\n",
       "  </thead>\n",
       "  <tbody>\n",
       "    <tr>\n",
       "      <th>0</th>\n",
       "      <td>2017-01-01 00:06:58</td>\n",
       "      <td>2017-01-01 00:12:49</td>\n",
       "      <td>67</td>\n",
       "      <td>139</td>\n",
       "      <td>MIT at Mass Ave / Amherst St</td>\n",
       "      <td>Dana Park</td>\n",
       "      <td>644</td>\n",
       "      <td>Subscriber</td>\n",
       "    </tr>\n",
       "    <tr>\n",
       "      <th>1</th>\n",
       "      <td>2017-01-01 00:13:16</td>\n",
       "      <td>2017-01-01 00:28:07</td>\n",
       "      <td>36</td>\n",
       "      <td>10</td>\n",
       "      <td>Boston Public Library - 700 Boylston St.</td>\n",
       "      <td>B.U. Central - 725 Comm. Ave.</td>\n",
       "      <td>230</td>\n",
       "      <td>Subscriber</td>\n",
       "    </tr>\n",
       "    <tr>\n",
       "      <th>2</th>\n",
       "      <td>2017-01-01 00:16:17</td>\n",
       "      <td>2017-01-01 00:44:10</td>\n",
       "      <td>36</td>\n",
       "      <td>9</td>\n",
       "      <td>Boston Public Library - 700 Boylston St.</td>\n",
       "      <td>Agganis Arena - 925 Comm Ave.</td>\n",
       "      <td>980</td>\n",
       "      <td>Customer</td>\n",
       "    </tr>\n",
       "    <tr>\n",
       "      <th>3</th>\n",
       "      <td>2017-01-01 00:21:22</td>\n",
       "      <td>2017-01-01 00:33:50</td>\n",
       "      <td>46</td>\n",
       "      <td>19</td>\n",
       "      <td>Christian Science Plaza</td>\n",
       "      <td>Buswell St. at Park Dr.</td>\n",
       "      <td>1834</td>\n",
       "      <td>Subscriber</td>\n",
       "    </tr>\n",
       "    <tr>\n",
       "      <th>4</th>\n",
       "      <td>2017-01-01 00:30:06</td>\n",
       "      <td>2017-01-01 00:40:28</td>\n",
       "      <td>10</td>\n",
       "      <td>8</td>\n",
       "      <td>B.U. Central - 725 Comm. Ave.</td>\n",
       "      <td>Union Square - Brighton Ave. at Cambridge St.</td>\n",
       "      <td>230</td>\n",
       "      <td>Subscriber</td>\n",
       "    </tr>\n",
       "  </tbody>\n",
       "</table>\n",
       "</div>"
      ],
      "text/plain": [
       "            start_time             end_time  start_station_id  end_station_id  \\\n",
       "0  2017-01-01 00:06:58  2017-01-01 00:12:49                67             139   \n",
       "1  2017-01-01 00:13:16  2017-01-01 00:28:07                36              10   \n",
       "2  2017-01-01 00:16:17  2017-01-01 00:44:10                36               9   \n",
       "3  2017-01-01 00:21:22  2017-01-01 00:33:50                46              19   \n",
       "4  2017-01-01 00:30:06  2017-01-01 00:40:28                10               8   \n",
       "\n",
       "                         start_station_name  \\\n",
       "0              MIT at Mass Ave / Amherst St   \n",
       "1  Boston Public Library - 700 Boylston St.   \n",
       "2  Boston Public Library - 700 Boylston St.   \n",
       "3                   Christian Science Plaza   \n",
       "4             B.U. Central - 725 Comm. Ave.   \n",
       "\n",
       "                                end_station_name  bike_id   user_type  \n",
       "0                                      Dana Park      644  Subscriber  \n",
       "1                  B.U. Central - 725 Comm. Ave.      230  Subscriber  \n",
       "2                  Agganis Arena - 925 Comm Ave.      980    Customer  \n",
       "3                        Buswell St. at Park Dr.     1834  Subscriber  \n",
       "4  Union Square - Brighton Ave. at Cambridge St.      230  Subscriber  "
      ]
     },
     "execution_count": 35,
     "metadata": {},
     "output_type": "execute_result"
    }
   ],
   "source": [
    "df_Trips.head(5)"
   ]
  },
  {
   "cell_type": "code",
   "execution_count": 36,
   "id": "4642af8f",
   "metadata": {},
   "outputs": [
    {
     "data": {
      "text/html": [
       "<div>\n",
       "<style scoped>\n",
       "    .dataframe tbody tr th:only-of-type {\n",
       "        vertical-align: middle;\n",
       "    }\n",
       "\n",
       "    .dataframe tbody tr th {\n",
       "        vertical-align: top;\n",
       "    }\n",
       "\n",
       "    .dataframe thead th {\n",
       "        text-align: right;\n",
       "    }\n",
       "</style>\n",
       "<table border=\"1\" class=\"dataframe\">\n",
       "  <thead>\n",
       "    <tr style=\"text-align: right;\">\n",
       "      <th></th>\n",
       "      <th>start_time</th>\n",
       "      <th>end_time</th>\n",
       "      <th>start_station_id</th>\n",
       "      <th>end_station_id</th>\n",
       "      <th>start_station_name</th>\n",
       "      <th>end_station_name</th>\n",
       "      <th>bike_id</th>\n",
       "      <th>user_type</th>\n",
       "    </tr>\n",
       "  </thead>\n",
       "  <tbody>\n",
       "    <tr>\n",
       "      <th>1313769</th>\n",
       "      <td>2017-12-31 23:46:18</td>\n",
       "      <td>2017-12-31 23:50:27</td>\n",
       "      <td>117</td>\n",
       "      <td>141</td>\n",
       "      <td>Binney St / Sixth St</td>\n",
       "      <td>Kendall Street</td>\n",
       "      <td>1846</td>\n",
       "      <td>Subscriber</td>\n",
       "    </tr>\n",
       "    <tr>\n",
       "      <th>1313770</th>\n",
       "      <td>2017-12-29 16:11:56</td>\n",
       "      <td>2017-12-29 16:16:18</td>\n",
       "      <td>54</td>\n",
       "      <td>42</td>\n",
       "      <td>Tremont St at West St</td>\n",
       "      <td>Boylston St at Arlington St TEMPORARY WINTER L...</td>\n",
       "      <td>2</td>\n",
       "      <td>Subscriber</td>\n",
       "    </tr>\n",
       "    <tr>\n",
       "      <th>1313771</th>\n",
       "      <td>2017-12-30 08:09:44</td>\n",
       "      <td>2017-12-30 08:26:08</td>\n",
       "      <td>54</td>\n",
       "      <td>58</td>\n",
       "      <td>Tremont St at West St</td>\n",
       "      <td>Beacon St at Arlington St</td>\n",
       "      <td>1534</td>\n",
       "      <td>Subscriber</td>\n",
       "    </tr>\n",
       "    <tr>\n",
       "      <th>1313772</th>\n",
       "      <td>2017-12-30 12:20:01</td>\n",
       "      <td>2017-12-30 12:49:12</td>\n",
       "      <td>54</td>\n",
       "      <td>46</td>\n",
       "      <td>Tremont St at West St</td>\n",
       "      <td>Christian Science Plaza - Massachusetts Ave at...</td>\n",
       "      <td>1978</td>\n",
       "      <td>Subscriber</td>\n",
       "    </tr>\n",
       "    <tr>\n",
       "      <th>1313773</th>\n",
       "      <td>2017-12-30 18:27:39</td>\n",
       "      <td>2017-12-30 18:53:54</td>\n",
       "      <td>54</td>\n",
       "      <td>21</td>\n",
       "      <td>Tremont St at West St</td>\n",
       "      <td>Prudential Center - Belvedere St</td>\n",
       "      <td>15</td>\n",
       "      <td>Subscriber</td>\n",
       "    </tr>\n",
       "  </tbody>\n",
       "</table>\n",
       "</div>"
      ],
      "text/plain": [
       "                  start_time             end_time  start_station_id  \\\n",
       "1313769  2017-12-31 23:46:18  2017-12-31 23:50:27               117   \n",
       "1313770  2017-12-29 16:11:56  2017-12-29 16:16:18                54   \n",
       "1313771  2017-12-30 08:09:44  2017-12-30 08:26:08                54   \n",
       "1313772  2017-12-30 12:20:01  2017-12-30 12:49:12                54   \n",
       "1313773  2017-12-30 18:27:39  2017-12-30 18:53:54                54   \n",
       "\n",
       "         end_station_id     start_station_name  \\\n",
       "1313769             141   Binney St / Sixth St   \n",
       "1313770              42  Tremont St at West St   \n",
       "1313771              58  Tremont St at West St   \n",
       "1313772              46  Tremont St at West St   \n",
       "1313773              21  Tremont St at West St   \n",
       "\n",
       "                                          end_station_name  bike_id  \\\n",
       "1313769                                     Kendall Street     1846   \n",
       "1313770  Boylston St at Arlington St TEMPORARY WINTER L...        2   \n",
       "1313771                          Beacon St at Arlington St     1534   \n",
       "1313772  Christian Science Plaza - Massachusetts Ave at...     1978   \n",
       "1313773                   Prudential Center - Belvedere St       15   \n",
       "\n",
       "          user_type  \n",
       "1313769  Subscriber  \n",
       "1313770  Subscriber  \n",
       "1313771  Subscriber  \n",
       "1313772  Subscriber  \n",
       "1313773  Subscriber  "
      ]
     },
     "execution_count": 36,
     "metadata": {},
     "output_type": "execute_result"
    }
   ],
   "source": [
    "df_Trips.tail(5)"
   ]
  },
  {
   "cell_type": "markdown",
   "id": "1199d6b1",
   "metadata": {},
   "source": [
    "### 1.2 Identifying missing or wrong values and duplicates"
   ]
  },
  {
   "cell_type": "code",
   "execution_count": 56,
   "id": "fe55527a",
   "metadata": {
    "scrolled": true
   },
   "outputs": [
    {
     "data": {
      "text/plain": [
       "False"
      ]
     },
     "execution_count": 56,
     "metadata": {},
     "output_type": "execute_result"
    }
   ],
   "source": [
    "df_Trips.isnull().values.any()"
   ]
  },
  {
   "cell_type": "code",
   "execution_count": 38,
   "id": "fc115870",
   "metadata": {},
   "outputs": [
    {
     "data": {
      "text/plain": [
       "0"
      ]
     },
     "execution_count": 38,
     "metadata": {},
     "output_type": "execute_result"
    }
   ],
   "source": [
    "# .sum() counts the TRUE values \n",
    "df_Trips.duplicated().sum()"
   ]
  },
  {
   "cell_type": "markdown",
   "id": "994c2b42",
   "metadata": {},
   "source": [
    "As there are no missing or duplicates values in the dataframe, it can be suspected that the quality of the data is already very good. "
   ]
  },
  {
   "cell_type": "markdown",
   "id": "82253e43",
   "metadata": {},
   "source": [
    "### 1.3 Feature Engineering "
   ]
  },
  {
   "cell_type": "markdown",
   "id": "2f666c27",
   "metadata": {},
   "source": [
    "Now additional features will be calculated out of the existing data. \n",
    "This will contain: \n",
    "- temporal data eg. duration of the ride, weekday or hour"
   ]
  },
  {
   "cell_type": "code",
   "execution_count": 39,
   "id": "78562e4e",
   "metadata": {},
   "outputs": [],
   "source": [
    "df_Trips[['start_time','end_time']] = df_Trips[['start_time','end_time']].apply(pd.to_datetime)"
   ]
  },
  {
   "cell_type": "code",
   "execution_count": 40,
   "id": "8f287d25",
   "metadata": {},
   "outputs": [
    {
     "data": {
      "text/html": [
       "<div>\n",
       "<style scoped>\n",
       "    .dataframe tbody tr th:only-of-type {\n",
       "        vertical-align: middle;\n",
       "    }\n",
       "\n",
       "    .dataframe tbody tr th {\n",
       "        vertical-align: top;\n",
       "    }\n",
       "\n",
       "    .dataframe thead th {\n",
       "        text-align: right;\n",
       "    }\n",
       "</style>\n",
       "<table border=\"1\" class=\"dataframe\">\n",
       "  <thead>\n",
       "    <tr style=\"text-align: right;\">\n",
       "      <th></th>\n",
       "      <th>start_time</th>\n",
       "      <th>end_time</th>\n",
       "      <th>start_station_id</th>\n",
       "      <th>end_station_id</th>\n",
       "      <th>start_station_name</th>\n",
       "      <th>end_station_name</th>\n",
       "      <th>bike_id</th>\n",
       "      <th>user_type</th>\n",
       "    </tr>\n",
       "  </thead>\n",
       "  <tbody>\n",
       "    <tr>\n",
       "      <th>1313769</th>\n",
       "      <td>2017-12-31 23:46:18</td>\n",
       "      <td>2017-12-31 23:50:27</td>\n",
       "      <td>117</td>\n",
       "      <td>141</td>\n",
       "      <td>Binney St / Sixth St</td>\n",
       "      <td>Kendall Street</td>\n",
       "      <td>1846</td>\n",
       "      <td>Subscriber</td>\n",
       "    </tr>\n",
       "    <tr>\n",
       "      <th>1313770</th>\n",
       "      <td>2017-12-29 16:11:56</td>\n",
       "      <td>2017-12-29 16:16:18</td>\n",
       "      <td>54</td>\n",
       "      <td>42</td>\n",
       "      <td>Tremont St at West St</td>\n",
       "      <td>Boylston St at Arlington St TEMPORARY WINTER L...</td>\n",
       "      <td>2</td>\n",
       "      <td>Subscriber</td>\n",
       "    </tr>\n",
       "    <tr>\n",
       "      <th>1313771</th>\n",
       "      <td>2017-12-30 08:09:44</td>\n",
       "      <td>2017-12-30 08:26:08</td>\n",
       "      <td>54</td>\n",
       "      <td>58</td>\n",
       "      <td>Tremont St at West St</td>\n",
       "      <td>Beacon St at Arlington St</td>\n",
       "      <td>1534</td>\n",
       "      <td>Subscriber</td>\n",
       "    </tr>\n",
       "    <tr>\n",
       "      <th>1313772</th>\n",
       "      <td>2017-12-30 12:20:01</td>\n",
       "      <td>2017-12-30 12:49:12</td>\n",
       "      <td>54</td>\n",
       "      <td>46</td>\n",
       "      <td>Tremont St at West St</td>\n",
       "      <td>Christian Science Plaza - Massachusetts Ave at...</td>\n",
       "      <td>1978</td>\n",
       "      <td>Subscriber</td>\n",
       "    </tr>\n",
       "    <tr>\n",
       "      <th>1313773</th>\n",
       "      <td>2017-12-30 18:27:39</td>\n",
       "      <td>2017-12-30 18:53:54</td>\n",
       "      <td>54</td>\n",
       "      <td>21</td>\n",
       "      <td>Tremont St at West St</td>\n",
       "      <td>Prudential Center - Belvedere St</td>\n",
       "      <td>15</td>\n",
       "      <td>Subscriber</td>\n",
       "    </tr>\n",
       "  </tbody>\n",
       "</table>\n",
       "</div>"
      ],
      "text/plain": [
       "                 start_time            end_time  start_station_id  \\\n",
       "1313769 2017-12-31 23:46:18 2017-12-31 23:50:27               117   \n",
       "1313770 2017-12-29 16:11:56 2017-12-29 16:16:18                54   \n",
       "1313771 2017-12-30 08:09:44 2017-12-30 08:26:08                54   \n",
       "1313772 2017-12-30 12:20:01 2017-12-30 12:49:12                54   \n",
       "1313773 2017-12-30 18:27:39 2017-12-30 18:53:54                54   \n",
       "\n",
       "         end_station_id     start_station_name  \\\n",
       "1313769             141   Binney St / Sixth St   \n",
       "1313770              42  Tremont St at West St   \n",
       "1313771              58  Tremont St at West St   \n",
       "1313772              46  Tremont St at West St   \n",
       "1313773              21  Tremont St at West St   \n",
       "\n",
       "                                          end_station_name  bike_id  \\\n",
       "1313769                                     Kendall Street     1846   \n",
       "1313770  Boylston St at Arlington St TEMPORARY WINTER L...        2   \n",
       "1313771                          Beacon St at Arlington St     1534   \n",
       "1313772  Christian Science Plaza - Massachusetts Ave at...     1978   \n",
       "1313773                   Prudential Center - Belvedere St       15   \n",
       "\n",
       "          user_type  \n",
       "1313769  Subscriber  \n",
       "1313770  Subscriber  \n",
       "1313771  Subscriber  \n",
       "1313772  Subscriber  \n",
       "1313773  Subscriber  "
      ]
     },
     "execution_count": 40,
     "metadata": {},
     "output_type": "execute_result"
    }
   ],
   "source": [
    "df_Trips.tail()"
   ]
  },
  {
   "cell_type": "code",
   "execution_count": 41,
   "id": "da94d4aa",
   "metadata": {},
   "outputs": [],
   "source": [
    "df_Trips['start_hour'] = pd.DatetimeIndex(df_Trips['start_time']).hour\n",
    "df_Trips['weekday'] = pd.DatetimeIndex(df_Trips['start_time']).weekday\n",
    "df_Trips['duration'] = df_Trips['end_time'] - df_Trips['start_time']\n",
    "\n",
    "#sales['time_hour'] = pd.DatetimeIndex(sales['timestamp']).hour"
   ]
  },
  {
   "cell_type": "code",
   "execution_count": 53,
   "id": "2232c56a",
   "metadata": {},
   "outputs": [
    {
     "data": {
      "text/html": [
       "<div>\n",
       "<style scoped>\n",
       "    .dataframe tbody tr th:only-of-type {\n",
       "        vertical-align: middle;\n",
       "    }\n",
       "\n",
       "    .dataframe tbody tr th {\n",
       "        vertical-align: top;\n",
       "    }\n",
       "\n",
       "    .dataframe thead th {\n",
       "        text-align: right;\n",
       "    }\n",
       "</style>\n",
       "<table border=\"1\" class=\"dataframe\">\n",
       "  <thead>\n",
       "    <tr style=\"text-align: right;\">\n",
       "      <th></th>\n",
       "      <th>start_time</th>\n",
       "      <th>end_time</th>\n",
       "      <th>start_station_id</th>\n",
       "      <th>end_station_id</th>\n",
       "      <th>start_station_name</th>\n",
       "      <th>end_station_name</th>\n",
       "      <th>bike_id</th>\n",
       "      <th>user_type</th>\n",
       "      <th>start_hour</th>\n",
       "      <th>weekday</th>\n",
       "      <th>duration</th>\n",
       "    </tr>\n",
       "  </thead>\n",
       "  <tbody>\n",
       "    <tr>\n",
       "      <th>0</th>\n",
       "      <td>2017-01-01 00:06:58</td>\n",
       "      <td>2017-01-01 00:12:49</td>\n",
       "      <td>67</td>\n",
       "      <td>139</td>\n",
       "      <td>MIT at Mass Ave / Amherst St</td>\n",
       "      <td>Dana Park</td>\n",
       "      <td>644</td>\n",
       "      <td>Subscriber</td>\n",
       "      <td>0</td>\n",
       "      <td>6</td>\n",
       "      <td>0 days 00:05:51</td>\n",
       "    </tr>\n",
       "    <tr>\n",
       "      <th>1</th>\n",
       "      <td>2017-01-01 00:13:16</td>\n",
       "      <td>2017-01-01 00:28:07</td>\n",
       "      <td>36</td>\n",
       "      <td>10</td>\n",
       "      <td>Boston Public Library - 700 Boylston St.</td>\n",
       "      <td>B.U. Central - 725 Comm. Ave.</td>\n",
       "      <td>230</td>\n",
       "      <td>Subscriber</td>\n",
       "      <td>0</td>\n",
       "      <td>6</td>\n",
       "      <td>0 days 00:14:51</td>\n",
       "    </tr>\n",
       "    <tr>\n",
       "      <th>2</th>\n",
       "      <td>2017-01-01 00:16:17</td>\n",
       "      <td>2017-01-01 00:44:10</td>\n",
       "      <td>36</td>\n",
       "      <td>9</td>\n",
       "      <td>Boston Public Library - 700 Boylston St.</td>\n",
       "      <td>Agganis Arena - 925 Comm Ave.</td>\n",
       "      <td>980</td>\n",
       "      <td>Customer</td>\n",
       "      <td>0</td>\n",
       "      <td>6</td>\n",
       "      <td>0 days 00:27:53</td>\n",
       "    </tr>\n",
       "    <tr>\n",
       "      <th>3</th>\n",
       "      <td>2017-01-01 00:21:22</td>\n",
       "      <td>2017-01-01 00:33:50</td>\n",
       "      <td>46</td>\n",
       "      <td>19</td>\n",
       "      <td>Christian Science Plaza</td>\n",
       "      <td>Buswell St. at Park Dr.</td>\n",
       "      <td>1834</td>\n",
       "      <td>Subscriber</td>\n",
       "      <td>0</td>\n",
       "      <td>6</td>\n",
       "      <td>0 days 00:12:28</td>\n",
       "    </tr>\n",
       "    <tr>\n",
       "      <th>4</th>\n",
       "      <td>2017-01-01 00:30:06</td>\n",
       "      <td>2017-01-01 00:40:28</td>\n",
       "      <td>10</td>\n",
       "      <td>8</td>\n",
       "      <td>B.U. Central - 725 Comm. Ave.</td>\n",
       "      <td>Union Square - Brighton Ave. at Cambridge St.</td>\n",
       "      <td>230</td>\n",
       "      <td>Subscriber</td>\n",
       "      <td>0</td>\n",
       "      <td>6</td>\n",
       "      <td>0 days 00:10:22</td>\n",
       "    </tr>\n",
       "  </tbody>\n",
       "</table>\n",
       "</div>"
      ],
      "text/plain": [
       "           start_time            end_time  start_station_id  end_station_id  \\\n",
       "0 2017-01-01 00:06:58 2017-01-01 00:12:49                67             139   \n",
       "1 2017-01-01 00:13:16 2017-01-01 00:28:07                36              10   \n",
       "2 2017-01-01 00:16:17 2017-01-01 00:44:10                36               9   \n",
       "3 2017-01-01 00:21:22 2017-01-01 00:33:50                46              19   \n",
       "4 2017-01-01 00:30:06 2017-01-01 00:40:28                10               8   \n",
       "\n",
       "                         start_station_name  \\\n",
       "0              MIT at Mass Ave / Amherst St   \n",
       "1  Boston Public Library - 700 Boylston St.   \n",
       "2  Boston Public Library - 700 Boylston St.   \n",
       "3                   Christian Science Plaza   \n",
       "4             B.U. Central - 725 Comm. Ave.   \n",
       "\n",
       "                                end_station_name  bike_id   user_type  \\\n",
       "0                                      Dana Park      644  Subscriber   \n",
       "1                  B.U. Central - 725 Comm. Ave.      230  Subscriber   \n",
       "2                  Agganis Arena - 925 Comm Ave.      980    Customer   \n",
       "3                        Buswell St. at Park Dr.     1834  Subscriber   \n",
       "4  Union Square - Brighton Ave. at Cambridge St.      230  Subscriber   \n",
       "\n",
       "   start_hour  weekday        duration  \n",
       "0           0        6 0 days 00:05:51  \n",
       "1           0        6 0 days 00:14:51  \n",
       "2           0        6 0 days 00:27:53  \n",
       "3           0        6 0 days 00:12:28  \n",
       "4           0        6 0 days 00:10:22  "
      ]
     },
     "execution_count": 53,
     "metadata": {},
     "output_type": "execute_result"
    }
   ],
   "source": [
    "df_Trips.head(5)"
   ]
  },
  {
   "cell_type": "code",
   "execution_count": 59,
   "id": "c4bb8583",
   "metadata": {},
   "outputs": [
    {
     "data": {
      "text/html": [
       "<div>\n",
       "<style scoped>\n",
       "    .dataframe tbody tr th:only-of-type {\n",
       "        vertical-align: middle;\n",
       "    }\n",
       "\n",
       "    .dataframe tbody tr th {\n",
       "        vertical-align: top;\n",
       "    }\n",
       "\n",
       "    .dataframe thead th {\n",
       "        text-align: right;\n",
       "    }\n",
       "</style>\n",
       "<table border=\"1\" class=\"dataframe\">\n",
       "  <thead>\n",
       "    <tr style=\"text-align: right;\">\n",
       "      <th></th>\n",
       "      <th>start_time</th>\n",
       "      <th>end_time</th>\n",
       "      <th>start_station_id</th>\n",
       "      <th>end_station_id</th>\n",
       "      <th>start_station_name</th>\n",
       "      <th>end_station_name</th>\n",
       "      <th>bike_id</th>\n",
       "      <th>user_type</th>\n",
       "      <th>start_hour</th>\n",
       "      <th>weekday</th>\n",
       "      <th>duration</th>\n",
       "    </tr>\n",
       "  </thead>\n",
       "  <tbody>\n",
       "    <tr>\n",
       "      <th>294</th>\n",
       "      <td>2017-01-01 15:38:39</td>\n",
       "      <td>2017-01-01 16:06:53</td>\n",
       "      <td>175</td>\n",
       "      <td>33</td>\n",
       "      <td>Brighton Center</td>\n",
       "      <td>Kenmore Sq / Comm Ave</td>\n",
       "      <td>1640</td>\n",
       "      <td>Subscriber</td>\n",
       "      <td>15</td>\n",
       "      <td>6</td>\n",
       "      <td>0 days 00:28:14</td>\n",
       "    </tr>\n",
       "    <tr>\n",
       "      <th>762</th>\n",
       "      <td>2017-01-02 13:10:08</td>\n",
       "      <td>2017-01-02 13:31:07</td>\n",
       "      <td>175</td>\n",
       "      <td>21</td>\n",
       "      <td>Brighton Center</td>\n",
       "      <td>Prudential Center / Belvidere</td>\n",
       "      <td>1417</td>\n",
       "      <td>Subscriber</td>\n",
       "      <td>13</td>\n",
       "      <td>0</td>\n",
       "      <td>0 days 00:20:59</td>\n",
       "    </tr>\n",
       "    <tr>\n",
       "      <th>1333</th>\n",
       "      <td>2017-01-03 07:13:39</td>\n",
       "      <td>2017-01-03 07:39:35</td>\n",
       "      <td>175</td>\n",
       "      <td>42</td>\n",
       "      <td>Brighton Center</td>\n",
       "      <td>Boylston St. at Arlington St.</td>\n",
       "      <td>1535</td>\n",
       "      <td>Subscriber</td>\n",
       "      <td>7</td>\n",
       "      <td>1</td>\n",
       "      <td>0 days 00:25:56</td>\n",
       "    </tr>\n",
       "    <tr>\n",
       "      <th>61976</th>\n",
       "      <td>2017-03-28 07:45:35</td>\n",
       "      <td>2017-03-28 08:12:18</td>\n",
       "      <td>175</td>\n",
       "      <td>91</td>\n",
       "      <td>Brighton Center - Washington St at Cambridge St</td>\n",
       "      <td>One Kendall Square at Hampshire St / Portland St</td>\n",
       "      <td>343</td>\n",
       "      <td>Subscriber</td>\n",
       "      <td>7</td>\n",
       "      <td>1</td>\n",
       "      <td>0 days 00:26:43</td>\n",
       "    </tr>\n",
       "    <tr>\n",
       "      <th>62575</th>\n",
       "      <td>2017-03-28 12:24:16</td>\n",
       "      <td>2017-03-28 12:28:14</td>\n",
       "      <td>175</td>\n",
       "      <td>8</td>\n",
       "      <td>Brighton Center - Washington St at Cambridge St</td>\n",
       "      <td>Union Square - Brighton Ave at Cambridge St</td>\n",
       "      <td>127</td>\n",
       "      <td>Subscriber</td>\n",
       "      <td>12</td>\n",
       "      <td>1</td>\n",
       "      <td>0 days 00:03:58</td>\n",
       "    </tr>\n",
       "    <tr>\n",
       "      <th>...</th>\n",
       "      <td>...</td>\n",
       "      <td>...</td>\n",
       "      <td>...</td>\n",
       "      <td>...</td>\n",
       "      <td>...</td>\n",
       "      <td>...</td>\n",
       "      <td>...</td>\n",
       "      <td>...</td>\n",
       "      <td>...</td>\n",
       "      <td>...</td>\n",
       "      <td>...</td>\n",
       "    </tr>\n",
       "    <tr>\n",
       "      <th>1312673</th>\n",
       "      <td>2017-12-28 10:23:06</td>\n",
       "      <td>2017-12-28 10:31:32</td>\n",
       "      <td>175</td>\n",
       "      <td>69</td>\n",
       "      <td>Brighton Center - Washington St at Cambridge St</td>\n",
       "      <td>Coolidge Corner - Beacon St @ Centre St</td>\n",
       "      <td>862</td>\n",
       "      <td>Subscriber</td>\n",
       "      <td>10</td>\n",
       "      <td>3</td>\n",
       "      <td>0 days 00:08:26</td>\n",
       "    </tr>\n",
       "    <tr>\n",
       "      <th>1312875</th>\n",
       "      <td>2017-12-28 17:51:25</td>\n",
       "      <td>2017-12-28 18:12:45</td>\n",
       "      <td>175</td>\n",
       "      <td>82</td>\n",
       "      <td>Brighton Center - Washington St at Cambridge St</td>\n",
       "      <td>Washington Square at Washington St. / Beacon S...</td>\n",
       "      <td>1842</td>\n",
       "      <td>Subscriber</td>\n",
       "      <td>17</td>\n",
       "      <td>3</td>\n",
       "      <td>0 days 00:21:20</td>\n",
       "    </tr>\n",
       "    <tr>\n",
       "      <th>1313082</th>\n",
       "      <td>2017-12-29 10:27:59</td>\n",
       "      <td>2017-12-29 10:37:45</td>\n",
       "      <td>175</td>\n",
       "      <td>69</td>\n",
       "      <td>Brighton Center - Washington St at Cambridge St</td>\n",
       "      <td>Coolidge Corner - Beacon St @ Centre St</td>\n",
       "      <td>1772</td>\n",
       "      <td>Subscriber</td>\n",
       "      <td>10</td>\n",
       "      <td>4</td>\n",
       "      <td>0 days 00:09:46</td>\n",
       "    </tr>\n",
       "    <tr>\n",
       "      <th>1313119</th>\n",
       "      <td>2017-12-29 12:12:40</td>\n",
       "      <td>2017-12-29 12:22:35</td>\n",
       "      <td>175</td>\n",
       "      <td>41</td>\n",
       "      <td>Brighton Center - Washington St at Cambridge St</td>\n",
       "      <td>Packard's Corner - Commonwealth Ave at Brighto...</td>\n",
       "      <td>1777</td>\n",
       "      <td>Subscriber</td>\n",
       "      <td>12</td>\n",
       "      <td>4</td>\n",
       "      <td>0 days 00:09:55</td>\n",
       "    </tr>\n",
       "    <tr>\n",
       "      <th>1313750</th>\n",
       "      <td>2017-12-31 19:24:10</td>\n",
       "      <td>2017-12-31 19:29:02</td>\n",
       "      <td>175</td>\n",
       "      <td>8</td>\n",
       "      <td>Brighton Center - Washington St at Cambridge St</td>\n",
       "      <td>Union Square - Brighton Ave at Cambridge St</td>\n",
       "      <td>1636</td>\n",
       "      <td>Subscriber</td>\n",
       "      <td>19</td>\n",
       "      <td>6</td>\n",
       "      <td>0 days 00:04:52</td>\n",
       "    </tr>\n",
       "  </tbody>\n",
       "</table>\n",
       "<p>2374 rows × 11 columns</p>\n",
       "</div>"
      ],
      "text/plain": [
       "                 start_time            end_time  start_station_id  \\\n",
       "294     2017-01-01 15:38:39 2017-01-01 16:06:53               175   \n",
       "762     2017-01-02 13:10:08 2017-01-02 13:31:07               175   \n",
       "1333    2017-01-03 07:13:39 2017-01-03 07:39:35               175   \n",
       "61976   2017-03-28 07:45:35 2017-03-28 08:12:18               175   \n",
       "62575   2017-03-28 12:24:16 2017-03-28 12:28:14               175   \n",
       "...                     ...                 ...               ...   \n",
       "1312673 2017-12-28 10:23:06 2017-12-28 10:31:32               175   \n",
       "1312875 2017-12-28 17:51:25 2017-12-28 18:12:45               175   \n",
       "1313082 2017-12-29 10:27:59 2017-12-29 10:37:45               175   \n",
       "1313119 2017-12-29 12:12:40 2017-12-29 12:22:35               175   \n",
       "1313750 2017-12-31 19:24:10 2017-12-31 19:29:02               175   \n",
       "\n",
       "         end_station_id                               start_station_name  \\\n",
       "294                  33                                  Brighton Center   \n",
       "762                  21                                  Brighton Center   \n",
       "1333                 42                                  Brighton Center   \n",
       "61976                91  Brighton Center - Washington St at Cambridge St   \n",
       "62575                 8  Brighton Center - Washington St at Cambridge St   \n",
       "...                 ...                                              ...   \n",
       "1312673              69  Brighton Center - Washington St at Cambridge St   \n",
       "1312875              82  Brighton Center - Washington St at Cambridge St   \n",
       "1313082              69  Brighton Center - Washington St at Cambridge St   \n",
       "1313119              41  Brighton Center - Washington St at Cambridge St   \n",
       "1313750               8  Brighton Center - Washington St at Cambridge St   \n",
       "\n",
       "                                          end_station_name  bike_id  \\\n",
       "294                                  Kenmore Sq / Comm Ave     1640   \n",
       "762                          Prudential Center / Belvidere     1417   \n",
       "1333                         Boylston St. at Arlington St.     1535   \n",
       "61976     One Kendall Square at Hampshire St / Portland St      343   \n",
       "62575          Union Square - Brighton Ave at Cambridge St      127   \n",
       "...                                                    ...      ...   \n",
       "1312673            Coolidge Corner - Beacon St @ Centre St      862   \n",
       "1312875  Washington Square at Washington St. / Beacon S...     1842   \n",
       "1313082            Coolidge Corner - Beacon St @ Centre St     1772   \n",
       "1313119  Packard's Corner - Commonwealth Ave at Brighto...     1777   \n",
       "1313750        Union Square - Brighton Ave at Cambridge St     1636   \n",
       "\n",
       "          user_type  start_hour  weekday        duration  \n",
       "294      Subscriber          15        6 0 days 00:28:14  \n",
       "762      Subscriber          13        0 0 days 00:20:59  \n",
       "1333     Subscriber           7        1 0 days 00:25:56  \n",
       "61976    Subscriber           7        1 0 days 00:26:43  \n",
       "62575    Subscriber          12        1 0 days 00:03:58  \n",
       "...             ...         ...      ...             ...  \n",
       "1312673  Subscriber          10        3 0 days 00:08:26  \n",
       "1312875  Subscriber          17        3 0 days 00:21:20  \n",
       "1313082  Subscriber          10        4 0 days 00:09:46  \n",
       "1313119  Subscriber          12        4 0 days 00:09:55  \n",
       "1313750  Subscriber          19        6 0 days 00:04:52  \n",
       "\n",
       "[2374 rows x 11 columns]"
      ]
     },
     "execution_count": 59,
     "metadata": {},
     "output_type": "execute_result"
    }
   ],
   "source": [
    "df_Trips[df_Trips['start_station_id'] == 175]"
   ]
  },
  {
   "cell_type": "code",
   "execution_count": 42,
   "id": "0bb22686",
   "metadata": {},
   "outputs": [
    {
     "data": {
      "text/plain": [
       "Timedelta('48 days 08:40:21')"
      ]
     },
     "execution_count": 42,
     "metadata": {},
     "output_type": "execute_result"
    }
   ],
   "source": [
    "df_Trips['duration'].max()"
   ]
  },
  {
   "cell_type": "code",
   "execution_count": 43,
   "id": "a73a3c18",
   "metadata": {},
   "outputs": [
    {
     "data": {
      "text/plain": [
       "Timedelta('-1 days +23:06:07')"
      ]
     },
     "execution_count": 43,
     "metadata": {},
     "output_type": "execute_result"
    }
   ],
   "source": [
    "df_Trips['duration'].min()"
   ]
  },
  {
   "cell_type": "markdown",
   "id": "1c574f4d",
   "metadata": {},
   "source": [
    "### Weather data Cleaning "
   ]
  },
  {
   "cell_type": "code",
   "execution_count": 44,
   "id": "558de89e",
   "metadata": {},
   "outputs": [
    {
     "name": "stdout",
     "output_type": "stream",
     "text": [
      "<class 'pandas.core.frame.DataFrame'>\n",
      "RangeIndex: 43848 entries, 0 to 43847\n",
      "Data columns (total 4 columns):\n",
      " #   Column     Non-Null Count  Dtype  \n",
      "---  ------     --------------  -----  \n",
      " 0   date_time  43354 non-null  object \n",
      " 1   max_temp   43354 non-null  float64\n",
      " 2   min_temp   43354 non-null  float64\n",
      " 3   precip     43356 non-null  float64\n",
      "dtypes: float64(3), object(1)\n",
      "memory usage: 1.3+ MB\n"
     ]
    }
   ],
   "source": [
    "df_Weather.info()"
   ]
  },
  {
   "cell_type": "code",
   "execution_count": 45,
   "id": "2bb709e0",
   "metadata": {},
   "outputs": [
    {
     "data": {
      "text/plain": [
       "1974"
      ]
     },
     "execution_count": 45,
     "metadata": {},
     "output_type": "execute_result"
    }
   ],
   "source": [
    "df_Weather.isnull().values.sum()"
   ]
  },
  {
   "cell_type": "code",
   "execution_count": 46,
   "id": "4df6a0d7",
   "metadata": {},
   "outputs": [
    {
     "data": {
      "text/html": [
       "<div>\n",
       "<style scoped>\n",
       "    .dataframe tbody tr th:only-of-type {\n",
       "        vertical-align: middle;\n",
       "    }\n",
       "\n",
       "    .dataframe tbody tr th {\n",
       "        vertical-align: top;\n",
       "    }\n",
       "\n",
       "    .dataframe thead th {\n",
       "        text-align: right;\n",
       "    }\n",
       "</style>\n",
       "<table border=\"1\" class=\"dataframe\">\n",
       "  <thead>\n",
       "    <tr style=\"text-align: right;\">\n",
       "      <th></th>\n",
       "      <th>date_time</th>\n",
       "      <th>max_temp</th>\n",
       "      <th>min_temp</th>\n",
       "      <th>precip</th>\n",
       "    </tr>\n",
       "  </thead>\n",
       "  <tbody>\n",
       "    <tr>\n",
       "      <th>0</th>\n",
       "      <td>2015-01-02 01:00:00</td>\n",
       "      <td>-1.1</td>\n",
       "      <td>-1.1</td>\n",
       "      <td>0.0</td>\n",
       "    </tr>\n",
       "    <tr>\n",
       "      <th>1</th>\n",
       "      <td>2015-01-02 02:00:00</td>\n",
       "      <td>-1.1</td>\n",
       "      <td>-1.1</td>\n",
       "      <td>0.0</td>\n",
       "    </tr>\n",
       "    <tr>\n",
       "      <th>2</th>\n",
       "      <td>2015-01-02 03:00:00</td>\n",
       "      <td>-0.6</td>\n",
       "      <td>-0.6</td>\n",
       "      <td>0.0</td>\n",
       "    </tr>\n",
       "    <tr>\n",
       "      <th>3</th>\n",
       "      <td>2015-01-02 04:00:00</td>\n",
       "      <td>-0.6</td>\n",
       "      <td>-0.6</td>\n",
       "      <td>0.0</td>\n",
       "    </tr>\n",
       "    <tr>\n",
       "      <th>4</th>\n",
       "      <td>2015-01-02 05:00:00</td>\n",
       "      <td>-0.6</td>\n",
       "      <td>-0.6</td>\n",
       "      <td>0.0</td>\n",
       "    </tr>\n",
       "  </tbody>\n",
       "</table>\n",
       "</div>"
      ],
      "text/plain": [
       "             date_time  max_temp  min_temp  precip\n",
       "0  2015-01-02 01:00:00      -1.1      -1.1     0.0\n",
       "1  2015-01-02 02:00:00      -1.1      -1.1     0.0\n",
       "2  2015-01-02 03:00:00      -0.6      -0.6     0.0\n",
       "3  2015-01-02 04:00:00      -0.6      -0.6     0.0\n",
       "4  2015-01-02 05:00:00      -0.6      -0.6     0.0"
      ]
     },
     "execution_count": 46,
     "metadata": {},
     "output_type": "execute_result"
    }
   ],
   "source": [
    "df_Weather.head(5)"
   ]
  },
  {
   "cell_type": "code",
   "execution_count": 47,
   "id": "69776235",
   "metadata": {},
   "outputs": [
    {
     "data": {
      "text/html": [
       "<div>\n",
       "<style scoped>\n",
       "    .dataframe tbody tr th:only-of-type {\n",
       "        vertical-align: middle;\n",
       "    }\n",
       "\n",
       "    .dataframe tbody tr th {\n",
       "        vertical-align: top;\n",
       "    }\n",
       "\n",
       "    .dataframe thead th {\n",
       "        text-align: right;\n",
       "    }\n",
       "</style>\n",
       "<table border=\"1\" class=\"dataframe\">\n",
       "  <thead>\n",
       "    <tr style=\"text-align: right;\">\n",
       "      <th></th>\n",
       "      <th>date_time</th>\n",
       "      <th>max_temp</th>\n",
       "      <th>min_temp</th>\n",
       "      <th>precip</th>\n",
       "    </tr>\n",
       "  </thead>\n",
       "  <tbody>\n",
       "    <tr>\n",
       "      <th>43843</th>\n",
       "      <td>2020-01-01 20:00:00</td>\n",
       "      <td>5.0</td>\n",
       "      <td>5.0</td>\n",
       "      <td>0.0</td>\n",
       "    </tr>\n",
       "    <tr>\n",
       "      <th>43844</th>\n",
       "      <td>2020-01-01 21:00:00</td>\n",
       "      <td>4.4</td>\n",
       "      <td>4.4</td>\n",
       "      <td>0.0</td>\n",
       "    </tr>\n",
       "    <tr>\n",
       "      <th>43845</th>\n",
       "      <td>2020-01-01 22:00:00</td>\n",
       "      <td>4.4</td>\n",
       "      <td>4.4</td>\n",
       "      <td>0.0</td>\n",
       "    </tr>\n",
       "    <tr>\n",
       "      <th>43846</th>\n",
       "      <td>2020-01-01 23:00:00</td>\n",
       "      <td>3.9</td>\n",
       "      <td>3.9</td>\n",
       "      <td>0.0</td>\n",
       "    </tr>\n",
       "    <tr>\n",
       "      <th>43847</th>\n",
       "      <td>2020-01-02 00:00:00</td>\n",
       "      <td>3.3</td>\n",
       "      <td>3.3</td>\n",
       "      <td>0.0</td>\n",
       "    </tr>\n",
       "  </tbody>\n",
       "</table>\n",
       "</div>"
      ],
      "text/plain": [
       "                 date_time  max_temp  min_temp  precip\n",
       "43843  2020-01-01 20:00:00       5.0       5.0     0.0\n",
       "43844  2020-01-01 21:00:00       4.4       4.4     0.0\n",
       "43845  2020-01-01 22:00:00       4.4       4.4     0.0\n",
       "43846  2020-01-01 23:00:00       3.9       3.9     0.0\n",
       "43847  2020-01-02 00:00:00       3.3       3.3     0.0"
      ]
     },
     "execution_count": 47,
     "metadata": {},
     "output_type": "execute_result"
    }
   ],
   "source": [
    "df_Weather.tail(5)"
   ]
  },
  {
   "cell_type": "markdown",
   "id": "d9d78ed1",
   "metadata": {},
   "source": [
    "The dataset containing information about the weather reaches from 2015 - 2020. As only data of 2017 is needed, the data can limited to this year. "
   ]
  },
  {
   "cell_type": "code",
   "execution_count": 48,
   "id": "a8e84a6d",
   "metadata": {},
   "outputs": [],
   "source": [
    "df_Weather['date_time'] = pd.to_datetime(df_Weather['date_time'])\n",
    "\n",
    "df_Weather2 = df_Weather[(df_Weather['date_time'] > \"2017-01-01\") & (df_Weather['date_time'] < \"2018-01-01\")]\n"
   ]
  },
  {
   "cell_type": "code",
   "execution_count": 49,
   "id": "3b918b8a",
   "metadata": {},
   "outputs": [
    {
     "name": "stdout",
     "output_type": "stream",
     "text": [
      "<class 'pandas.core.frame.DataFrame'>\n",
      "Int64Index: 8689 entries, 17520 to 26302\n",
      "Data columns (total 4 columns):\n",
      " #   Column     Non-Null Count  Dtype         \n",
      "---  ------     --------------  -----         \n",
      " 0   date_time  8689 non-null   datetime64[ns]\n",
      " 1   max_temp   8689 non-null   float64       \n",
      " 2   min_temp   8689 non-null   float64       \n",
      " 3   precip     8689 non-null   float64       \n",
      "dtypes: datetime64[ns](1), float64(3)\n",
      "memory usage: 339.4 KB\n"
     ]
    }
   ],
   "source": [
    "df_Weather2.info()"
   ]
  },
  {
   "cell_type": "markdown",
   "id": "63cad4f5",
   "metadata": {},
   "source": [
    "To display information about every hour in 2017 the weather data should contain 365 * 24 = 8760 rows. As the filtered dataframe only has 8689 entries, information about 71 hours is missing. "
   ]
  },
  {
   "cell_type": "code",
   "execution_count": 50,
   "id": "8fe59e73",
   "metadata": {},
   "outputs": [
    {
     "data": {
      "text/plain": [
       "0"
      ]
     },
     "execution_count": 50,
     "metadata": {},
     "output_type": "execute_result"
    }
   ],
   "source": [
    "df_Weather2.isnull().values.sum()"
   ]
  },
  {
   "cell_type": "markdown",
   "id": "83395888",
   "metadata": {},
   "source": [
    "Fortunatley no NA values are in the dataset anymore."
   ]
  },
  {
   "cell_type": "code",
   "execution_count": 51,
   "id": "7f85e67a",
   "metadata": {},
   "outputs": [
    {
     "data": {
      "text/html": [
       "<div>\n",
       "<style scoped>\n",
       "    .dataframe tbody tr th:only-of-type {\n",
       "        vertical-align: middle;\n",
       "    }\n",
       "\n",
       "    .dataframe tbody tr th {\n",
       "        vertical-align: top;\n",
       "    }\n",
       "\n",
       "    .dataframe thead th {\n",
       "        text-align: right;\n",
       "    }\n",
       "</style>\n",
       "<table border=\"1\" class=\"dataframe\">\n",
       "  <thead>\n",
       "    <tr style=\"text-align: right;\">\n",
       "      <th></th>\n",
       "      <th>date_time</th>\n",
       "      <th>max_temp</th>\n",
       "      <th>min_temp</th>\n",
       "      <th>precip</th>\n",
       "    </tr>\n",
       "  </thead>\n",
       "  <tbody>\n",
       "    <tr>\n",
       "      <th>17520</th>\n",
       "      <td>2017-01-01 01:00:00</td>\n",
       "      <td>4.4</td>\n",
       "      <td>4.4</td>\n",
       "      <td>0.0</td>\n",
       "    </tr>\n",
       "    <tr>\n",
       "      <th>17521</th>\n",
       "      <td>2017-01-01 02:00:00</td>\n",
       "      <td>5.0</td>\n",
       "      <td>5.0</td>\n",
       "      <td>1.0</td>\n",
       "    </tr>\n",
       "    <tr>\n",
       "      <th>17522</th>\n",
       "      <td>2017-01-01 03:00:00</td>\n",
       "      <td>5.0</td>\n",
       "      <td>5.0</td>\n",
       "      <td>1.0</td>\n",
       "    </tr>\n",
       "    <tr>\n",
       "      <th>17523</th>\n",
       "      <td>2017-01-01 04:00:00</td>\n",
       "      <td>5.0</td>\n",
       "      <td>4.4</td>\n",
       "      <td>1.0</td>\n",
       "    </tr>\n",
       "    <tr>\n",
       "      <th>17524</th>\n",
       "      <td>2017-01-01 05:00:00</td>\n",
       "      <td>4.4</td>\n",
       "      <td>4.4</td>\n",
       "      <td>1.0</td>\n",
       "    </tr>\n",
       "  </tbody>\n",
       "</table>\n",
       "</div>"
      ],
      "text/plain": [
       "                date_time  max_temp  min_temp  precip\n",
       "17520 2017-01-01 01:00:00       4.4       4.4     0.0\n",
       "17521 2017-01-01 02:00:00       5.0       5.0     1.0\n",
       "17522 2017-01-01 03:00:00       5.0       5.0     1.0\n",
       "17523 2017-01-01 04:00:00       5.0       4.4     1.0\n",
       "17524 2017-01-01 05:00:00       4.4       4.4     1.0"
      ]
     },
     "execution_count": 51,
     "metadata": {},
     "output_type": "execute_result"
    }
   ],
   "source": [
    "df_Weather2.head(5)"
   ]
  },
  {
   "cell_type": "code",
   "execution_count": 52,
   "id": "6b62cf31",
   "metadata": {},
   "outputs": [
    {
     "data": {
      "text/html": [
       "<div>\n",
       "<style scoped>\n",
       "    .dataframe tbody tr th:only-of-type {\n",
       "        vertical-align: middle;\n",
       "    }\n",
       "\n",
       "    .dataframe tbody tr th {\n",
       "        vertical-align: top;\n",
       "    }\n",
       "\n",
       "    .dataframe thead th {\n",
       "        text-align: right;\n",
       "    }\n",
       "</style>\n",
       "<table border=\"1\" class=\"dataframe\">\n",
       "  <thead>\n",
       "    <tr style=\"text-align: right;\">\n",
       "      <th></th>\n",
       "      <th>date_time</th>\n",
       "      <th>max_temp</th>\n",
       "      <th>min_temp</th>\n",
       "      <th>precip</th>\n",
       "    </tr>\n",
       "  </thead>\n",
       "  <tbody>\n",
       "    <tr>\n",
       "      <th>26298</th>\n",
       "      <td>2017-12-31 19:00:00</td>\n",
       "      <td>-11.1</td>\n",
       "      <td>-11.1</td>\n",
       "      <td>0.0</td>\n",
       "    </tr>\n",
       "    <tr>\n",
       "      <th>26299</th>\n",
       "      <td>2017-12-31 20:00:00</td>\n",
       "      <td>-10.6</td>\n",
       "      <td>-10.6</td>\n",
       "      <td>0.0</td>\n",
       "    </tr>\n",
       "    <tr>\n",
       "      <th>26300</th>\n",
       "      <td>2017-12-31 21:00:00</td>\n",
       "      <td>-11.1</td>\n",
       "      <td>-11.1</td>\n",
       "      <td>0.0</td>\n",
       "    </tr>\n",
       "    <tr>\n",
       "      <th>26301</th>\n",
       "      <td>2017-12-31 22:00:00</td>\n",
       "      <td>-11.7</td>\n",
       "      <td>-11.7</td>\n",
       "      <td>0.0</td>\n",
       "    </tr>\n",
       "    <tr>\n",
       "      <th>26302</th>\n",
       "      <td>2017-12-31 23:00:00</td>\n",
       "      <td>-11.1</td>\n",
       "      <td>-11.1</td>\n",
       "      <td>0.0</td>\n",
       "    </tr>\n",
       "  </tbody>\n",
       "</table>\n",
       "</div>"
      ],
      "text/plain": [
       "                date_time  max_temp  min_temp  precip\n",
       "26298 2017-12-31 19:00:00     -11.1     -11.1     0.0\n",
       "26299 2017-12-31 20:00:00     -10.6     -10.6     0.0\n",
       "26300 2017-12-31 21:00:00     -11.1     -11.1     0.0\n",
       "26301 2017-12-31 22:00:00     -11.7     -11.7     0.0\n",
       "26302 2017-12-31 23:00:00     -11.1     -11.1     0.0"
      ]
     },
     "execution_count": 52,
     "metadata": {},
     "output_type": "execute_result"
    }
   ],
   "source": [
    "df_Weather2.tail(5)"
   ]
  },
  {
   "cell_type": "code",
   "execution_count": null,
   "id": "04540d0e",
   "metadata": {},
   "outputs": [],
   "source": []
  },
  {
   "cell_type": "code",
   "execution_count": 57,
   "id": "01140539",
   "metadata": {},
   "outputs": [
    {
     "data": {
      "text/html": [
       "<div>\n",
       "<style scoped>\n",
       "    .dataframe tbody tr th:only-of-type {\n",
       "        vertical-align: middle;\n",
       "    }\n",
       "\n",
       "    .dataframe tbody tr th {\n",
       "        vertical-align: top;\n",
       "    }\n",
       "\n",
       "    .dataframe thead th {\n",
       "        text-align: right;\n",
       "    }\n",
       "</style>\n",
       "<table border=\"1\" class=\"dataframe\">\n",
       "  <thead>\n",
       "    <tr style=\"text-align: right;\">\n",
       "      <th></th>\n",
       "      <th>Number</th>\n",
       "      <th>Name</th>\n",
       "      <th>Latitude</th>\n",
       "      <th>Longitude</th>\n",
       "      <th>District</th>\n",
       "      <th>Public</th>\n",
       "      <th>Total docks</th>\n",
       "    </tr>\n",
       "  </thead>\n",
       "  <tbody>\n",
       "    <tr>\n",
       "      <th>0</th>\n",
       "      <td>K32015</td>\n",
       "      <td>1200 Beacon St</td>\n",
       "      <td>42.344149</td>\n",
       "      <td>-71.114674</td>\n",
       "      <td>Brookline</td>\n",
       "      <td>Yes</td>\n",
       "      <td>15</td>\n",
       "    </tr>\n",
       "    <tr>\n",
       "      <th>1</th>\n",
       "      <td>W32006</td>\n",
       "      <td>160 Arsenal</td>\n",
       "      <td>42.364664</td>\n",
       "      <td>-71.175694</td>\n",
       "      <td>Watertown</td>\n",
       "      <td>Yes</td>\n",
       "      <td>11</td>\n",
       "    </tr>\n",
       "    <tr>\n",
       "      <th>2</th>\n",
       "      <td>A32019</td>\n",
       "      <td>175 N Harvard St</td>\n",
       "      <td>42.363796</td>\n",
       "      <td>-71.129164</td>\n",
       "      <td>Boston</td>\n",
       "      <td>Yes</td>\n",
       "      <td>18</td>\n",
       "    </tr>\n",
       "    <tr>\n",
       "      <th>3</th>\n",
       "      <td>S32035</td>\n",
       "      <td>191 Beacon St</td>\n",
       "      <td>42.380323</td>\n",
       "      <td>-71.108786</td>\n",
       "      <td>Somerville</td>\n",
       "      <td>Yes</td>\n",
       "      <td>19</td>\n",
       "    </tr>\n",
       "    <tr>\n",
       "      <th>4</th>\n",
       "      <td>C32094</td>\n",
       "      <td>2 Hummingbird Lane at Olmsted Green</td>\n",
       "      <td>42.288870</td>\n",
       "      <td>-71.095003</td>\n",
       "      <td>Boston</td>\n",
       "      <td>Yes</td>\n",
       "      <td>17</td>\n",
       "    </tr>\n",
       "  </tbody>\n",
       "</table>\n",
       "</div>"
      ],
      "text/plain": [
       "   Number                                 Name   Latitude  Longitude  \\\n",
       "0  K32015                       1200 Beacon St  42.344149 -71.114674   \n",
       "1  W32006                          160 Arsenal  42.364664 -71.175694   \n",
       "2  A32019                     175 N Harvard St  42.363796 -71.129164   \n",
       "3  S32035                        191 Beacon St  42.380323 -71.108786   \n",
       "4  C32094  2 Hummingbird Lane at Olmsted Green  42.288870 -71.095003   \n",
       "\n",
       "     District Public  Total docks  \n",
       "0   Brookline    Yes           15  \n",
       "1   Watertown    Yes           11  \n",
       "2      Boston    Yes           18  \n",
       "3  Somerville    Yes           19  \n",
       "4      Boston    Yes           17  "
      ]
     },
     "execution_count": 57,
     "metadata": {},
     "output_type": "execute_result"
    }
   ],
   "source": [
    "df_Stations.head()"
   ]
  },
  {
   "cell_type": "code",
   "execution_count": null,
   "id": "13e7d273",
   "metadata": {},
   "outputs": [],
   "source": []
  }
 ],
 "metadata": {
  "kernelspec": {
   "display_name": "Python 3 (ipykernel)",
   "language": "python",
   "name": "python3"
  },
  "language_info": {
   "codemirror_mode": {
    "name": "ipython",
    "version": 3
   },
   "file_extension": ".py",
   "mimetype": "text/x-python",
   "name": "python",
   "nbconvert_exporter": "python",
   "pygments_lexer": "ipython3",
   "version": "3.9.7"
  }
 },
 "nbformat": 4,
 "nbformat_minor": 5
}
