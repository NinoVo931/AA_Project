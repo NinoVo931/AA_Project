{
 "cells": [
  {
   "cell_type": "markdown",
   "id": "a47fcd17",
   "metadata": {},
   "source": [
    "# 3 Predictive Analytics: \n",
    "Future demand is a key factor that will steer operational decision making of a shared rental network. As a data scientist it is your responsibility to facilitate this type of decision support. For the purpose of this assignment we will be interested in **forecasting total system-level demand in the next hour**. To do so, develop a prediction model that **predicts bike rental demand as a function of suitable features available in or derived from the datasets (incl. the weather data).**\n",
    "\n",
    "1. Feature Engineering: **Develop a rich set of features that you expect to be correlated with your target**. In this process you can draw on your domain knowledge and/or conduct additional research around the topic of demand prediction in vehicle rental networks. Justify your selection of features.\n",
    "\n",
    "2. Model Building: Select **three regression algorithms** that are suitable for the prediction task at hand. **Explain and justify** why you selected the three algorithms and describe their respective advantages and drawbacks.\n",
    "\n",
    "3. Model Evaluation: **How well do the models perform? Evaluate and benchmark your models’ performance using suitable evaluation metrics. Which model would you select for deployment?**\n",
    "\n",
    "4. Outlook: How could the selected model be improved further? Explain some of the improvement levers that you might focus on in a follow-up project."
   ]
  },
  {
   "cell_type": "markdown",
   "id": "dab9576a",
   "metadata": {},
   "source": [
    "Notes and tipps\n",
    "\n",
    "- Make generous use of visualization techniques to clearly illustrate your findings and present them in an appealing fashion.\n",
    "- Evaluate your methodology and clearly state why you have opted for a specific approach in your analysis.\n",
    "- Relate your findings to the real world and interpret them for non-technical audiences (e.g. What do the coefficients in your regression model mean?, What does the achieved error mean for your model?, etc.)\n",
    "- Make sure to clearly state the implications (i.e. the ”so what?”) of your findings for managers/decision makers."
   ]
  },
  {
   "cell_type": "markdown",
   "id": "8919664c",
   "metadata": {},
   "source": [
    "## 3.1 Import"
   ]
  },
  {
   "cell_type": "code",
   "execution_count": 5,
   "id": "357e84df",
   "metadata": {},
   "outputs": [],
   "source": [
    "import pandas as pd\n",
    "import numpy as np\n",
    "import matplotlib as mpl\n",
    "import matplotlib.pyplot as plt\n",
    "import xgboost as xgb\n",
    "import seaborn as sns\n",
    "import statistics\n",
    "\n",
    "\n",
    "from sklearn.linear_model import LinearRegression\n",
    "from sklearn.metrics import mean_squared_error, mean_absolute_error, r2_score\n",
    "from sklearn.model_selection import train_test_split\n",
    "from sklearn.preprocessing import StandardScaler\n",
    "from sklearn.preprocessing import PolynomialFeatures\n",
    "from sklearn.model_selection import KFold\n",
    "from sklearn.model_selection import cross_val_score\n",
    "from sklearn.model_selection import GridSearchCV\n",
    "from sklearn.ensemble import RandomForestRegressor,BaggingRegressor,GradientBoostingRegressor,AdaBoostRegressor\n",
    "from sklearn.svm import SVR\n",
    "from sklearn.neighbors import KNeighborsRegressor\n",
    "\n",
    "\n",
    "%matplotlib inline"
   ]
  },
  {
   "cell_type": "markdown",
   "id": "8fdb49cc",
   "metadata": {},
   "source": [
    "Import of data"
   ]
  },
  {
   "cell_type": "code",
   "execution_count": 7,
   "id": "f244ea45",
   "metadata": {},
   "outputs": [],
   "source": [
    "df_trips = pd.read_csv('data/boston_2017_cleaned_trips.csv')\n",
    "df_weather = pd.read_csv('data/weather_2017_cleaned.csv')"
   ]
  },
  {
   "cell_type": "markdown",
   "id": "019f6531",
   "metadata": {},
   "source": [
    "## 3.2 Data Preparation\n",
    "\n",
    "In advance of building the models suitable variables are enginered that help the prediction. "
   ]
  },
  {
   "cell_type": "code",
   "execution_count": 8,
   "id": "993f5d73",
   "metadata": {
    "scrolled": true
   },
   "outputs": [
    {
     "name": "stdout",
     "output_type": "stream",
     "text": [
      "<class 'pandas.core.frame.DataFrame'>\n",
      "RangeIndex: 1310760 entries, 0 to 1310759\n",
      "Data columns (total 12 columns):\n",
      " #   Column              Non-Null Count    Dtype  \n",
      "---  ------              --------------    -----  \n",
      " 0   start_time          1310760 non-null  object \n",
      " 1   end_time            1310760 non-null  object \n",
      " 2   start_station_id    1310760 non-null  int64  \n",
      " 3   end_station_id      1310760 non-null  int64  \n",
      " 4   start_station_name  1310760 non-null  object \n",
      " 5   end_station_name    1310760 non-null  object \n",
      " 6   bike_id             1310760 non-null  int64  \n",
      " 7   user_type           1310760 non-null  object \n",
      " 8   start_hour          1310760 non-null  int64  \n",
      " 9   weekday             1310760 non-null  int64  \n",
      " 10  duration            1310760 non-null  float64\n",
      " 11  month               1310760 non-null  int64  \n",
      "dtypes: float64(1), int64(6), object(5)\n",
      "memory usage: 120.0+ MB\n"
     ]
    }
   ],
   "source": [
    "df_trips.info()"
   ]
  },
  {
   "cell_type": "markdown",
   "id": "24b22d44",
   "metadata": {},
   "source": [
    "Our pre-processed data already contains various information about the temporal patterns e.g. the start time furthermore the hour, weekday and month of the trips."
   ]
  },
  {
   "cell_type": "code",
   "execution_count": 9,
   "id": "81731d07",
   "metadata": {
    "scrolled": true
   },
   "outputs": [
    {
     "name": "stdout",
     "output_type": "stream",
     "text": [
      "<class 'pandas.core.frame.DataFrame'>\n",
      "RangeIndex: 8760 entries, 0 to 8759\n",
      "Data columns (total 4 columns):\n",
      " #   Column     Non-Null Count  Dtype  \n",
      "---  ------     --------------  -----  \n",
      " 0   max_temp   8760 non-null   float64\n",
      " 1   min_temp   8760 non-null   float64\n",
      " 2   precip     8760 non-null   float64\n",
      " 3   date_time  8760 non-null   object \n",
      "dtypes: float64(3), object(1)\n",
      "memory usage: 273.9+ KB\n"
     ]
    }
   ],
   "source": [
    "df_weather.info()"
   ]
  },
  {
   "cell_type": "code",
   "execution_count": 10,
   "id": "bd9dd8b6",
   "metadata": {},
   "outputs": [],
   "source": [
    "df_trips['start_date'] = df_trips['start_time']\n",
    "df_trips.set_index('start_date', inplace = True)\n",
    "df_trips.index = pd.to_datetime(df_trips.index)"
   ]
  },
  {
   "cell_type": "code",
   "execution_count": 11,
   "id": "304bd748",
   "metadata": {},
   "outputs": [
    {
     "data": {
      "text/plain": [
       "start_time\n",
       "2017-01-01 00:00:00    13\n",
       "2017-01-01 01:00:00     7\n",
       "2017-01-01 02:00:00     4\n",
       "2017-01-01 03:00:00     2\n",
       "2017-01-01 04:00:00     6\n",
       "                       ..\n",
       "2017-12-31 19:00:00     6\n",
       "2017-12-31 20:00:00     5\n",
       "2017-12-31 21:00:00     3\n",
       "2017-12-31 22:00:00     7\n",
       "2017-12-31 23:00:00     2\n",
       "Freq: H, Name: end_time, Length: 8760, dtype: int64"
      ]
     },
     "execution_count": 11,
     "metadata": {},
     "output_type": "execute_result"
    }
   ],
   "source": [
    "# Calculating the total amount of trips started per hour\n",
    "df_trips['start_time'] = pd.to_datetime(df_trips['start_time'])\n",
    "df_trips_group = df_trips.groupby(pd.Grouper(key='start_time', freq='H')).count()\n",
    "df_trips_group['end_time']"
   ]
  },
  {
   "cell_type": "code",
   "execution_count": 12,
   "id": "20e7f4f1",
   "metadata": {
    "scrolled": false
   },
   "outputs": [
    {
     "data": {
      "text/plain": [
       "start_time\n",
       "2017-01-01 00:00:00    13\n",
       "2017-01-01 01:00:00     7\n",
       "2017-01-01 02:00:00     4\n",
       "2017-01-01 03:00:00     2\n",
       "2017-01-01 04:00:00     6\n",
       "                       ..\n",
       "2017-12-31 19:00:00     6\n",
       "2017-12-31 20:00:00     5\n",
       "2017-12-31 21:00:00     3\n",
       "2017-12-31 22:00:00     7\n",
       "2017-12-31 23:00:00     2\n",
       "Freq: H, Name: end_time, Length: 8760, dtype: int64"
      ]
     },
     "execution_count": 12,
     "metadata": {},
     "output_type": "execute_result"
    }
   ],
   "source": [
    "hourly_demand = df_trips_group['end_time']\n",
    "hourly_demand"
   ]
  },
  {
   "cell_type": "code",
   "execution_count": 13,
   "id": "a42548aa",
   "metadata": {},
   "outputs": [],
   "source": [
    "df_weather['date_time'] = pd.to_datetime(df_weather['date_time'])\n",
    "df_weather.set_index('date_time', inplace = True)"
   ]
  },
  {
   "cell_type": "markdown",
   "id": "aa705ec3",
   "metadata": {},
   "source": [
    "Creating the dataset with the grouped demand"
   ]
  },
  {
   "cell_type": "code",
   "execution_count": 14,
   "id": "7751877f",
   "metadata": {
    "scrolled": true
   },
   "outputs": [],
   "source": [
    "df_pred_feat = df_weather\n",
    "df_pred_feat[\"hourly_demand\"] = hourly_demand"
   ]
  },
  {
   "cell_type": "markdown",
   "id": "4ae78e2f",
   "metadata": {},
   "source": [
    "## Feature Engineering"
   ]
  },
  {
   "cell_type": "code",
   "execution_count": 15,
   "id": "2e1c5a5b",
   "metadata": {
    "scrolled": true
   },
   "outputs": [],
   "source": [
    "# basic temporal features\n",
    "df_pred_feat[\"hour\"] = df_pred_feat.index.hour\n",
    "df_pred_feat[\"weekday\"] = df_pred_feat.index.weekday\n",
    "df_pred_feat[\"month\"] = df_pred_feat.index.month"
   ]
  },
  {
   "cell_type": "code",
   "execution_count": 16,
   "id": "53ae403b",
   "metadata": {},
   "outputs": [],
   "source": [
    "# advances temporal features and dummy encoding\n",
    "df_pred_feat['is_workday'] = df_pred_feat['weekday'].apply(lambda x: 1 if x < 5 else 0)\n",
    "df_pred_feat['quarter'] = df_pred_feat['month'].apply(lambda x: x // 4)\n",
    "df_pred_feat = pd.get_dummies(df_pred_feat, columns = ['quarter'])"
   ]
  },
  {
   "cell_type": "markdown",
   "id": "6fb2bd50",
   "metadata": {},
   "source": [
    "As hour and weekday are cyclical features the sin and cos components are calculated to preserve information such as hour 23 and hour 0 being close to each other and not far."
   ]
  },
  {
   "cell_type": "code",
   "execution_count": 17,
   "id": "18775496",
   "metadata": {},
   "outputs": [],
   "source": [
    "df_pred_feat['hour_sin'] = np.sin(df_pred_feat.hour*(2.*np.pi/24))\n",
    "df_pred_feat['hour_cos'] = np.cos(df_pred_feat.hour*(2.*np.pi/24))\n",
    "# month values between 0 and 11 \n",
    "df_pred_feat['month_sin'] = np.sin((df_pred_feat.month-1)*(2.*np.pi/12))\n",
    "df_pred_feat['month_cos'] = np.cos((df_pred_feat.month-1)*(2.*np.pi/12))"
   ]
  },
  {
   "cell_type": "code",
   "execution_count": 18,
   "id": "c68e2249",
   "metadata": {},
   "outputs": [
    {
     "data": {
      "text/plain": [
       "month\n",
       "1      19484\n",
       "2      17255\n",
       "3      31198\n",
       "4      99551\n",
       "5     127556\n",
       "6     161429\n",
       "7     175338\n",
       "8     190228\n",
       "9     165050\n",
       "10    163316\n",
       "11    105342\n",
       "12     55013\n",
       "Name: hourly_demand, dtype: int64"
      ]
     },
     "execution_count": 18,
     "metadata": {},
     "output_type": "execute_result"
    }
   ],
   "source": [
    "df_pred_feat.groupby('hour').sum()[\"hourly_demand\"]\n",
    "df_pred_feat.groupby('month').sum()[\"hourly_demand\"]"
   ]
  },
  {
   "cell_type": "code",
   "execution_count": 19,
   "id": "127a0f9d",
   "metadata": {},
   "outputs": [],
   "source": [
    "# scale temperature features \n",
    "mean_temp = statistics.mean(df_pred_feat['max_temp'])\n",
    "std_temp = statistics.stdev(df_pred_feat['max_temp'])\n",
    "df_pred_feat['max_temp_scaled'] = (df_pred_feat['max_temp'] - mean_temp) / std_temp"
   ]
  },
  {
   "cell_type": "code",
   "execution_count": 20,
   "id": "439bc436",
   "metadata": {},
   "outputs": [
    {
     "data": {
      "text/plain": [
       "9.916346706980727"
      ]
     },
     "execution_count": 20,
     "metadata": {},
     "output_type": "execute_result"
    }
   ],
   "source": [
    "std_temp"
   ]
  },
  {
   "cell_type": "markdown",
   "id": "1c78bcef",
   "metadata": {},
   "source": [
    "## Feature Correlation"
   ]
  },
  {
   "cell_type": "markdown",
   "id": "71239cb8",
   "metadata": {},
   "source": [
    "The heatmap shows the correlation between the features. From this insights can be derieved which features are usefull for the prediction models."
   ]
  },
  {
   "cell_type": "code",
   "execution_count": 21,
   "id": "b4dac067",
   "metadata": {
    "scrolled": true
   },
   "outputs": [
    {
     "data": {
      "image/png": "[encoded data removed]",
      "text/plain": [
       "<Figure size 1080x1080 with 2 Axes>"
      ]
     },
     "metadata": {
      "needs_background": "light"
     },
     "output_type": "display_data"
    }
   ],
   "source": [
    "corrmat = df_pred_feat.corr()\n",
    "top_corr_features = corrmat.index\n",
    "\n",
    "plt.figure(figsize=(15,15))\n",
    "\n",
    "g=sns.heatmap(df_pred_feat[top_corr_features].corr(),annot=True, cmap=\"RdYlGn\")"
   ]
  },
  {
   "cell_type": "markdown",
   "id": "7e38d3f5",
   "metadata": {},
   "source": [
    "## 3.3 Model Building"
   ]
  },
  {
   "cell_type": "markdown",
   "id": "7fa26f5c",
   "metadata": {},
   "source": [
    "Now the prediciton models can be created. Starting with simple prediciton models like Linear Regression or Polinomial Regression. Afterwards more complex Algorithms like Random Forest, SVR, XGBoost and neural networks are created."
   ]
  },
  {
   "cell_type": "markdown",
   "id": "63394cfe",
   "metadata": {},
   "source": [
    "### Function for Data Splitting "
   ]
  },
  {
   "cell_type": "markdown",
   "id": "4b85e6e1",
   "metadata": {},
   "source": [
    "allows dropping specifyied features."
   ]
  },
  {
   "cell_type": "code",
   "execution_count": 22,
   "id": "045cb3cc",
   "metadata": {},
   "outputs": [],
   "source": [
    "def data_split(dropCols):\n",
    "    # set outcome variable to last row\n",
    "    column_list = df_pred_feat.columns.tolist()\n",
    "    column_list.append(column_list.pop(column_list.index('hourly_demand')))\n",
    "    df = df_pred_feat[column_list]\n",
    "    if(len(dropCols) > 0):\n",
    "        df = df.drop(columns = dropCols )\n",
    "\n",
    "    # split the data with 70% training data\n",
    "    train, test = train_test_split(df, test_size = 0.3, random_state = 42)\n",
    "    x_train = train.iloc[:,:-1]\n",
    "    y_train = train.iloc[:,-1]\n",
    "\n",
    "    x_test = test.iloc[:,:-1]\n",
    "    y_test = test.iloc[:,-1]\n",
    "    \n",
    "    return x_train, y_train, x_test, y_test"
   ]
  },
  {
   "cell_type": "markdown",
   "id": "31bee7c0",
   "metadata": {},
   "source": [
    "### Function for Model Evaluation "
   ]
  },
  {
   "cell_type": "code",
   "execution_count": 23,
   "id": "119ca420",
   "metadata": {},
   "outputs": [],
   "source": [
    "def get_metrics(y_test, y_test_pred):\n",
    "    print ('R²: ', r2_score(y_test, y_test_pred))\n",
    "    print ('MAE: ', mean_absolute_error(y_test, y_test_pred))\n",
    "    print ('RMSE: ', mean_squared_error(y_test, y_test_pred, squared = False), \"\\n\")"
   ]
  },
  {
   "cell_type": "markdown",
   "id": "5180f592",
   "metadata": {},
   "source": [
    "### Model Building and Evaluation"
   ]
  },
  {
   "cell_type": "code",
   "execution_count": 24,
   "id": "b551e41c",
   "metadata": {
    "scrolled": true
   },
   "outputs": [
    {
     "name": "stdout",
     "output_type": "stream",
     "text": [
      "RandomForestRegressor\n",
      "R²:  0.9059791773140843\n",
      "MAE:  28.423004913507768\n",
      "RMSE:  52.88286056430417 \n",
      "\n",
      "AdaBoostRegressor\n",
      "R²:  0.5473057318743053\n",
      "MAE:  65.27800569504063\n",
      "RMSE:  91.40767707412002 \n",
      "\n",
      "BaggingRegressor\n",
      "R²:  0.9024173893853137\n",
      "MAE:  29.60322379865188\n",
      "RMSE:  54.18875753517528 \n",
      "\n",
      "SVR\n",
      "R²:  -2.240205309348175\n",
      "MAE:  87.50531674745265\n",
      "RMSE:  145.9506753967947 \n",
      "\n",
      "KNeighborsRegressor\n",
      "R²:  0.795626133281425\n",
      "MAE:  39.846651445966515\n",
      "RMSE:  71.54990669204811 \n",
      "\n",
      "XGBoost\n",
      "R²:  0.9144141277019477\n",
      "MAE:  28.597823951635764\n",
      "RMSE:  50.97914395874654 \n",
      "\n"
     ]
    }
   ],
   "source": [
    "x_train, y_train, x_test, y_test = data_split(\"\")\n",
    "models=[RandomForestRegressor(),AdaBoostRegressor(),BaggingRegressor(),SVR(),KNeighborsRegressor(),xgb.XGBRegressor()]\n",
    "# RandomForestRegressor(n_estimators = 1000, random_state = 42) for paramter tuning\n",
    "model_names=['RandomForestRegressor','AdaBoostRegressor','BaggingRegressor','SVR','KNeighborsRegressor','XGBoost']\n",
    "\n",
    "i = 0\n",
    "for model in range (len(models)):\n",
    "    clf = models[model]\n",
    "    clf.fit(x_train,y_train)\n",
    "    test_pred = clf.predict(x_test)\n",
    "    print(model_names[i])\n",
    "    i += 1\n",
    "    get_metrics(test_pred, y_test)\n",
    "    \n",
    "    \n",
    "# TODO SVR hat negativen R2, was nicht möglich ist"
   ]
  },
  {
   "cell_type": "code",
   "execution_count": 25,
   "id": "08f7762d",
   "metadata": {},
   "outputs": [],
   "source": [
    "def model_comparison(droped_rows_list):\n",
    "\n",
    "    storage = pd.DataFrame()\n",
    "    \n",
    "    for n in range(len(droped_rows_list)):\n",
    "\n",
    "        x_train, y_train, x_test, y_test = data_split(droped_rows_list[n])\n",
    "        models=[LinearRegression(normalize = True), RandomForestRegressor(),AdaBoostRegressor(),BaggingRegressor(),SVR(),KNeighborsRegressor(),xgb.XGBRegressor()]\n",
    "        model_names=['LinearRegression','RandomForestRegressor','AdaBoostRegressor','BaggingRegressor','SVR','KNeighborsRegressor','XGBoost']\n",
    "        #rmsle=[]\n",
    "        #mae=[]\n",
    "        #r2=[]\n",
    "        #d={}\n",
    "        \n",
    "        poly_reg = PolynomialFeatures (degree = 3)\n",
    "        x_poly = poly_reg.fit_transform(x_train)\n",
    "\n",
    "        for model in range (len(models)):\n",
    "            clf = models[model]\n",
    "            \n",
    "            if(model == 0):\n",
    "                clf.fit(x_poly, y_train)\n",
    "                test_pred = clf.predict(poly_reg.fit_transform(x_test))\n",
    "            else:\n",
    "                clf.fit(x_train,y_train)\n",
    "                test_pred = clf.predict(x_test)\n",
    "                \n",
    "            r2 = (r2_score(y_test, test_pred))\n",
    "            mae = (mean_absolute_error(y_test, test_pred))\n",
    "            rmsle = (mean_squared_error(y_test, test_pred, squared = False))\n",
    "            storage = storage.append({'Without features':str(droped_rows_list[n]), 'Model':model_names[model],'RMSLE':rmsle, 'MAE':mae, 'R2':r2}, ignore_index=True)\n",
    "\n",
    "    return storage"
   ]
  },
  {
   "cell_type": "code",
   "execution_count": 28,
   "id": "e365d6f1",
   "metadata": {},
   "outputs": [],
   "source": [
    "# TODO\n",
    "# Lasso und Ridge Regression und Parameter Tuning für LinReg"
   ]
  },
  {
   "cell_type": "code",
   "execution_count": 26,
   "id": "b5c5c05d",
   "metadata": {},
   "outputs": [
    {
     "name": "stdout",
     "output_type": "stream",
     "text": [
      "['max_temp', 'min_temp', 'precip', 'hourly_demand', 'hour', 'weekday', 'month', 'is_workday', 'quarter_0', 'quarter_1', 'quarter_2', 'quarter_3', 'hour_sin', 'hour_cos', 'month_sin', 'month_cos', 'max_temp_scaled']\n"
     ]
    }
   ],
   "source": [
    "print(df_pred_feat.columns.tolist())"
   ]
  },
  {
   "cell_type": "code",
   "execution_count": 27,
   "id": "f4702ef1",
   "metadata": {},
   "outputs": [
    {
     "data": {
      "text/html": [
       "<div>\n",
       "<style scoped>\n",
       "    .dataframe tbody tr th:only-of-type {\n",
       "        vertical-align: middle;\n",
       "    }\n",
       "\n",
       "    .dataframe tbody tr th {\n",
       "        vertical-align: top;\n",
       "    }\n",
       "\n",
       "    .dataframe thead th {\n",
       "        text-align: right;\n",
       "    }\n",
       "</style>\n",
       "<table border=\"1\" class=\"dataframe\">\n",
       "  <thead>\n",
       "    <tr style=\"text-align: right;\">\n",
       "      <th></th>\n",
       "      <th>MAE</th>\n",
       "      <th>Model</th>\n",
       "      <th>R2</th>\n",
       "      <th>RMSLE</th>\n",
       "      <th>Without features</th>\n",
       "    </tr>\n",
       "  </thead>\n",
       "  <tbody>\n",
       "    <tr>\n",
       "      <th>0</th>\n",
       "      <td>51.013952</td>\n",
       "      <td>LinearRegression</td>\n",
       "      <td>0.750320</td>\n",
       "      <td>90.454329</td>\n",
       "      <td>[]</td>\n",
       "    </tr>\n",
       "    <tr>\n",
       "      <th>1</th>\n",
       "      <td>28.526596</td>\n",
       "      <td>RandomForestRegressor</td>\n",
       "      <td>0.913957</td>\n",
       "      <td>53.100036</td>\n",
       "      <td>[]</td>\n",
       "    </tr>\n",
       "    <tr>\n",
       "      <th>2</th>\n",
       "      <td>80.652272</td>\n",
       "      <td>AdaBoostRegressor</td>\n",
       "      <td>0.701996</td>\n",
       "      <td>98.820773</td>\n",
       "      <td>[]</td>\n",
       "    </tr>\n",
       "    <tr>\n",
       "      <th>3</th>\n",
       "      <td>29.686084</td>\n",
       "      <td>BaggingRegressor</td>\n",
       "      <td>0.904762</td>\n",
       "      <td>55.865372</td>\n",
       "      <td>[]</td>\n",
       "    </tr>\n",
       "    <tr>\n",
       "      <th>4</th>\n",
       "      <td>87.505317</td>\n",
       "      <td>SVR</td>\n",
       "      <td>0.349964</td>\n",
       "      <td>145.950675</td>\n",
       "      <td>[]</td>\n",
       "    </tr>\n",
       "    <tr>\n",
       "      <th>5</th>\n",
       "      <td>39.846651</td>\n",
       "      <td>KNeighborsRegressor</td>\n",
       "      <td>0.843778</td>\n",
       "      <td>71.549907</td>\n",
       "      <td>[]</td>\n",
       "    </tr>\n",
       "    <tr>\n",
       "      <th>6</th>\n",
       "      <td>28.597824</td>\n",
       "      <td>XGBoost</td>\n",
       "      <td>0.920693</td>\n",
       "      <td>50.979144</td>\n",
       "      <td>[]</td>\n",
       "    </tr>\n",
       "    <tr>\n",
       "      <th>7</th>\n",
       "      <td>57.965896</td>\n",
       "      <td>LinearRegression</td>\n",
       "      <td>0.765402</td>\n",
       "      <td>87.679827</td>\n",
       "      <td>['max_temp', 'min_temp', 'hour', 'month']</td>\n",
       "    </tr>\n",
       "    <tr>\n",
       "      <th>8</th>\n",
       "      <td>28.712747</td>\n",
       "      <td>RandomForestRegressor</td>\n",
       "      <td>0.912700</td>\n",
       "      <td>53.486637</td>\n",
       "      <td>['max_temp', 'min_temp', 'hour', 'month']</td>\n",
       "    </tr>\n",
       "    <tr>\n",
       "      <th>9</th>\n",
       "      <td>68.227231</td>\n",
       "      <td>AdaBoostRegressor</td>\n",
       "      <td>0.741702</td>\n",
       "      <td>92.002092</td>\n",
       "      <td>['max_temp', 'min_temp', 'hour', 'month']</td>\n",
       "    </tr>\n",
       "    <tr>\n",
       "      <th>10</th>\n",
       "      <td>29.842163</td>\n",
       "      <td>BaggingRegressor</td>\n",
       "      <td>0.907486</td>\n",
       "      <td>55.060524</td>\n",
       "      <td>['max_temp', 'min_temp', 'hour', 'month']</td>\n",
       "    </tr>\n",
       "    <tr>\n",
       "      <th>11</th>\n",
       "      <td>78.899242</td>\n",
       "      <td>SVR</td>\n",
       "      <td>0.397619</td>\n",
       "      <td>140.498916</td>\n",
       "      <td>['max_temp', 'min_temp', 'hour', 'month']</td>\n",
       "    </tr>\n",
       "    <tr>\n",
       "      <th>12</th>\n",
       "      <td>40.295662</td>\n",
       "      <td>KNeighborsRegressor</td>\n",
       "      <td>0.841761</td>\n",
       "      <td>72.010129</td>\n",
       "      <td>['max_temp', 'min_temp', 'hour', 'month']</td>\n",
       "    </tr>\n",
       "    <tr>\n",
       "      <th>13</th>\n",
       "      <td>29.227270</td>\n",
       "      <td>XGBoost</td>\n",
       "      <td>0.918903</td>\n",
       "      <td>51.551451</td>\n",
       "      <td>['max_temp', 'min_temp', 'hour', 'month']</td>\n",
       "    </tr>\n",
       "    <tr>\n",
       "      <th>14</th>\n",
       "      <td>108.814688</td>\n",
       "      <td>LinearRegression</td>\n",
       "      <td>0.266404</td>\n",
       "      <td>155.047977</td>\n",
       "      <td>['max_temp', 'min_temp', 'hour', 'weekday', 'm...</td>\n",
       "    </tr>\n",
       "    <tr>\n",
       "      <th>15</th>\n",
       "      <td>108.508704</td>\n",
       "      <td>RandomForestRegressor</td>\n",
       "      <td>0.244888</td>\n",
       "      <td>157.305248</td>\n",
       "      <td>['max_temp', 'min_temp', 'hour', 'weekday', 'm...</td>\n",
       "    </tr>\n",
       "    <tr>\n",
       "      <th>16</th>\n",
       "      <td>117.133045</td>\n",
       "      <td>AdaBoostRegressor</td>\n",
       "      <td>0.219503</td>\n",
       "      <td>159.927519</td>\n",
       "      <td>['max_temp', 'min_temp', 'hour', 'weekday', 'm...</td>\n",
       "    </tr>\n",
       "    <tr>\n",
       "      <th>17</th>\n",
       "      <td>108.298646</td>\n",
       "      <td>BaggingRegressor</td>\n",
       "      <td>0.243809</td>\n",
       "      <td>157.417538</td>\n",
       "      <td>['max_temp', 'min_temp', 'hour', 'weekday', 'm...</td>\n",
       "    </tr>\n",
       "    <tr>\n",
       "      <th>18</th>\n",
       "      <td>106.692953</td>\n",
       "      <td>SVR</td>\n",
       "      <td>0.204477</td>\n",
       "      <td>161.459566</td>\n",
       "      <td>['max_temp', 'min_temp', 'hour', 'weekday', 'm...</td>\n",
       "    </tr>\n",
       "    <tr>\n",
       "      <th>19</th>\n",
       "      <td>113.787747</td>\n",
       "      <td>KNeighborsRegressor</td>\n",
       "      <td>0.148559</td>\n",
       "      <td>167.037837</td>\n",
       "      <td>['max_temp', 'min_temp', 'hour', 'weekday', 'm...</td>\n",
       "    </tr>\n",
       "    <tr>\n",
       "      <th>20</th>\n",
       "      <td>108.411372</td>\n",
       "      <td>XGBoost</td>\n",
       "      <td>0.244358</td>\n",
       "      <td>157.360479</td>\n",
       "      <td>['max_temp', 'min_temp', 'hour', 'weekday', 'm...</td>\n",
       "    </tr>\n",
       "  </tbody>\n",
       "</table>\n",
       "</div>"
      ],
      "text/plain": [
       "           MAE                  Model        R2       RMSLE  \\\n",
       "0    51.013952       LinearRegression  0.750320   90.454329   \n",
       "1    28.526596  RandomForestRegressor  0.913957   53.100036   \n",
       "2    80.652272      AdaBoostRegressor  0.701996   98.820773   \n",
       "3    29.686084       BaggingRegressor  0.904762   55.865372   \n",
       "4    87.505317                    SVR  0.349964  145.950675   \n",
       "5    39.846651    KNeighborsRegressor  0.843778   71.549907   \n",
       "6    28.597824                XGBoost  0.920693   50.979144   \n",
       "7    57.965896       LinearRegression  0.765402   87.679827   \n",
       "8    28.712747  RandomForestRegressor  0.912700   53.486637   \n",
       "9    68.227231      AdaBoostRegressor  0.741702   92.002092   \n",
       "10   29.842163       BaggingRegressor  0.907486   55.060524   \n",
       "11   78.899242                    SVR  0.397619  140.498916   \n",
       "12   40.295662    KNeighborsRegressor  0.841761   72.010129   \n",
       "13   29.227270                XGBoost  0.918903   51.551451   \n",
       "14  108.814688       LinearRegression  0.266404  155.047977   \n",
       "15  108.508704  RandomForestRegressor  0.244888  157.305248   \n",
       "16  117.133045      AdaBoostRegressor  0.219503  159.927519   \n",
       "17  108.298646       BaggingRegressor  0.243809  157.417538   \n",
       "18  106.692953                    SVR  0.204477  161.459566   \n",
       "19  113.787747    KNeighborsRegressor  0.148559  167.037837   \n",
       "20  108.411372                XGBoost  0.244358  157.360479   \n",
       "\n",
       "                                     Without features  \n",
       "0                                                  []  \n",
       "1                                                  []  \n",
       "2                                                  []  \n",
       "3                                                  []  \n",
       "4                                                  []  \n",
       "5                                                  []  \n",
       "6                                                  []  \n",
       "7           ['max_temp', 'min_temp', 'hour', 'month']  \n",
       "8           ['max_temp', 'min_temp', 'hour', 'month']  \n",
       "9           ['max_temp', 'min_temp', 'hour', 'month']  \n",
       "10          ['max_temp', 'min_temp', 'hour', 'month']  \n",
       "11          ['max_temp', 'min_temp', 'hour', 'month']  \n",
       "12          ['max_temp', 'min_temp', 'hour', 'month']  \n",
       "13          ['max_temp', 'min_temp', 'hour', 'month']  \n",
       "14  ['max_temp', 'min_temp', 'hour', 'weekday', 'm...  \n",
       "15  ['max_temp', 'min_temp', 'hour', 'weekday', 'm...  \n",
       "16  ['max_temp', 'min_temp', 'hour', 'weekday', 'm...  \n",
       "17  ['max_temp', 'min_temp', 'hour', 'weekday', 'm...  \n",
       "18  ['max_temp', 'min_temp', 'hour', 'weekday', 'm...  \n",
       "19  ['max_temp', 'min_temp', 'hour', 'weekday', 'm...  \n",
       "20  ['max_temp', 'min_temp', 'hour', 'weekday', 'm...  "
      ]
     },
     "execution_count": 27,
     "metadata": {},
     "output_type": "execute_result"
    }
   ],
   "source": [
    "test_drop_rows_1 = []\n",
    "test_drop_rows_2 = ['max_temp','min_temp', 'hour', 'month']\n",
    "test_drop_rows_3 = ['max_temp', 'min_temp', 'hour', 'weekday', 'month', 'hour_sin', 'hour_cos', 'month_sin', 'month_cos']\n",
    "\n",
    "featureList = [test_drop_rows_1 , test_drop_rows_2 , test_drop_rows_3]\n",
    "\n",
    "model_comparison(featureList)"
   ]
  },
  {
   "cell_type": "code",
   "execution_count": 35,
   "id": "acf68cab",
   "metadata": {
    "scrolled": true
   },
   "outputs": [
    {
     "name": "stdout",
     "output_type": "stream",
     "text": [
      "LinearRegression : \n",
      "{'copy_X': True, 'fit_intercept': True, 'n_jobs': None, 'normalize': False, 'positive': False} \n",
      "\n",
      "RandomForestRegressor : \n",
      "{'bootstrap': True, 'ccp_alpha': 0.0, 'criterion': 'mse', 'max_depth': None, 'max_features': 'auto', 'max_leaf_nodes': None, 'max_samples': None, 'min_impurity_decrease': 0.0, 'min_impurity_split': None, 'min_samples_leaf': 1, 'min_samples_split': 2, 'min_weight_fraction_leaf': 0.0, 'n_estimators': 100, 'n_jobs': None, 'oob_score': False, 'random_state': None, 'verbose': 0, 'warm_start': False} \n",
      "\n",
      "AdaBoostRegressor : \n",
      "{'base_estimator': None, 'learning_rate': 1.0, 'loss': 'linear', 'n_estimators': 50, 'random_state': None} \n",
      "\n",
      "BaggingRegressor : \n",
      "{'base_estimator': None, 'bootstrap': True, 'bootstrap_features': False, 'max_features': 1.0, 'max_samples': 1.0, 'n_estimators': 10, 'n_jobs': None, 'oob_score': False, 'random_state': None, 'verbose': 0, 'warm_start': False} \n",
      "\n",
      "SVR : \n",
      "{'C': 1.0, 'cache_size': 200, 'coef0': 0.0, 'degree': 3, 'epsilon': 0.1, 'gamma': 'scale', 'kernel': 'rbf', 'max_iter': -1, 'shrinking': True, 'tol': 0.001, 'verbose': False} \n",
      "\n",
      "KNeighborsRegressor : \n",
      "{'algorithm': 'auto', 'leaf_size': 30, 'metric': 'minkowski', 'metric_params': None, 'n_jobs': None, 'n_neighbors': 5, 'p': 2, 'weights': 'uniform'} \n",
      "\n",
      "XGBoost : \n",
      "{'objective': 'reg:squarederror', 'base_score': None, 'booster': None, 'colsample_bylevel': None, 'colsample_bynode': None, 'colsample_bytree': None, 'enable_categorical': False, 'gamma': None, 'gpu_id': None, 'importance_type': None, 'interaction_constraints': None, 'learning_rate': None, 'max_delta_step': None, 'max_depth': None, 'min_child_weight': None, 'missing': nan, 'monotone_constraints': None, 'n_estimators': 100, 'n_jobs': None, 'num_parallel_tree': None, 'predictor': None, 'random_state': None, 'reg_alpha': None, 'reg_lambda': None, 'scale_pos_weight': None, 'subsample': None, 'tree_method': None, 'validate_parameters': None, 'verbosity': None} \n",
      "\n"
     ]
    }
   ],
   "source": [
    "models=[LinearRegression(), RandomForestRegressor(),AdaBoostRegressor(),BaggingRegressor(),SVR(),KNeighborsRegressor(),xgb.XGBRegressor()]\n",
    "model_names=['LinearRegression', 'RandomForestRegressor','AdaBoostRegressor','BaggingRegressor','SVR','KNeighborsRegressor','XGBoost']\n",
    "i = 0\n",
    "\n",
    "for model in range (0, len(models)):\n",
    "    clf = models[model]\n",
    "    print(model_names[model],\": \")\n",
    "    print(clf.get_params(), \"\\n\")"
   ]
  },
  {
   "cell_type": "markdown",
   "id": "c1359c2f",
   "metadata": {},
   "source": [
    "## More specific XGBoost Models"
   ]
  },
  {
   "cell_type": "code",
   "execution_count": null,
   "id": "6b41eeab",
   "metadata": {},
   "outputs": [],
   "source": [
    "def XGBoost_Feature_Selection(dropCols):\n",
    "    # split dataset\n",
    "    x_train, y_train, x_test, y_test = data_split(dropCols)\n",
    "\n",
    "    # create a XGBoost Model with default parameters\n",
    "    model = xgb.XGBRegressor() \n",
    "\n",
    "    # train the model\n",
    "    model.fit(x_train, y_train)\n",
    "\n",
    "    # die beiden Kommentarzeilen habe ich irgendwo rauskopiert und \n",
    "    # kein Plan was die machen \n",
    "    #kfold = KFold(n_splits=10)\n",
    "    #results = cross_val_score(xgbr, x_train, y_train, cv=kfold)\n",
    "    y_test_pred = model.predict(x_test)\n",
    "    \n",
    "    print ('Model without features:', str(dropCols))\n",
    "    get_metrics(y_test_pred, y_test)"
   ]
  },
  {
   "cell_type": "code",
   "execution_count": null,
   "id": "29cd64d0",
   "metadata": {},
   "outputs": [],
   "source": [
    "print(df_pred_feat.columns.tolist())"
   ]
  },
  {
   "cell_type": "code",
   "execution_count": null,
   "id": "11178a04",
   "metadata": {},
   "outputs": [],
   "source": [
    "# Comparison of XGBoost models with different input features\n",
    "# features selected in the function will NOT be used in the models\n",
    "XGBoost_Feature_Selection(\"\")\n",
    "\n",
    "XGBoost_Feature_Selection(['max_temp', 'min_temp', 'hour', 'month'])\n",
    "\n",
    "XGBoost_Feature_Selection(['quarter_0', 'quarter_1', 'quarter_2', 'quarter_3', 'hour_sin', 'hour_cos', 'month_sin', 'month_cos'])"
   ]
  },
  {
   "cell_type": "markdown",
   "id": "6e962f34",
   "metadata": {},
   "source": [
    "![XGBoost](img/iq_meme.png)"
   ]
  },
  {
   "cell_type": "code",
   "execution_count": null,
   "id": "6b8bd847",
   "metadata": {},
   "outputs": [],
   "source": [
    "# XGBoost with grid search for hyper paramater tuning\n",
    "xgb_adv = xgb.XGBRegressor()\n",
    "\n",
    "parameters = {'nthread':[6],\n",
    "              'objective':['reg:squarederror'],\n",
    "              'learning_rate': [.03, 0.05, .07], #so called `eta` value\n",
    "              'max_depth': [5, 6, 7],\n",
    "              'min_child_weight': [4],\n",
    "              'silent': [1],\n",
    "              'subsample': [0.7],\n",
    "              'colsample_bytree': [0.7],\n",
    "              'n_estimators': [500]}\n",
    "\n",
    "xgb_grid = GridSearchCV(xgb_adv,\n",
    "                        parameters,\n",
    "                        cv = 2,\n",
    "                        n_jobs = 5,\n",
    "                        verbose=True)\n",
    "\n",
    "xgb_grid.fit(x_train, y_train)\n",
    "\n",
    "# result of the cv grid search\n",
    "print('Best model hyperparamters: ', xgb_grid.best_params_)\n",
    "\n",
    "y_test_pred_grid = xgb_grid.predict(x_test)\n",
    "\n",
    "get_metrics(y_test_pred_grid, y_test)\n"
   ]
  },
  {
   "cell_type": "code",
   "execution_count": null,
   "id": "68a04e3a",
   "metadata": {},
   "outputs": [],
   "source": [
    "# TODO: More hyperparamter tuning (Cross Validation maybe AutoML)\n",
    "# Deep Learning: implementing sklearn.neural_network.MLPRegressor\n",
    "# Linear Regression, Ridge or Lasso Regression and Polynominal Regression\n",
    "# Check if XGBoost Results are viable"
   ]
  }
 ],
 "metadata": {
  "kernelspec": {
   "display_name": "Python 3",
   "language": "python",
   "name": "python3"
  },
  "language_info": {
   "codemirror_mode": {
    "name": "ipython",
    "version": 3
   },
   "file_extension": ".py",
   "mimetype": "text/x-python",
   "name": "python",
   "nbconvert_exporter": "python",
   "pygments_lexer": "ipython3",
   "version": "3.8.8"
  }
 },
 "nbformat": 4,
 "nbformat_minor": 5
}
