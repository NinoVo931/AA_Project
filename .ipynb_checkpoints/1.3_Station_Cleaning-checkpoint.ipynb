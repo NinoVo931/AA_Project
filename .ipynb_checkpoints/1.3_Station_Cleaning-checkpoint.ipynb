{
 "cells": [
  {
   "cell_type": "markdown",
   "id": "f3cb9b8e",
   "metadata": {},
   "source": [
    "# 0.3 Station Data Cleaning"
   ]
  },
  {
   "cell_type": "code",
   "execution_count": 13,
   "id": "099c225a",
   "metadata": {},
   "outputs": [
    {
     "ename": "ModuleNotFoundError",
     "evalue": "No module named 'geopandas'",
     "output_type": "error",
     "traceback": [
      "\u001b[0;31m---------------------------------------------------------------------------\u001b[0m",
      "\u001b[0;31mModuleNotFoundError\u001b[0m                       Traceback (most recent call last)",
      "\u001b[0;32m/var/folders/hs/ky5dj60d3wbgcy00yw7mj1dw0000gn/T/ipykernel_16064/4268669727.py\u001b[0m in \u001b[0;36m<module>\u001b[0;34m\u001b[0m\n\u001b[1;32m      2\u001b[0m \u001b[0;32mimport\u001b[0m \u001b[0mnumpy\u001b[0m \u001b[0;32mas\u001b[0m \u001b[0mnp\u001b[0m\u001b[0;34m\u001b[0m\u001b[0;34m\u001b[0m\u001b[0m\n\u001b[1;32m      3\u001b[0m \u001b[0;34m\u001b[0m\u001b[0m\n\u001b[0;32m----> 4\u001b[0;31m \u001b[0;32mimport\u001b[0m \u001b[0mgeopandas\u001b[0m \u001b[0;32mas\u001b[0m \u001b[0mgpd\u001b[0m\u001b[0;34m\u001b[0m\u001b[0;34m\u001b[0m\u001b[0m\n\u001b[0m\u001b[1;32m      5\u001b[0m \u001b[0;31m#import geoplot as gplt\u001b[0m\u001b[0;34m\u001b[0m\u001b[0;34m\u001b[0m\u001b[0m\n\u001b[1;32m      6\u001b[0m \u001b[0;31m#import geoplot.crs as gcrs\u001b[0m\u001b[0;34m\u001b[0m\u001b[0;34m\u001b[0m\u001b[0m\n",
      "\u001b[0;31mModuleNotFoundError\u001b[0m: No module named 'geopandas'"
     ]
    }
   ],
   "source": [
    "import pandas as pd\n",
    "import numpy as np\n",
    "\n",
    "import geopandas as gpd\n",
    "#import geoplot as gplt\n",
    "#import geoplot.crs as gcrs\n",
    "#import matplotlib.pyplot as plt\n",
    "import seaborn as sns"
   ]
  },
  {
   "cell_type": "code",
   "execution_count": 3,
   "id": "21448c94",
   "metadata": {},
   "outputs": [],
   "source": [
    "df_Trips = pd.read_csv('boston_2017.csv')\n",
    "df_stations_2017 = pd.read_csv('previous_Hubway_Stations_as_of_July_2017.csv')"
   ]
  },
  {
   "cell_type": "code",
   "execution_count": 4,
   "id": "acb7df55",
   "metadata": {
    "scrolled": true
   },
   "outputs": [
    {
     "name": "stdout",
     "output_type": "stream",
     "text": [
      "<class 'pandas.core.frame.DataFrame'>\n",
      "RangeIndex: 281 entries, 0 to 280\n",
      "Data columns (total 7 columns):\n",
      " #   Column           Non-Null Count  Dtype  \n",
      "---  ------           --------------  -----  \n",
      " 0   Station ID       281 non-null    object \n",
      " 1   Station          281 non-null    object \n",
      " 2   Latitude         281 non-null    float64\n",
      " 3   Longitude        281 non-null    float64\n",
      " 4   Municipality     281 non-null    object \n",
      " 5   publiclyExposed  281 non-null    int64  \n",
      " 6   # of Docks       281 non-null    int64  \n",
      "dtypes: float64(2), int64(2), object(3)\n",
      "memory usage: 15.5+ KB\n"
     ]
    }
   ],
   "source": [
    "df_stations_2017.info()"
   ]
  },
  {
   "cell_type": "code",
   "execution_count": 5,
   "id": "3b911bf9",
   "metadata": {},
   "outputs": [],
   "source": [
    "station_location = df_stations_2017[['Station','Latitude','Longitude']]\n",
    "start_station_location = station_location.rename(columns={\"Station\": \"start_station_name\", \"Latitude\": \"start_latitude\",  \"Longitude\": \"start_longitude\"})\n",
    "end_station_location = station_location.rename(columns={\"Station\": \"end_station_name\", \"Latitude\": \"end_latitude\",  \"Longitude\": \"end_longitude\"})"
   ]
  },
  {
   "cell_type": "code",
   "execution_count": 6,
   "id": "030b7735",
   "metadata": {},
   "outputs": [
    {
     "data": {
      "text/html": [
       "<div>\n",
       "<style scoped>\n",
       "    .dataframe tbody tr th:only-of-type {\n",
       "        vertical-align: middle;\n",
       "    }\n",
       "\n",
       "    .dataframe tbody tr th {\n",
       "        vertical-align: top;\n",
       "    }\n",
       "\n",
       "    .dataframe thead th {\n",
       "        text-align: right;\n",
       "    }\n",
       "</style>\n",
       "<table border=\"1\" class=\"dataframe\">\n",
       "  <thead>\n",
       "    <tr style=\"text-align: right;\">\n",
       "      <th></th>\n",
       "      <th>start_time</th>\n",
       "      <th>end_time</th>\n",
       "      <th>start_station_id</th>\n",
       "      <th>end_station_id</th>\n",
       "      <th>start_station_name</th>\n",
       "      <th>end_station_name</th>\n",
       "      <th>bike_id</th>\n",
       "      <th>user_type</th>\n",
       "      <th>start_latitude</th>\n",
       "      <th>start_longitude</th>\n",
       "      <th>end_latitude</th>\n",
       "      <th>end_longitude</th>\n",
       "    </tr>\n",
       "  </thead>\n",
       "  <tbody>\n",
       "    <tr>\n",
       "      <th>0</th>\n",
       "      <td>2017-01-01 00:06:58</td>\n",
       "      <td>2017-01-01 00:12:49</td>\n",
       "      <td>67</td>\n",
       "      <td>139</td>\n",
       "      <td>MIT at Mass Ave / Amherst St</td>\n",
       "      <td>Dana Park</td>\n",
       "      <td>644</td>\n",
       "      <td>Subscriber</td>\n",
       "      <td>42.358100</td>\n",
       "      <td>-71.093198</td>\n",
       "      <td>42.361780</td>\n",
       "      <td>-71.108100</td>\n",
       "    </tr>\n",
       "    <tr>\n",
       "      <th>1</th>\n",
       "      <td>2017-01-01 00:13:16</td>\n",
       "      <td>2017-01-01 00:28:07</td>\n",
       "      <td>36</td>\n",
       "      <td>10</td>\n",
       "      <td>Boston Public Library - 700 Boylston St.</td>\n",
       "      <td>B.U. Central - 725 Comm. Ave.</td>\n",
       "      <td>230</td>\n",
       "      <td>Subscriber</td>\n",
       "      <td>NaN</td>\n",
       "      <td>NaN</td>\n",
       "      <td>42.350406</td>\n",
       "      <td>-71.108279</td>\n",
       "    </tr>\n",
       "    <tr>\n",
       "      <th>2</th>\n",
       "      <td>2017-01-01 00:16:17</td>\n",
       "      <td>2017-01-01 00:44:10</td>\n",
       "      <td>36</td>\n",
       "      <td>9</td>\n",
       "      <td>Boston Public Library - 700 Boylston St.</td>\n",
       "      <td>Agganis Arena - 925 Comm Ave.</td>\n",
       "      <td>980</td>\n",
       "      <td>Customer</td>\n",
       "      <td>NaN</td>\n",
       "      <td>NaN</td>\n",
       "      <td>NaN</td>\n",
       "      <td>NaN</td>\n",
       "    </tr>\n",
       "    <tr>\n",
       "      <th>3</th>\n",
       "      <td>2017-01-01 00:21:22</td>\n",
       "      <td>2017-01-01 00:33:50</td>\n",
       "      <td>46</td>\n",
       "      <td>19</td>\n",
       "      <td>Christian Science Plaza</td>\n",
       "      <td>Buswell St. at Park Dr.</td>\n",
       "      <td>1834</td>\n",
       "      <td>Subscriber</td>\n",
       "      <td>NaN</td>\n",
       "      <td>NaN</td>\n",
       "      <td>NaN</td>\n",
       "      <td>NaN</td>\n",
       "    </tr>\n",
       "    <tr>\n",
       "      <th>4</th>\n",
       "      <td>2017-01-01 00:30:06</td>\n",
       "      <td>2017-01-01 00:40:28</td>\n",
       "      <td>10</td>\n",
       "      <td>8</td>\n",
       "      <td>B.U. Central - 725 Comm. Ave.</td>\n",
       "      <td>Union Square - Brighton Ave. at Cambridge St.</td>\n",
       "      <td>230</td>\n",
       "      <td>Subscriber</td>\n",
       "      <td>42.350406</td>\n",
       "      <td>-71.108279</td>\n",
       "      <td>NaN</td>\n",
       "      <td>NaN</td>\n",
       "    </tr>\n",
       "    <tr>\n",
       "      <th>...</th>\n",
       "      <td>...</td>\n",
       "      <td>...</td>\n",
       "      <td>...</td>\n",
       "      <td>...</td>\n",
       "      <td>...</td>\n",
       "      <td>...</td>\n",
       "      <td>...</td>\n",
       "      <td>...</td>\n",
       "      <td>...</td>\n",
       "      <td>...</td>\n",
       "      <td>...</td>\n",
       "      <td>...</td>\n",
       "    </tr>\n",
       "    <tr>\n",
       "      <th>1313769</th>\n",
       "      <td>2017-12-31 23:46:18</td>\n",
       "      <td>2017-12-31 23:50:27</td>\n",
       "      <td>117</td>\n",
       "      <td>141</td>\n",
       "      <td>Binney St / Sixth St</td>\n",
       "      <td>Kendall Street</td>\n",
       "      <td>1846</td>\n",
       "      <td>Subscriber</td>\n",
       "      <td>42.366162</td>\n",
       "      <td>-71.086883</td>\n",
       "      <td>42.363560</td>\n",
       "      <td>-71.082168</td>\n",
       "    </tr>\n",
       "    <tr>\n",
       "      <th>1313770</th>\n",
       "      <td>2017-12-29 16:11:56</td>\n",
       "      <td>2017-12-29 16:16:18</td>\n",
       "      <td>54</td>\n",
       "      <td>42</td>\n",
       "      <td>Tremont St at West St</td>\n",
       "      <td>Boylston St at Arlington St TEMPORARY WINTER L...</td>\n",
       "      <td>2</td>\n",
       "      <td>Subscriber</td>\n",
       "      <td>42.354979</td>\n",
       "      <td>-71.063348</td>\n",
       "      <td>NaN</td>\n",
       "      <td>NaN</td>\n",
       "    </tr>\n",
       "    <tr>\n",
       "      <th>1313771</th>\n",
       "      <td>2017-12-30 08:09:44</td>\n",
       "      <td>2017-12-30 08:26:08</td>\n",
       "      <td>54</td>\n",
       "      <td>58</td>\n",
       "      <td>Tremont St at West St</td>\n",
       "      <td>Beacon St at Arlington St</td>\n",
       "      <td>1534</td>\n",
       "      <td>Subscriber</td>\n",
       "      <td>42.354979</td>\n",
       "      <td>-71.063348</td>\n",
       "      <td>NaN</td>\n",
       "      <td>NaN</td>\n",
       "    </tr>\n",
       "    <tr>\n",
       "      <th>1313772</th>\n",
       "      <td>2017-12-30 12:20:01</td>\n",
       "      <td>2017-12-30 12:49:12</td>\n",
       "      <td>54</td>\n",
       "      <td>46</td>\n",
       "      <td>Tremont St at West St</td>\n",
       "      <td>Christian Science Plaza - Massachusetts Ave at...</td>\n",
       "      <td>1978</td>\n",
       "      <td>Subscriber</td>\n",
       "      <td>42.354979</td>\n",
       "      <td>-71.063348</td>\n",
       "      <td>42.343666</td>\n",
       "      <td>-71.085824</td>\n",
       "    </tr>\n",
       "    <tr>\n",
       "      <th>1313773</th>\n",
       "      <td>2017-12-30 18:27:39</td>\n",
       "      <td>2017-12-30 18:53:54</td>\n",
       "      <td>54</td>\n",
       "      <td>21</td>\n",
       "      <td>Tremont St at West St</td>\n",
       "      <td>Prudential Center - Belvedere St</td>\n",
       "      <td>15</td>\n",
       "      <td>Subscriber</td>\n",
       "      <td>42.354979</td>\n",
       "      <td>-71.063348</td>\n",
       "      <td>42.346520</td>\n",
       "      <td>-71.080658</td>\n",
       "    </tr>\n",
       "  </tbody>\n",
       "</table>\n",
       "<p>1313774 rows × 12 columns</p>\n",
       "</div>"
      ],
      "text/plain": [
       "                  start_time             end_time  start_station_id  \\\n",
       "0        2017-01-01 00:06:58  2017-01-01 00:12:49                67   \n",
       "1        2017-01-01 00:13:16  2017-01-01 00:28:07                36   \n",
       "2        2017-01-01 00:16:17  2017-01-01 00:44:10                36   \n",
       "3        2017-01-01 00:21:22  2017-01-01 00:33:50                46   \n",
       "4        2017-01-01 00:30:06  2017-01-01 00:40:28                10   \n",
       "...                      ...                  ...               ...   \n",
       "1313769  2017-12-31 23:46:18  2017-12-31 23:50:27               117   \n",
       "1313770  2017-12-29 16:11:56  2017-12-29 16:16:18                54   \n",
       "1313771  2017-12-30 08:09:44  2017-12-30 08:26:08                54   \n",
       "1313772  2017-12-30 12:20:01  2017-12-30 12:49:12                54   \n",
       "1313773  2017-12-30 18:27:39  2017-12-30 18:53:54                54   \n",
       "\n",
       "         end_station_id                        start_station_name  \\\n",
       "0                   139              MIT at Mass Ave / Amherst St   \n",
       "1                    10  Boston Public Library - 700 Boylston St.   \n",
       "2                     9  Boston Public Library - 700 Boylston St.   \n",
       "3                    19                   Christian Science Plaza   \n",
       "4                     8             B.U. Central - 725 Comm. Ave.   \n",
       "...                 ...                                       ...   \n",
       "1313769             141                      Binney St / Sixth St   \n",
       "1313770              42                     Tremont St at West St   \n",
       "1313771              58                     Tremont St at West St   \n",
       "1313772              46                     Tremont St at West St   \n",
       "1313773              21                     Tremont St at West St   \n",
       "\n",
       "                                          end_station_name  bike_id  \\\n",
       "0                                                Dana Park      644   \n",
       "1                            B.U. Central - 725 Comm. Ave.      230   \n",
       "2                            Agganis Arena - 925 Comm Ave.      980   \n",
       "3                                  Buswell St. at Park Dr.     1834   \n",
       "4            Union Square - Brighton Ave. at Cambridge St.      230   \n",
       "...                                                    ...      ...   \n",
       "1313769                                     Kendall Street     1846   \n",
       "1313770  Boylston St at Arlington St TEMPORARY WINTER L...        2   \n",
       "1313771                          Beacon St at Arlington St     1534   \n",
       "1313772  Christian Science Plaza - Massachusetts Ave at...     1978   \n",
       "1313773                   Prudential Center - Belvedere St       15   \n",
       "\n",
       "          user_type  start_latitude  start_longitude  end_latitude  \\\n",
       "0        Subscriber       42.358100       -71.093198     42.361780   \n",
       "1        Subscriber             NaN              NaN     42.350406   \n",
       "2          Customer             NaN              NaN           NaN   \n",
       "3        Subscriber             NaN              NaN           NaN   \n",
       "4        Subscriber       42.350406       -71.108279           NaN   \n",
       "...             ...             ...              ...           ...   \n",
       "1313769  Subscriber       42.366162       -71.086883     42.363560   \n",
       "1313770  Subscriber       42.354979       -71.063348           NaN   \n",
       "1313771  Subscriber       42.354979       -71.063348           NaN   \n",
       "1313772  Subscriber       42.354979       -71.063348     42.343666   \n",
       "1313773  Subscriber       42.354979       -71.063348     42.346520   \n",
       "\n",
       "         end_longitude  \n",
       "0           -71.108100  \n",
       "1           -71.108279  \n",
       "2                  NaN  \n",
       "3                  NaN  \n",
       "4                  NaN  \n",
       "...                ...  \n",
       "1313769     -71.082168  \n",
       "1313770            NaN  \n",
       "1313771            NaN  \n",
       "1313772     -71.085824  \n",
       "1313773     -71.080658  \n",
       "\n",
       "[1313774 rows x 12 columns]"
      ]
     },
     "execution_count": 6,
     "metadata": {},
     "output_type": "execute_result"
    }
   ],
   "source": [
    "df_Trips2 = df_Trips.merge(start_station_location, left_on ='start_station_name', right_on='start_station_name', how ='left')\n",
    "df_Trips3 = df_Trips2.merge(end_station_location, left_on ='end_station_name', right_on='end_station_name', how = 'left')\n",
    "\n",
    "df_Trips3\n"
   ]
  },
  {
   "cell_type": "code",
   "execution_count": 7,
   "id": "b8481155",
   "metadata": {
    "scrolled": true
   },
   "outputs": [
    {
     "name": "stdout",
     "output_type": "stream",
     "text": [
      "Trip 2 contains 174924 missing values\n",
      "Trip 3 contains 348114 missing values\n"
     ]
    }
   ],
   "source": [
    "\n",
    "print(\"Trip 2 contains %d missing values\" % df_Trips2.isnull().values.sum())\n",
    "\n",
    "print(\"Trip 3 contains %d missing values\" % df_Trips3.isnull().values.sum())\n",
    "\n",
    "\n"
   ]
  },
  {
   "cell_type": "code",
   "execution_count": 8,
   "id": "d16e83d9",
   "metadata": {},
   "outputs": [
    {
     "name": "stdout",
     "output_type": "stream",
     "text": [
      "<class 'pandas.core.frame.DataFrame'>\n",
      "Int64Index: 1313774 entries, 0 to 1313773\n",
      "Data columns (total 10 columns):\n",
      " #   Column              Non-Null Count    Dtype  \n",
      "---  ------              --------------    -----  \n",
      " 0   start_time          1313774 non-null  object \n",
      " 1   end_time            1313774 non-null  object \n",
      " 2   start_station_id    1313774 non-null  int64  \n",
      " 3   end_station_id      1313774 non-null  int64  \n",
      " 4   start_station_name  1313774 non-null  object \n",
      " 5   end_station_name    1313774 non-null  object \n",
      " 6   bike_id             1313774 non-null  int64  \n",
      " 7   user_type           1313774 non-null  object \n",
      " 8   start_latitude      1226312 non-null  float64\n",
      " 9   start_longitude     1226312 non-null  float64\n",
      "dtypes: float64(2), int64(3), object(5)\n",
      "memory usage: 110.3+ MB\n"
     ]
    }
   ],
   "source": [
    "df_Trips3.info()"
   ]
  },
  {
   "cell_type": "code",
   "execution_count": 12,
   "id": "67b1a8f0",
   "metadata": {},
   "outputs": [
    {
     "data": {
      "text/plain": [
       "<AxesSubplot:xlabel='start_longitude', ylabel='start_latitude'>"
      ]
     },
     "execution_count": 12,
     "metadata": {},
     "output_type": "execute_result"
    },
    {
     "data": {
      "image/png": "[encoded data removed]",
      "text/plain": [
       "<Figure size 432x288 with 1 Axes>"
      ]
     },
     "metadata": {
      "needs_background": "light"
     },
     "output_type": "display_data"
    }
   ],
   "source": [
    "sns.kdeplot(data=df_Trips3,\n",
    "            x='start_longitude', \n",
    "            y='start_latitude', \n",
    "            fill=True,\n",
    "            cmap='coolwarm',\n",
    "            alpha=0.3, \n",
    "            gridsize=200,\n",
    "            levels=20)\n",
    "            #,\n",
    "            #ax=ax)"
   ]
  },
  {
   "cell_type": "code",
   "execution_count": null,
   "id": "a32a0f03",
   "metadata": {},
   "outputs": [],
   "source": []
  },
  {
   "cell_type": "code",
   "execution_count": null,
   "id": "535ac173",
   "metadata": {},
   "outputs": [],
   "source": []
  },
  {
   "cell_type": "code",
   "execution_count": null,
   "id": "7f57765c",
   "metadata": {},
   "outputs": [],
   "source": []
  }
 ],
 "metadata": {
  "kernelspec": {
   "display_name": "Python 3 (ipykernel)",
   "language": "python",
   "name": "python3"
  },
  "language_info": {
   "codemirror_mode": {
    "name": "ipython",
    "version": 3
   },
   "file_extension": ".py",
   "mimetype": "text/x-python",
   "name": "python",
   "nbconvert_exporter": "python",
   "pygments_lexer": "ipython3",
   "version": "3.9.7"
  }
 },
 "nbformat": 4,
 "nbformat_minor": 5
}
