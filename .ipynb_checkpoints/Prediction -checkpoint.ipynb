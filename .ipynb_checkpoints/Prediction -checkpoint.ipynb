{
 "cells": [
  {
   "cell_type": "markdown",
   "id": "8d103c7f",
   "metadata": {},
   "source": [
    "# 3 Prediction"
   ]
  },
  {
   "cell_type": "markdown",
   "id": "cb93d003",
   "metadata": {},
   "source": [
    "In the final step we set up models to predict the number of trips. "
   ]
  },
  {
   "cell_type": "markdown",
   "id": "8919664c",
   "metadata": {},
   "source": [
    "## 3.1 Import"
   ]
  },
  {
   "cell_type": "code",
   "execution_count": 2,
   "id": "357e84df",
   "metadata": {},
   "outputs": [],
   "source": [
    "import pandas as pd\n",
    "import numpy as np\n",
    "import matplotlib as mpl\n",
    "import matplotlib.pyplot as plt"
   ]
  },
  {
   "cell_type": "markdown",
   "id": "8fdb49cc",
   "metadata": {},
   "source": [
    "Import of data"
   ]
  },
  {
   "cell_type": "code",
   "execution_count": 3,
   "id": "f244ea45",
   "metadata": {},
   "outputs": [
    {
     "name": "stdout",
     "output_type": "stream",
     "text": [
      "<class 'pandas.core.frame.DataFrame'>\n",
      "RangeIndex: 1310760 entries, 0 to 1310759\n",
      "Data columns (total 12 columns):\n",
      " #   Column              Non-Null Count    Dtype  \n",
      "---  ------              --------------    -----  \n",
      " 0   start_time          1310760 non-null  object \n",
      " 1   end_time            1310760 non-null  object \n",
      " 2   start_station_id    1310760 non-null  int64  \n",
      " 3   end_station_id      1310760 non-null  int64  \n",
      " 4   start_station_name  1310760 non-null  object \n",
      " 5   end_station_name    1310760 non-null  object \n",
      " 6   bike_id             1310760 non-null  int64  \n",
      " 7   user_type           1310760 non-null  object \n",
      " 8   start_hour          1310760 non-null  int64  \n",
      " 9   weekday             1310760 non-null  int64  \n",
      " 10  duration            1310760 non-null  float64\n",
      " 11  month               1310760 non-null  int64  \n",
      "dtypes: float64(1), int64(6), object(5)\n",
      "memory usage: 120.0+ MB\n"
     ]
    }
   ],
   "source": [
    "df_Trips = pd.read_csv('boston_2017_cleaned_trips.csv')\n",
    "\n",
    "\n",
    "\n",
    "df_Trips.info()"
   ]
  },
  {
   "cell_type": "code",
   "execution_count": null,
   "id": "20e2cb57",
   "metadata": {},
   "outputs": [],
   "source": []
  }
 ],
 "metadata": {
  "kernelspec": {
   "display_name": "Python 3 (ipykernel)",
   "language": "python",
   "name": "python3"
  },
  "language_info": {
   "codemirror_mode": {
    "name": "ipython",
    "version": 3
   },
   "file_extension": ".py",
   "mimetype": "text/x-python",
   "name": "python",
   "nbconvert_exporter": "python",
   "pygments_lexer": "ipython3",
   "version": "3.10.1"
  }
 },
 "nbformat": 4,
 "nbformat_minor": 5
}
