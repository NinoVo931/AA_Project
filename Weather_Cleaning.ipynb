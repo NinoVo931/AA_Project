{
 "cells": [
  {
   "cell_type": "markdown",
   "id": "6716ade3",
   "metadata": {},
   "source": [
    "### Proudly presented by team mucki-schnucki"
   ]
  },
  {
   "cell_type": "markdown",
   "id": "63128298",
   "metadata": {},
   "source": [
    "Import of packages"
   ]
  },
  {
   "cell_type": "code",
   "execution_count": 64,
   "id": "357e84df",
   "metadata": {},
   "outputs": [],
   "source": [
    "import pandas as pd\n",
    "import numpy as np"
   ]
  },
  {
   "cell_type": "markdown",
   "id": "56fd8654",
   "metadata": {},
   "source": [
    "Import of data"
   ]
  },
  {
   "cell_type": "code",
   "execution_count": 65,
   "id": "2b2c1a15",
   "metadata": {},
   "outputs": [],
   "source": [
    "df_Weather = pd.read_csv('weather_hourly_boston.csv')"
   ]
  },
  {
   "cell_type": "markdown",
   "id": "dfa57102",
   "metadata": {},
   "source": [
    "Now wrong values of the duration are excluded of the data frame"
   ]
  },
  {
   "cell_type": "code",
   "execution_count": 105,
   "id": "02c09d18",
   "metadata": {},
   "outputs": [],
   "source": [
    "df_Trips_Modified = df_Trips[(df_Trips['duration'].dt.total_seconds() > 0)] & df_Trips[(df_Trips['duration'].dt.total_seconds() < 18000)]"
   ]
  },
  {
   "cell_type": "code",
   "execution_count": 106,
   "id": "e2542dd3",
   "metadata": {},
   "outputs": [
    {
     "data": {
      "text/html": [
       "<div>\n",
       "<style scoped>\n",
       "    .dataframe tbody tr th:only-of-type {\n",
       "        vertical-align: middle;\n",
       "    }\n",
       "\n",
       "    .dataframe tbody tr th {\n",
       "        vertical-align: top;\n",
       "    }\n",
       "\n",
       "    .dataframe thead th {\n",
       "        text-align: right;\n",
       "    }\n",
       "</style>\n",
       "<table border=\"1\" class=\"dataframe\">\n",
       "  <thead>\n",
       "    <tr style=\"text-align: right;\">\n",
       "      <th></th>\n",
       "      <th>start_time</th>\n",
       "      <th>end_time</th>\n",
       "      <th>start_station_id</th>\n",
       "      <th>end_station_id</th>\n",
       "      <th>start_station_name</th>\n",
       "      <th>end_station_name</th>\n",
       "      <th>bike_id</th>\n",
       "      <th>user_type</th>\n",
       "      <th>start_hour</th>\n",
       "      <th>weekday</th>\n",
       "      <th>duration</th>\n",
       "    </tr>\n",
       "  </thead>\n",
       "  <tbody>\n",
       "    <tr>\n",
       "      <th>1175230</th>\n",
       "      <td>2017-11-05 01:52:32</td>\n",
       "      <td>2017-11-05 01:00:38</td>\n",
       "      <td>55</td>\n",
       "      <td>178</td>\n",
       "      <td>Boylston St at Massachusetts Ave</td>\n",
       "      <td>MIT Pacific St at Purrington St</td>\n",
       "      <td>1038</td>\n",
       "      <td>Subscriber</td>\n",
       "      <td>1</td>\n",
       "      <td>6</td>\n",
       "      <td>-1 days +23:08:06</td>\n",
       "    </tr>\n",
       "    <tr>\n",
       "      <th>1175233</th>\n",
       "      <td>2017-11-05 01:55:32</td>\n",
       "      <td>2017-11-05 01:06:34</td>\n",
       "      <td>48</td>\n",
       "      <td>39</td>\n",
       "      <td>Post Office Square - Pearl St at Milk St</td>\n",
       "      <td>Washington St at Rutland St</td>\n",
       "      <td>1916</td>\n",
       "      <td>Subscriber</td>\n",
       "      <td>1</td>\n",
       "      <td>6</td>\n",
       "      <td>-1 days +23:11:02</td>\n",
       "    </tr>\n",
       "    <tr>\n",
       "      <th>1175235</th>\n",
       "      <td>2017-11-05 01:57:53</td>\n",
       "      <td>2017-11-05 01:08:30</td>\n",
       "      <td>90</td>\n",
       "      <td>80</td>\n",
       "      <td>Lechmere Station at Cambridge St / First St</td>\n",
       "      <td>MIT Stata Center at Vassar St / Main St</td>\n",
       "      <td>1021</td>\n",
       "      <td>Subscriber</td>\n",
       "      <td>1</td>\n",
       "      <td>6</td>\n",
       "      <td>-1 days +23:10:37</td>\n",
       "    </tr>\n",
       "    <tr>\n",
       "      <th>1175236</th>\n",
       "      <td>2017-11-05 01:58:28</td>\n",
       "      <td>2017-11-05 01:16:59</td>\n",
       "      <td>49</td>\n",
       "      <td>178</td>\n",
       "      <td>Stuart St at Charles St</td>\n",
       "      <td>MIT Pacific St at Purrington St</td>\n",
       "      <td>1139</td>\n",
       "      <td>Subscriber</td>\n",
       "      <td>1</td>\n",
       "      <td>6</td>\n",
       "      <td>-1 days +23:18:31</td>\n",
       "    </tr>\n",
       "    <tr>\n",
       "      <th>1175237</th>\n",
       "      <td>2017-11-05 01:58:50</td>\n",
       "      <td>2017-11-05 01:04:57</td>\n",
       "      <td>49</td>\n",
       "      <td>60</td>\n",
       "      <td>Stuart St at Charles St</td>\n",
       "      <td>Charles Circle - Charles St at Cambridge St</td>\n",
       "      <td>847</td>\n",
       "      <td>Subscriber</td>\n",
       "      <td>1</td>\n",
       "      <td>6</td>\n",
       "      <td>-1 days +23:06:07</td>\n",
       "    </tr>\n",
       "    <tr>\n",
       "      <th>1175238</th>\n",
       "      <td>2017-11-05 01:59:59</td>\n",
       "      <td>2017-11-05 01:21:46</td>\n",
       "      <td>49</td>\n",
       "      <td>130</td>\n",
       "      <td>Stuart St at Charles St</td>\n",
       "      <td>Upham's Corner</td>\n",
       "      <td>1645</td>\n",
       "      <td>Subscriber</td>\n",
       "      <td>1</td>\n",
       "      <td>6</td>\n",
       "      <td>-1 days +23:21:47</td>\n",
       "    </tr>\n",
       "  </tbody>\n",
       "</table>\n",
       "</div>"
      ],
      "text/plain": [
       "                 start_time            end_time  start_station_id  \\\n",
       "1175230 2017-11-05 01:52:32 2017-11-05 01:00:38                55   \n",
       "1175233 2017-11-05 01:55:32 2017-11-05 01:06:34                48   \n",
       "1175235 2017-11-05 01:57:53 2017-11-05 01:08:30                90   \n",
       "1175236 2017-11-05 01:58:28 2017-11-05 01:16:59                49   \n",
       "1175237 2017-11-05 01:58:50 2017-11-05 01:04:57                49   \n",
       "1175238 2017-11-05 01:59:59 2017-11-05 01:21:46                49   \n",
       "\n",
       "         end_station_id                           start_station_name  \\\n",
       "1175230             178             Boylston St at Massachusetts Ave   \n",
       "1175233              39     Post Office Square - Pearl St at Milk St   \n",
       "1175235              80  Lechmere Station at Cambridge St / First St   \n",
       "1175236             178                      Stuart St at Charles St   \n",
       "1175237              60                      Stuart St at Charles St   \n",
       "1175238             130                      Stuart St at Charles St   \n",
       "\n",
       "                                    end_station_name  bike_id   user_type  \\\n",
       "1175230              MIT Pacific St at Purrington St     1038  Subscriber   \n",
       "1175233                  Washington St at Rutland St     1916  Subscriber   \n",
       "1175235      MIT Stata Center at Vassar St / Main St     1021  Subscriber   \n",
       "1175236              MIT Pacific St at Purrington St     1139  Subscriber   \n",
       "1175237  Charles Circle - Charles St at Cambridge St      847  Subscriber   \n",
       "1175238                               Upham's Corner     1645  Subscriber   \n",
       "\n",
       "         start_hour  weekday          duration  \n",
       "1175230           1        6 -1 days +23:08:06  \n",
       "1175233           1        6 -1 days +23:11:02  \n",
       "1175235           1        6 -1 days +23:10:37  \n",
       "1175236           1        6 -1 days +23:18:31  \n",
       "1175237           1        6 -1 days +23:06:07  \n",
       "1175238           1        6 -1 days +23:21:47  "
      ]
     },
     "execution_count": 106,
     "metadata": {},
     "output_type": "execute_result"
    }
   ],
   "source": []
  },
  {
   "cell_type": "markdown",
   "id": "1c574f4d",
   "metadata": {},
   "source": [
    "### Weather data Cleaning "
   ]
  },
  {
   "cell_type": "code",
   "execution_count": 80,
   "id": "558de89e",
   "metadata": {},
   "outputs": [
    {
     "name": "stdout",
     "output_type": "stream",
     "text": [
      "<class 'pandas.core.frame.DataFrame'>\n",
      "RangeIndex: 43848 entries, 0 to 43847\n",
      "Data columns (total 4 columns):\n",
      " #   Column     Non-Null Count  Dtype  \n",
      "---  ------     --------------  -----  \n",
      " 0   date_time  43354 non-null  object \n",
      " 1   max_temp   43354 non-null  float64\n",
      " 2   min_temp   43354 non-null  float64\n",
      " 3   precip     43356 non-null  float64\n",
      "dtypes: float64(3), object(1)\n",
      "memory usage: 1.3+ MB\n"
     ]
    }
   ],
   "source": [
    "df_Weather.info()"
   ]
  },
  {
   "cell_type": "code",
   "execution_count": 81,
   "id": "2bb709e0",
   "metadata": {},
   "outputs": [
    {
     "data": {
      "text/plain": [
       "1974"
      ]
     },
     "execution_count": 81,
     "metadata": {},
     "output_type": "execute_result"
    }
   ],
   "source": [
    "df_Weather.isnull().values.sum()"
   ]
  },
  {
   "cell_type": "code",
   "execution_count": 82,
   "id": "4df6a0d7",
   "metadata": {},
   "outputs": [
    {
     "data": {
      "text/html": [
       "<div>\n",
       "<style scoped>\n",
       "    .dataframe tbody tr th:only-of-type {\n",
       "        vertical-align: middle;\n",
       "    }\n",
       "\n",
       "    .dataframe tbody tr th {\n",
       "        vertical-align: top;\n",
       "    }\n",
       "\n",
       "    .dataframe thead th {\n",
       "        text-align: right;\n",
       "    }\n",
       "</style>\n",
       "<table border=\"1\" class=\"dataframe\">\n",
       "  <thead>\n",
       "    <tr style=\"text-align: right;\">\n",
       "      <th></th>\n",
       "      <th>date_time</th>\n",
       "      <th>max_temp</th>\n",
       "      <th>min_temp</th>\n",
       "      <th>precip</th>\n",
       "    </tr>\n",
       "  </thead>\n",
       "  <tbody>\n",
       "    <tr>\n",
       "      <th>0</th>\n",
       "      <td>2015-01-02 01:00:00</td>\n",
       "      <td>-1.1</td>\n",
       "      <td>-1.1</td>\n",
       "      <td>0.0</td>\n",
       "    </tr>\n",
       "    <tr>\n",
       "      <th>1</th>\n",
       "      <td>2015-01-02 02:00:00</td>\n",
       "      <td>-1.1</td>\n",
       "      <td>-1.1</td>\n",
       "      <td>0.0</td>\n",
       "    </tr>\n",
       "    <tr>\n",
       "      <th>2</th>\n",
       "      <td>2015-01-02 03:00:00</td>\n",
       "      <td>-0.6</td>\n",
       "      <td>-0.6</td>\n",
       "      <td>0.0</td>\n",
       "    </tr>\n",
       "    <tr>\n",
       "      <th>3</th>\n",
       "      <td>2015-01-02 04:00:00</td>\n",
       "      <td>-0.6</td>\n",
       "      <td>-0.6</td>\n",
       "      <td>0.0</td>\n",
       "    </tr>\n",
       "    <tr>\n",
       "      <th>4</th>\n",
       "      <td>2015-01-02 05:00:00</td>\n",
       "      <td>-0.6</td>\n",
       "      <td>-0.6</td>\n",
       "      <td>0.0</td>\n",
       "    </tr>\n",
       "  </tbody>\n",
       "</table>\n",
       "</div>"
      ],
      "text/plain": [
       "             date_time  max_temp  min_temp  precip\n",
       "0  2015-01-02 01:00:00      -1.1      -1.1     0.0\n",
       "1  2015-01-02 02:00:00      -1.1      -1.1     0.0\n",
       "2  2015-01-02 03:00:00      -0.6      -0.6     0.0\n",
       "3  2015-01-02 04:00:00      -0.6      -0.6     0.0\n",
       "4  2015-01-02 05:00:00      -0.6      -0.6     0.0"
      ]
     },
     "execution_count": 82,
     "metadata": {},
     "output_type": "execute_result"
    }
   ],
   "source": [
    "df_Weather.head(5)"
   ]
  },
  {
   "cell_type": "code",
   "execution_count": 83,
   "id": "69776235",
   "metadata": {},
   "outputs": [
    {
     "data": {
      "text/html": [
       "<div>\n",
       "<style scoped>\n",
       "    .dataframe tbody tr th:only-of-type {\n",
       "        vertical-align: middle;\n",
       "    }\n",
       "\n",
       "    .dataframe tbody tr th {\n",
       "        vertical-align: top;\n",
       "    }\n",
       "\n",
       "    .dataframe thead th {\n",
       "        text-align: right;\n",
       "    }\n",
       "</style>\n",
       "<table border=\"1\" class=\"dataframe\">\n",
       "  <thead>\n",
       "    <tr style=\"text-align: right;\">\n",
       "      <th></th>\n",
       "      <th>date_time</th>\n",
       "      <th>max_temp</th>\n",
       "      <th>min_temp</th>\n",
       "      <th>precip</th>\n",
       "    </tr>\n",
       "  </thead>\n",
       "  <tbody>\n",
       "    <tr>\n",
       "      <th>43843</th>\n",
       "      <td>2020-01-01 20:00:00</td>\n",
       "      <td>5.0</td>\n",
       "      <td>5.0</td>\n",
       "      <td>0.0</td>\n",
       "    </tr>\n",
       "    <tr>\n",
       "      <th>43844</th>\n",
       "      <td>2020-01-01 21:00:00</td>\n",
       "      <td>4.4</td>\n",
       "      <td>4.4</td>\n",
       "      <td>0.0</td>\n",
       "    </tr>\n",
       "    <tr>\n",
       "      <th>43845</th>\n",
       "      <td>2020-01-01 22:00:00</td>\n",
       "      <td>4.4</td>\n",
       "      <td>4.4</td>\n",
       "      <td>0.0</td>\n",
       "    </tr>\n",
       "    <tr>\n",
       "      <th>43846</th>\n",
       "      <td>2020-01-01 23:00:00</td>\n",
       "      <td>3.9</td>\n",
       "      <td>3.9</td>\n",
       "      <td>0.0</td>\n",
       "    </tr>\n",
       "    <tr>\n",
       "      <th>43847</th>\n",
       "      <td>2020-01-02 00:00:00</td>\n",
       "      <td>3.3</td>\n",
       "      <td>3.3</td>\n",
       "      <td>0.0</td>\n",
       "    </tr>\n",
       "  </tbody>\n",
       "</table>\n",
       "</div>"
      ],
      "text/plain": [
       "                 date_time  max_temp  min_temp  precip\n",
       "43843  2020-01-01 20:00:00       5.0       5.0     0.0\n",
       "43844  2020-01-01 21:00:00       4.4       4.4     0.0\n",
       "43845  2020-01-01 22:00:00       4.4       4.4     0.0\n",
       "43846  2020-01-01 23:00:00       3.9       3.9     0.0\n",
       "43847  2020-01-02 00:00:00       3.3       3.3     0.0"
      ]
     },
     "execution_count": 83,
     "metadata": {},
     "output_type": "execute_result"
    }
   ],
   "source": [
    "df_Weather.tail(5)"
   ]
  },
  {
   "cell_type": "markdown",
   "id": "d9d78ed1",
   "metadata": {},
   "source": [
    "The dataset containing information about the weather reaches from 2015 - 2020. As only data of 2017 is needed, the data can limited to this year. "
   ]
  },
  {
   "cell_type": "code",
   "execution_count": 90,
   "id": "a8e84a6d",
   "metadata": {},
   "outputs": [],
   "source": [
    "df_Weather['date_time'] = pd.to_datetime(df_Weather['date_time'])\n",
    "\n",
    "df_Weather2 = df_Weather[(df_Weather['date_time'] > \"2017-01-01\") & (df_Weather['date_time'] < \"2018-01-01\")]\n"
   ]
  },
  {
   "cell_type": "code",
   "execution_count": 85,
   "id": "3b918b8a",
   "metadata": {},
   "outputs": [
    {
     "name": "stdout",
     "output_type": "stream",
     "text": [
      "<class 'pandas.core.frame.DataFrame'>\n",
      "Int64Index: 8689 entries, 17520 to 26302\n",
      "Data columns (total 4 columns):\n",
      " #   Column     Non-Null Count  Dtype         \n",
      "---  ------     --------------  -----         \n",
      " 0   date_time  8689 non-null   datetime64[ns]\n",
      " 1   max_temp   8689 non-null   float64       \n",
      " 2   min_temp   8689 non-null   float64       \n",
      " 3   precip     8689 non-null   float64       \n",
      "dtypes: datetime64[ns](1), float64(3)\n",
      "memory usage: 339.4 KB\n"
     ]
    }
   ],
   "source": [
    "df_Weather2.info()"
   ]
  },
  {
   "cell_type": "markdown",
   "id": "63cad4f5",
   "metadata": {},
   "source": [
    "To display information about every hour in 2017 the weather data should contain 365 * 24 = 8760 rows. As the filtered dataframe only has 8689 entries, information about 71 hours is missing. "
   ]
  },
  {
   "cell_type": "code",
   "execution_count": 86,
   "id": "8fe59e73",
   "metadata": {},
   "outputs": [
    {
     "data": {
      "text/plain": [
       "0"
      ]
     },
     "execution_count": 86,
     "metadata": {},
     "output_type": "execute_result"
    }
   ],
   "source": [
    "df_Weather2.isnull().values.sum()"
   ]
  },
  {
   "cell_type": "markdown",
   "id": "83395888",
   "metadata": {},
   "source": [
    "Fortunatley no NA values are in the dataset anymore."
   ]
  },
  {
   "cell_type": "code",
   "execution_count": 87,
   "id": "7f85e67a",
   "metadata": {},
   "outputs": [
    {
     "data": {
      "text/html": [
       "<div>\n",
       "<style scoped>\n",
       "    .dataframe tbody tr th:only-of-type {\n",
       "        vertical-align: middle;\n",
       "    }\n",
       "\n",
       "    .dataframe tbody tr th {\n",
       "        vertical-align: top;\n",
       "    }\n",
       "\n",
       "    .dataframe thead th {\n",
       "        text-align: right;\n",
       "    }\n",
       "</style>\n",
       "<table border=\"1\" class=\"dataframe\">\n",
       "  <thead>\n",
       "    <tr style=\"text-align: right;\">\n",
       "      <th></th>\n",
       "      <th>date_time</th>\n",
       "      <th>max_temp</th>\n",
       "      <th>min_temp</th>\n",
       "      <th>precip</th>\n",
       "    </tr>\n",
       "  </thead>\n",
       "  <tbody>\n",
       "    <tr>\n",
       "      <th>17520</th>\n",
       "      <td>2017-01-01 01:00:00</td>\n",
       "      <td>4.4</td>\n",
       "      <td>4.4</td>\n",
       "      <td>0.0</td>\n",
       "    </tr>\n",
       "    <tr>\n",
       "      <th>17521</th>\n",
       "      <td>2017-01-01 02:00:00</td>\n",
       "      <td>5.0</td>\n",
       "      <td>5.0</td>\n",
       "      <td>1.0</td>\n",
       "    </tr>\n",
       "    <tr>\n",
       "      <th>17522</th>\n",
       "      <td>2017-01-01 03:00:00</td>\n",
       "      <td>5.0</td>\n",
       "      <td>5.0</td>\n",
       "      <td>1.0</td>\n",
       "    </tr>\n",
       "    <tr>\n",
       "      <th>17523</th>\n",
       "      <td>2017-01-01 04:00:00</td>\n",
       "      <td>5.0</td>\n",
       "      <td>4.4</td>\n",
       "      <td>1.0</td>\n",
       "    </tr>\n",
       "    <tr>\n",
       "      <th>17524</th>\n",
       "      <td>2017-01-01 05:00:00</td>\n",
       "      <td>4.4</td>\n",
       "      <td>4.4</td>\n",
       "      <td>1.0</td>\n",
       "    </tr>\n",
       "  </tbody>\n",
       "</table>\n",
       "</div>"
      ],
      "text/plain": [
       "                date_time  max_temp  min_temp  precip\n",
       "17520 2017-01-01 01:00:00       4.4       4.4     0.0\n",
       "17521 2017-01-01 02:00:00       5.0       5.0     1.0\n",
       "17522 2017-01-01 03:00:00       5.0       5.0     1.0\n",
       "17523 2017-01-01 04:00:00       5.0       4.4     1.0\n",
       "17524 2017-01-01 05:00:00       4.4       4.4     1.0"
      ]
     },
     "execution_count": 87,
     "metadata": {},
     "output_type": "execute_result"
    }
   ],
   "source": [
    "df_Weather2.head(5)"
   ]
  },
  {
   "cell_type": "code",
   "execution_count": 88,
   "id": "6b62cf31",
   "metadata": {},
   "outputs": [
    {
     "data": {
      "text/html": [
       "<div>\n",
       "<style scoped>\n",
       "    .dataframe tbody tr th:only-of-type {\n",
       "        vertical-align: middle;\n",
       "    }\n",
       "\n",
       "    .dataframe tbody tr th {\n",
       "        vertical-align: top;\n",
       "    }\n",
       "\n",
       "    .dataframe thead th {\n",
       "        text-align: right;\n",
       "    }\n",
       "</style>\n",
       "<table border=\"1\" class=\"dataframe\">\n",
       "  <thead>\n",
       "    <tr style=\"text-align: right;\">\n",
       "      <th></th>\n",
       "      <th>date_time</th>\n",
       "      <th>max_temp</th>\n",
       "      <th>min_temp</th>\n",
       "      <th>precip</th>\n",
       "    </tr>\n",
       "  </thead>\n",
       "  <tbody>\n",
       "    <tr>\n",
       "      <th>26298</th>\n",
       "      <td>2017-12-31 19:00:00</td>\n",
       "      <td>-11.1</td>\n",
       "      <td>-11.1</td>\n",
       "      <td>0.0</td>\n",
       "    </tr>\n",
       "    <tr>\n",
       "      <th>26299</th>\n",
       "      <td>2017-12-31 20:00:00</td>\n",
       "      <td>-10.6</td>\n",
       "      <td>-10.6</td>\n",
       "      <td>0.0</td>\n",
       "    </tr>\n",
       "    <tr>\n",
       "      <th>26300</th>\n",
       "      <td>2017-12-31 21:00:00</td>\n",
       "      <td>-11.1</td>\n",
       "      <td>-11.1</td>\n",
       "      <td>0.0</td>\n",
       "    </tr>\n",
       "    <tr>\n",
       "      <th>26301</th>\n",
       "      <td>2017-12-31 22:00:00</td>\n",
       "      <td>-11.7</td>\n",
       "      <td>-11.7</td>\n",
       "      <td>0.0</td>\n",
       "    </tr>\n",
       "    <tr>\n",
       "      <th>26302</th>\n",
       "      <td>2017-12-31 23:00:00</td>\n",
       "      <td>-11.1</td>\n",
       "      <td>-11.1</td>\n",
       "      <td>0.0</td>\n",
       "    </tr>\n",
       "  </tbody>\n",
       "</table>\n",
       "</div>"
      ],
      "text/plain": [
       "                date_time  max_temp  min_temp  precip\n",
       "26298 2017-12-31 19:00:00     -11.1     -11.1     0.0\n",
       "26299 2017-12-31 20:00:00     -10.6     -10.6     0.0\n",
       "26300 2017-12-31 21:00:00     -11.1     -11.1     0.0\n",
       "26301 2017-12-31 22:00:00     -11.7     -11.7     0.0\n",
       "26302 2017-12-31 23:00:00     -11.1     -11.1     0.0"
      ]
     },
     "execution_count": 88,
     "metadata": {},
     "output_type": "execute_result"
    }
   ],
   "source": [
    "df_Weather2.tail(5)"
   ]
  },
  {
   "cell_type": "code",
   "execution_count": 89,
   "id": "b36efe2c",
   "metadata": {},
   "outputs": [
    {
     "data": {
      "text/html": [
       "<div>\n",
       "<style scoped>\n",
       "    .dataframe tbody tr th:only-of-type {\n",
       "        vertical-align: middle;\n",
       "    }\n",
       "\n",
       "    .dataframe tbody tr th {\n",
       "        vertical-align: top;\n",
       "    }\n",
       "\n",
       "    .dataframe thead th {\n",
       "        text-align: right;\n",
       "    }\n",
       "</style>\n",
       "<table border=\"1\" class=\"dataframe\">\n",
       "  <thead>\n",
       "    <tr style=\"text-align: right;\">\n",
       "      <th></th>\n",
       "      <th>Number</th>\n",
       "      <th>Name</th>\n",
       "      <th>Latitude</th>\n",
       "      <th>Longitude</th>\n",
       "      <th>District</th>\n",
       "      <th>Public</th>\n",
       "      <th>Total docks</th>\n",
       "    </tr>\n",
       "  </thead>\n",
       "  <tbody>\n",
       "    <tr>\n",
       "      <th>0</th>\n",
       "      <td>K32015</td>\n",
       "      <td>1200 Beacon St</td>\n",
       "      <td>42.344149</td>\n",
       "      <td>-71.114674</td>\n",
       "      <td>Brookline</td>\n",
       "      <td>Yes</td>\n",
       "      <td>15</td>\n",
       "    </tr>\n",
       "    <tr>\n",
       "      <th>1</th>\n",
       "      <td>W32006</td>\n",
       "      <td>160 Arsenal</td>\n",
       "      <td>42.364664</td>\n",
       "      <td>-71.175694</td>\n",
       "      <td>Watertown</td>\n",
       "      <td>Yes</td>\n",
       "      <td>11</td>\n",
       "    </tr>\n",
       "    <tr>\n",
       "      <th>2</th>\n",
       "      <td>A32019</td>\n",
       "      <td>175 N Harvard St</td>\n",
       "      <td>42.363796</td>\n",
       "      <td>-71.129164</td>\n",
       "      <td>Boston</td>\n",
       "      <td>Yes</td>\n",
       "      <td>18</td>\n",
       "    </tr>\n",
       "    <tr>\n",
       "      <th>3</th>\n",
       "      <td>S32035</td>\n",
       "      <td>191 Beacon St</td>\n",
       "      <td>42.380323</td>\n",
       "      <td>-71.108786</td>\n",
       "      <td>Somerville</td>\n",
       "      <td>Yes</td>\n",
       "      <td>19</td>\n",
       "    </tr>\n",
       "    <tr>\n",
       "      <th>4</th>\n",
       "      <td>C32094</td>\n",
       "      <td>2 Hummingbird Lane at Olmsted Green</td>\n",
       "      <td>42.288870</td>\n",
       "      <td>-71.095003</td>\n",
       "      <td>Boston</td>\n",
       "      <td>Yes</td>\n",
       "      <td>17</td>\n",
       "    </tr>\n",
       "  </tbody>\n",
       "</table>\n",
       "</div>"
      ],
      "text/plain": [
       "   Number                                 Name   Latitude  Longitude  \\\n",
       "0  K32015                       1200 Beacon St  42.344149 -71.114674   \n",
       "1  W32006                          160 Arsenal  42.364664 -71.175694   \n",
       "2  A32019                     175 N Harvard St  42.363796 -71.129164   \n",
       "3  S32035                        191 Beacon St  42.380323 -71.108786   \n",
       "4  C32094  2 Hummingbird Lane at Olmsted Green  42.288870 -71.095003   \n",
       "\n",
       "     District Public  Total docks  \n",
       "0   Brookline    Yes           15  \n",
       "1   Watertown    Yes           11  \n",
       "2      Boston    Yes           18  \n",
       "3  Somerville    Yes           19  \n",
       "4      Boston    Yes           17  "
      ]
     },
     "execution_count": 89,
     "metadata": {},
     "output_type": "execute_result"
    }
   ],
   "source": [
    "df_Stations.head()"
   ]
  },
  {
   "cell_type": "code",
   "execution_count": null,
   "id": "a606b86d",
   "metadata": {},
   "outputs": [],
   "source": []
  },
  {
   "cell_type": "code",
   "execution_count": null,
   "id": "3e608bcd",
   "metadata": {},
   "outputs": [],
   "source": []
  }
 ],
 "metadata": {
  "kernelspec": {
   "display_name": "Python 3 (ipykernel)",
   "language": "python",
   "name": "python3"
  },
  "language_info": {
   "codemirror_mode": {
    "name": "ipython",
    "version": 3
   },
   "file_extension": ".py",
   "mimetype": "text/x-python",
   "name": "python",
   "nbconvert_exporter": "python",
   "pygments_lexer": "ipython3",
   "version": "3.10.0"
  }
 },
 "nbformat": 4,
 "nbformat_minor": 5
}
