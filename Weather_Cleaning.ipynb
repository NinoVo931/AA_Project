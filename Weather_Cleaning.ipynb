{
 "cells": [
  {
   "cell_type": "markdown",
   "id": "b4bb1763",
   "metadata": {},
   "source": [
    "# 2. Weather data cleaning"
   ]
  },
  {
   "cell_type": "markdown",
   "id": "0f5ad4dd",
   "metadata": {},
   "source": [
    "In this section we will focus on the weather data set. \n",
    "\n",
    "Import of packages:"
   ]
  },
  {
   "cell_type": "code",
   "execution_count": 4,
   "id": "357e84df",
   "metadata": {},
   "outputs": [],
   "source": [
    "import pandas as pd\n",
    "import numpy as np"
   ]
  },
  {
   "cell_type": "markdown",
   "id": "56fd8654",
   "metadata": {},
   "source": [
    "Import of data set:"
   ]
  },
  {
   "cell_type": "code",
   "execution_count": 5,
   "id": "2b2c1a15",
   "metadata": {},
   "outputs": [],
   "source": [
    "df_weather = pd.read_csv('data\\weather_hourly_boston.csv')"
   ]
  },
  {
   "cell_type": "markdown",
   "id": "aa56785e",
   "metadata": {},
   "source": [
    "## 2.1 Getting a first overview of the weather data"
   ]
  },
  {
   "cell_type": "code",
   "execution_count": 6,
   "id": "ffe38862",
   "metadata": {},
   "outputs": [
    {
     "name": "stdout",
     "output_type": "stream",
     "text": [
      "<class 'pandas.core.frame.DataFrame'>\n",
      "RangeIndex: 43848 entries, 0 to 43847\n",
      "Data columns (total 4 columns):\n",
      " #   Column     Non-Null Count  Dtype  \n",
      "---  ------     --------------  -----  \n",
      " 0   date_time  43354 non-null  object \n",
      " 1   max_temp   43354 non-null  float64\n",
      " 2   min_temp   43354 non-null  float64\n",
      " 3   precip     43356 non-null  float64\n",
      "dtypes: float64(3), object(1)\n",
      "memory usage: 1.3+ MB\n"
     ]
    }
   ],
   "source": [
    "df_weather.info()"
   ]
  },
  {
   "cell_type": "code",
   "execution_count": 7,
   "id": "045d320d",
   "metadata": {},
   "outputs": [
    {
     "data": {
      "text/plain": [
       "Index(['date_time', 'max_temp', 'min_temp', 'precip'], dtype='object')"
      ]
     },
     "execution_count": 7,
     "metadata": {},
     "output_type": "execute_result"
    }
   ],
   "source": [
    "df_weather.columns"
   ]
  },
  {
   "cell_type": "code",
   "execution_count": 8,
   "id": "e3a1893b",
   "metadata": {},
   "outputs": [
    {
     "data": {
      "text/html": [
       "<div>\n",
       "<style scoped>\n",
       "    .dataframe tbody tr th:only-of-type {\n",
       "        vertical-align: middle;\n",
       "    }\n",
       "\n",
       "    .dataframe tbody tr th {\n",
       "        vertical-align: top;\n",
       "    }\n",
       "\n",
       "    .dataframe thead th {\n",
       "        text-align: right;\n",
       "    }\n",
       "</style>\n",
       "<table border=\"1\" class=\"dataframe\">\n",
       "  <thead>\n",
       "    <tr style=\"text-align: right;\">\n",
       "      <th></th>\n",
       "      <th>date_time</th>\n",
       "      <th>max_temp</th>\n",
       "      <th>min_temp</th>\n",
       "      <th>precip</th>\n",
       "    </tr>\n",
       "  </thead>\n",
       "  <tbody>\n",
       "    <tr>\n",
       "      <th>0</th>\n",
       "      <td>2015-01-02 01:00:00</td>\n",
       "      <td>-1.1</td>\n",
       "      <td>-1.1</td>\n",
       "      <td>0.0</td>\n",
       "    </tr>\n",
       "    <tr>\n",
       "      <th>1</th>\n",
       "      <td>2015-01-02 02:00:00</td>\n",
       "      <td>-1.1</td>\n",
       "      <td>-1.1</td>\n",
       "      <td>0.0</td>\n",
       "    </tr>\n",
       "    <tr>\n",
       "      <th>2</th>\n",
       "      <td>2015-01-02 03:00:00</td>\n",
       "      <td>-0.6</td>\n",
       "      <td>-0.6</td>\n",
       "      <td>0.0</td>\n",
       "    </tr>\n",
       "    <tr>\n",
       "      <th>3</th>\n",
       "      <td>2015-01-02 04:00:00</td>\n",
       "      <td>-0.6</td>\n",
       "      <td>-0.6</td>\n",
       "      <td>0.0</td>\n",
       "    </tr>\n",
       "    <tr>\n",
       "      <th>4</th>\n",
       "      <td>2015-01-02 05:00:00</td>\n",
       "      <td>-0.6</td>\n",
       "      <td>-0.6</td>\n",
       "      <td>0.0</td>\n",
       "    </tr>\n",
       "  </tbody>\n",
       "</table>\n",
       "</div>"
      ],
      "text/plain": [
       "             date_time  max_temp  min_temp  precip\n",
       "0  2015-01-02 01:00:00      -1.1      -1.1     0.0\n",
       "1  2015-01-02 02:00:00      -1.1      -1.1     0.0\n",
       "2  2015-01-02 03:00:00      -0.6      -0.6     0.0\n",
       "3  2015-01-02 04:00:00      -0.6      -0.6     0.0\n",
       "4  2015-01-02 05:00:00      -0.6      -0.6     0.0"
      ]
     },
     "execution_count": 8,
     "metadata": {},
     "output_type": "execute_result"
    }
   ],
   "source": [
    "df_weather.head(5)"
   ]
  },
  {
   "cell_type": "code",
   "execution_count": 9,
   "id": "76649a1d",
   "metadata": {},
   "outputs": [
    {
     "data": {
      "text/html": [
       "<div>\n",
       "<style scoped>\n",
       "    .dataframe tbody tr th:only-of-type {\n",
       "        vertical-align: middle;\n",
       "    }\n",
       "\n",
       "    .dataframe tbody tr th {\n",
       "        vertical-align: top;\n",
       "    }\n",
       "\n",
       "    .dataframe thead th {\n",
       "        text-align: right;\n",
       "    }\n",
       "</style>\n",
       "<table border=\"1\" class=\"dataframe\">\n",
       "  <thead>\n",
       "    <tr style=\"text-align: right;\">\n",
       "      <th></th>\n",
       "      <th>date_time</th>\n",
       "      <th>max_temp</th>\n",
       "      <th>min_temp</th>\n",
       "      <th>precip</th>\n",
       "    </tr>\n",
       "  </thead>\n",
       "  <tbody>\n",
       "    <tr>\n",
       "      <th>43843</th>\n",
       "      <td>2020-01-01 20:00:00</td>\n",
       "      <td>5.0</td>\n",
       "      <td>5.0</td>\n",
       "      <td>0.0</td>\n",
       "    </tr>\n",
       "    <tr>\n",
       "      <th>43844</th>\n",
       "      <td>2020-01-01 21:00:00</td>\n",
       "      <td>4.4</td>\n",
       "      <td>4.4</td>\n",
       "      <td>0.0</td>\n",
       "    </tr>\n",
       "    <tr>\n",
       "      <th>43845</th>\n",
       "      <td>2020-01-01 22:00:00</td>\n",
       "      <td>4.4</td>\n",
       "      <td>4.4</td>\n",
       "      <td>0.0</td>\n",
       "    </tr>\n",
       "    <tr>\n",
       "      <th>43846</th>\n",
       "      <td>2020-01-01 23:00:00</td>\n",
       "      <td>3.9</td>\n",
       "      <td>3.9</td>\n",
       "      <td>0.0</td>\n",
       "    </tr>\n",
       "    <tr>\n",
       "      <th>43847</th>\n",
       "      <td>2020-01-02 00:00:00</td>\n",
       "      <td>3.3</td>\n",
       "      <td>3.3</td>\n",
       "      <td>0.0</td>\n",
       "    </tr>\n",
       "  </tbody>\n",
       "</table>\n",
       "</div>"
      ],
      "text/plain": [
       "                 date_time  max_temp  min_temp  precip\n",
       "43843  2020-01-01 20:00:00       5.0       5.0     0.0\n",
       "43844  2020-01-01 21:00:00       4.4       4.4     0.0\n",
       "43845  2020-01-01 22:00:00       4.4       4.4     0.0\n",
       "43846  2020-01-01 23:00:00       3.9       3.9     0.0\n",
       "43847  2020-01-02 00:00:00       3.3       3.3     0.0"
      ]
     },
     "execution_count": 9,
     "metadata": {},
     "output_type": "execute_result"
    }
   ],
   "source": [
    "df_weather.tail(5)"
   ]
  },
  {
   "cell_type": "markdown",
   "id": "a04b6942",
   "metadata": {},
   "source": [
    "## 2.2 Identifying missing or wrong values and duplicates"
   ]
  },
  {
   "cell_type": "code",
   "execution_count": 10,
   "id": "d789e9d5",
   "metadata": {},
   "outputs": [
    {
     "data": {
      "text/plain": [
       "1974"
      ]
     },
     "execution_count": 10,
     "metadata": {},
     "output_type": "execute_result"
    }
   ],
   "source": [
    "df_weather.isnull().values.sum()"
   ]
  },
  {
   "cell_type": "code",
   "execution_count": 11,
   "id": "7a0661f2",
   "metadata": {},
   "outputs": [
    {
     "data": {
      "text/plain": [
       "1070"
      ]
     },
     "execution_count": 11,
     "metadata": {},
     "output_type": "execute_result"
    }
   ],
   "source": [
    "df_weather.duplicated().sum()"
   ]
  },
  {
   "cell_type": "markdown",
   "id": "9743c7a3",
   "metadata": {},
   "source": [
    "Apparently there are some null values and also duplicates, which need to be handled later on."
   ]
  },
  {
   "cell_type": "markdown",
   "id": "a74670d2",
   "metadata": {},
   "source": [
    "## 2.3 Clean bad data"
   ]
  },
  {
   "cell_type": "markdown",
   "id": "c7a32419",
   "metadata": {},
   "source": [
    "### 2.3.1 Remove data from other years\n",
    "The dataset contains information about the weather from 2015 - 2020. As only data of 2017 are needed, the data can be limited to this specific year. "
   ]
  },
  {
   "cell_type": "code",
   "execution_count": 12,
   "id": "a9167bd5",
   "metadata": {},
   "outputs": [],
   "source": [
    "df_weather['date_time'] = pd.to_datetime(df_weather['date_time'])\n",
    "\n",
    "df_weather_2017 = df_weather[(df_weather['date_time'] >= \"2017-01-01\") & (df_weather['date_time'] < \"2018-01-01\")]"
   ]
  },
  {
   "cell_type": "code",
   "execution_count": 13,
   "id": "2ef1d9a4",
   "metadata": {},
   "outputs": [
    {
     "data": {
      "text/html": [
       "<div>\n",
       "<style scoped>\n",
       "    .dataframe tbody tr th:only-of-type {\n",
       "        vertical-align: middle;\n",
       "    }\n",
       "\n",
       "    .dataframe tbody tr th {\n",
       "        vertical-align: top;\n",
       "    }\n",
       "\n",
       "    .dataframe thead th {\n",
       "        text-align: right;\n",
       "    }\n",
       "</style>\n",
       "<table border=\"1\" class=\"dataframe\">\n",
       "  <thead>\n",
       "    <tr style=\"text-align: right;\">\n",
       "      <th></th>\n",
       "      <th>date_time</th>\n",
       "      <th>max_temp</th>\n",
       "      <th>min_temp</th>\n",
       "      <th>precip</th>\n",
       "    </tr>\n",
       "  </thead>\n",
       "  <tbody>\n",
       "    <tr>\n",
       "      <th>17543</th>\n",
       "      <td>2017-01-01 00:00:00</td>\n",
       "      <td>3.9</td>\n",
       "      <td>3.9</td>\n",
       "      <td>0.0</td>\n",
       "    </tr>\n",
       "    <tr>\n",
       "      <th>17520</th>\n",
       "      <td>2017-01-01 01:00:00</td>\n",
       "      <td>4.4</td>\n",
       "      <td>4.4</td>\n",
       "      <td>0.0</td>\n",
       "    </tr>\n",
       "    <tr>\n",
       "      <th>17521</th>\n",
       "      <td>2017-01-01 02:00:00</td>\n",
       "      <td>5.0</td>\n",
       "      <td>5.0</td>\n",
       "      <td>1.0</td>\n",
       "    </tr>\n",
       "    <tr>\n",
       "      <th>17522</th>\n",
       "      <td>2017-01-01 03:00:00</td>\n",
       "      <td>5.0</td>\n",
       "      <td>5.0</td>\n",
       "      <td>1.0</td>\n",
       "    </tr>\n",
       "    <tr>\n",
       "      <th>17523</th>\n",
       "      <td>2017-01-01 04:00:00</td>\n",
       "      <td>5.0</td>\n",
       "      <td>4.4</td>\n",
       "      <td>1.0</td>\n",
       "    </tr>\n",
       "    <tr>\n",
       "      <th>...</th>\n",
       "      <td>...</td>\n",
       "      <td>...</td>\n",
       "      <td>...</td>\n",
       "      <td>...</td>\n",
       "    </tr>\n",
       "    <tr>\n",
       "      <th>26298</th>\n",
       "      <td>2017-12-31 19:00:00</td>\n",
       "      <td>-11.1</td>\n",
       "      <td>-11.1</td>\n",
       "      <td>0.0</td>\n",
       "    </tr>\n",
       "    <tr>\n",
       "      <th>26299</th>\n",
       "      <td>2017-12-31 20:00:00</td>\n",
       "      <td>-10.6</td>\n",
       "      <td>-10.6</td>\n",
       "      <td>0.0</td>\n",
       "    </tr>\n",
       "    <tr>\n",
       "      <th>26300</th>\n",
       "      <td>2017-12-31 21:00:00</td>\n",
       "      <td>-11.1</td>\n",
       "      <td>-11.1</td>\n",
       "      <td>0.0</td>\n",
       "    </tr>\n",
       "    <tr>\n",
       "      <th>26301</th>\n",
       "      <td>2017-12-31 22:00:00</td>\n",
       "      <td>-11.7</td>\n",
       "      <td>-11.7</td>\n",
       "      <td>0.0</td>\n",
       "    </tr>\n",
       "    <tr>\n",
       "      <th>26302</th>\n",
       "      <td>2017-12-31 23:00:00</td>\n",
       "      <td>-11.1</td>\n",
       "      <td>-11.1</td>\n",
       "      <td>0.0</td>\n",
       "    </tr>\n",
       "  </tbody>\n",
       "</table>\n",
       "<p>8690 rows × 4 columns</p>\n",
       "</div>"
      ],
      "text/plain": [
       "                date_time  max_temp  min_temp  precip\n",
       "17543 2017-01-01 00:00:00       3.9       3.9     0.0\n",
       "17520 2017-01-01 01:00:00       4.4       4.4     0.0\n",
       "17521 2017-01-01 02:00:00       5.0       5.0     1.0\n",
       "17522 2017-01-01 03:00:00       5.0       5.0     1.0\n",
       "17523 2017-01-01 04:00:00       5.0       4.4     1.0\n",
       "...                   ...       ...       ...     ...\n",
       "26298 2017-12-31 19:00:00     -11.1     -11.1     0.0\n",
       "26299 2017-12-31 20:00:00     -10.6     -10.6     0.0\n",
       "26300 2017-12-31 21:00:00     -11.1     -11.1     0.0\n",
       "26301 2017-12-31 22:00:00     -11.7     -11.7     0.0\n",
       "26302 2017-12-31 23:00:00     -11.1     -11.1     0.0\n",
       "\n",
       "[8690 rows x 4 columns]"
      ]
     },
     "execution_count": 13,
     "metadata": {},
     "output_type": "execute_result"
    }
   ],
   "source": [
    "df_weather_2017 = df_weather_2017.sort_values('date_time', ascending = True)\n",
    "df_weather_2017"
   ]
  },
  {
   "cell_type": "markdown",
   "id": "237c0239",
   "metadata": {},
   "source": [
    "To display information about every hour in 2017 the weather data should contain 365 * 24 = 8760 rows. As the filtered dataframe only has 8690 entries, there are probably 70 hours missing."
   ]
  },
  {
   "cell_type": "markdown",
   "id": "b05ff713",
   "metadata": {},
   "source": [
    "### 2.3.2 Handle null values"
   ]
  },
  {
   "cell_type": "code",
   "execution_count": 14,
   "id": "4a9e5a06",
   "metadata": {},
   "outputs": [
    {
     "data": {
      "text/plain": [
       "0"
      ]
     },
     "execution_count": 14,
     "metadata": {},
     "output_type": "execute_result"
    }
   ],
   "source": [
    "df_weather_2017.isnull().values.sum()"
   ]
  },
  {
   "cell_type": "markdown",
   "id": "da6cee84",
   "metadata": {},
   "source": [
    "Fortunatley no NA values are in the dataset anymore. "
   ]
  },
  {
   "cell_type": "markdown",
   "id": "01fd0cf2",
   "metadata": {},
   "source": [
    "### 2.3.3 Handle duplicates"
   ]
  },
  {
   "cell_type": "code",
   "execution_count": 15,
   "id": "8cc271e1",
   "metadata": {
    "scrolled": true
   },
   "outputs": [
    {
     "name": "stdout",
     "output_type": "stream",
     "text": [
      "<class 'pandas.core.frame.DataFrame'>\n",
      "Int64Index: 8690 entries, 17543 to 26302\n",
      "Data columns (total 4 columns):\n",
      " #   Column     Non-Null Count  Dtype         \n",
      "---  ------     --------------  -----         \n",
      " 0   date_time  8690 non-null   datetime64[ns]\n",
      " 1   max_temp   8690 non-null   float64       \n",
      " 2   min_temp   8690 non-null   float64       \n",
      " 3   precip     8690 non-null   float64       \n",
      "dtypes: datetime64[ns](1), float64(3)\n",
      "memory usage: 339.5 KB\n"
     ]
    }
   ],
   "source": [
    "df_weather_2017.info()"
   ]
  },
  {
   "cell_type": "code",
   "execution_count": 16,
   "id": "2101cecc",
   "metadata": {},
   "outputs": [
    {
     "name": "stdout",
     "output_type": "stream",
     "text": [
      "Apparently there are 1028 duplicate date times, which after closer examination are divided into 382 pairs of duplicate date times and 132 pairs of 'actual' duplicated records.\n"
     ]
    }
   ],
   "source": [
    "dup = len(df_weather_2017[df_weather_2017.duplicated(subset = 'date_time', keep = False)])\n",
    "dup_records = len(df_weather_2017[df_weather_2017.duplicated(keep = 'first')])\n",
    "dup_date_times = len(df_weather_2017) - len(df_weather_2017['date_time'].unique()) - dup_records\n",
    "\n",
    "print(\"Apparently there are %d duplicate date times, which after closer examination are divided into %d pairs of duplicate date times and %d pairs of 'actual' duplicated records.\" % (dup, dup_date_times, dup_records))"
   ]
  },
  {
   "cell_type": "code",
   "execution_count": 17,
   "id": "553f4824",
   "metadata": {},
   "outputs": [
    {
     "data": {
      "text/plain": [
       "8558"
      ]
     },
     "execution_count": 17,
     "metadata": {},
     "output_type": "execute_result"
    }
   ],
   "source": [
    "# Filtering out all 'actual' duplicate records of our DataFrame\n",
    "df_weather_2017 = df_weather_2017.drop_duplicates(keep = 'first')\n",
    "len(df_weather_2017)#.duplicated().sum()"
   ]
  },
  {
   "cell_type": "markdown",
   "id": "89cd7831",
   "metadata": {},
   "source": [
    "So far we have already removed the 132 \"actual\" duplicated records out of our data set by keeping only the first one. Now lets check for the 382 pairs of duplicates. "
   ]
  },
  {
   "cell_type": "code",
   "execution_count": 18,
   "id": "7a010e9e",
   "metadata": {},
   "outputs": [
    {
     "data": {
      "text/plain": [
       "156"
      ]
     },
     "execution_count": 18,
     "metadata": {},
     "output_type": "execute_result"
    }
   ],
   "source": [
    "# Select all duplicate date times with different precip values in the data set\n",
    "# Pseudo: Select all duplicate records of 'date_time' with different values for the \"precip\" column (A.precip != B.precip)\n",
    "    # select * \n",
    "    # from A join (select * from A group by A.date_time having count(*) > 1) B on A.date_time = B.date_time\n",
    "    # where A.precip != B.precip\n",
    "    # order by A.date_time;\n",
    "df_weather_precip_dup = df_weather_2017[df_weather_2017.duplicated(subset = 'date_time', keep = False)].groupby(['date_time']).filter(lambda x: len(x['precip'].unique()) > 1)\n",
    "len(df_weather_precip_dup)"
   ]
  },
  {
   "cell_type": "markdown",
   "id": "a5d5fcce",
   "metadata": {},
   "source": [
    "156 of 382 data rows have a different value for the \"precip\" column of the data frame. \n"
   ]
  },
  {
   "cell_type": "code",
   "execution_count": 19,
   "id": "9297ec28",
   "metadata": {},
   "outputs": [
    {
     "name": "stdout",
     "output_type": "stream",
     "text": [
      "There are only 835 rain days compared to the 7723 sun days in the data set. For simplicitiy, we remove the duplicated records where precipitation is '1' and since it is only a small number it would not make a huge impact.\n"
     ]
    }
   ],
   "source": [
    "rainDays = len(df_weather_2017[df_weather_2017[\"precip\"]==1])\n",
    "sunDays = len(df_weather_2017[df_weather_2017[\"precip\"]==0])\n",
    "\n",
    "print(\"There are only %d rain days compared to the %d sun days in the data set. For simplicitiy, we remove the duplicated records where precipitation is '1' and since it is only a small number it would not make a huge impact.\" %(rainDays, sunDays))"
   ]
  },
  {
   "cell_type": "code",
   "execution_count": 20,
   "id": "34af892d",
   "metadata": {},
   "outputs": [
    {
     "data": {
      "text/html": [
       "<div>\n",
       "<style scoped>\n",
       "    .dataframe tbody tr th:only-of-type {\n",
       "        vertical-align: middle;\n",
       "    }\n",
       "\n",
       "    .dataframe tbody tr th {\n",
       "        vertical-align: top;\n",
       "    }\n",
       "\n",
       "    .dataframe thead th {\n",
       "        text-align: right;\n",
       "    }\n",
       "</style>\n",
       "<table border=\"1\" class=\"dataframe\">\n",
       "  <thead>\n",
       "    <tr style=\"text-align: right;\">\n",
       "      <th></th>\n",
       "      <th>date_time</th>\n",
       "      <th>max_temp</th>\n",
       "      <th>min_temp</th>\n",
       "      <th>precip</th>\n",
       "    </tr>\n",
       "  </thead>\n",
       "  <tbody>\n",
       "    <tr>\n",
       "      <th>17543</th>\n",
       "      <td>2017-01-01 00:00:00</td>\n",
       "      <td>3.9</td>\n",
       "      <td>3.9</td>\n",
       "      <td>0.0</td>\n",
       "    </tr>\n",
       "    <tr>\n",
       "      <th>17520</th>\n",
       "      <td>2017-01-01 01:00:00</td>\n",
       "      <td>4.4</td>\n",
       "      <td>4.4</td>\n",
       "      <td>0.0</td>\n",
       "    </tr>\n",
       "    <tr>\n",
       "      <th>17521</th>\n",
       "      <td>2017-01-01 02:00:00</td>\n",
       "      <td>5.0</td>\n",
       "      <td>5.0</td>\n",
       "      <td>1.0</td>\n",
       "    </tr>\n",
       "    <tr>\n",
       "      <th>17522</th>\n",
       "      <td>2017-01-01 03:00:00</td>\n",
       "      <td>5.0</td>\n",
       "      <td>5.0</td>\n",
       "      <td>1.0</td>\n",
       "    </tr>\n",
       "    <tr>\n",
       "      <th>17523</th>\n",
       "      <td>2017-01-01 04:00:00</td>\n",
       "      <td>5.0</td>\n",
       "      <td>4.4</td>\n",
       "      <td>1.0</td>\n",
       "    </tr>\n",
       "    <tr>\n",
       "      <th>...</th>\n",
       "      <td>...</td>\n",
       "      <td>...</td>\n",
       "      <td>...</td>\n",
       "      <td>...</td>\n",
       "    </tr>\n",
       "    <tr>\n",
       "      <th>26298</th>\n",
       "      <td>2017-12-31 19:00:00</td>\n",
       "      <td>-11.1</td>\n",
       "      <td>-11.1</td>\n",
       "      <td>0.0</td>\n",
       "    </tr>\n",
       "    <tr>\n",
       "      <th>26299</th>\n",
       "      <td>2017-12-31 20:00:00</td>\n",
       "      <td>-10.6</td>\n",
       "      <td>-10.6</td>\n",
       "      <td>0.0</td>\n",
       "    </tr>\n",
       "    <tr>\n",
       "      <th>26300</th>\n",
       "      <td>2017-12-31 21:00:00</td>\n",
       "      <td>-11.1</td>\n",
       "      <td>-11.1</td>\n",
       "      <td>0.0</td>\n",
       "    </tr>\n",
       "    <tr>\n",
       "      <th>26301</th>\n",
       "      <td>2017-12-31 22:00:00</td>\n",
       "      <td>-11.7</td>\n",
       "      <td>-11.7</td>\n",
       "      <td>0.0</td>\n",
       "    </tr>\n",
       "    <tr>\n",
       "      <th>26302</th>\n",
       "      <td>2017-12-31 23:00:00</td>\n",
       "      <td>-11.1</td>\n",
       "      <td>-11.1</td>\n",
       "      <td>0.0</td>\n",
       "    </tr>\n",
       "  </tbody>\n",
       "</table>\n",
       "<p>8480 rows × 4 columns</p>\n",
       "</div>"
      ],
      "text/plain": [
       "                date_time  max_temp  min_temp  precip\n",
       "17543 2017-01-01 00:00:00       3.9       3.9     0.0\n",
       "17520 2017-01-01 01:00:00       4.4       4.4     0.0\n",
       "17521 2017-01-01 02:00:00       5.0       5.0     1.0\n",
       "17522 2017-01-01 03:00:00       5.0       5.0     1.0\n",
       "17523 2017-01-01 04:00:00       5.0       4.4     1.0\n",
       "...                   ...       ...       ...     ...\n",
       "26298 2017-12-31 19:00:00     -11.1     -11.1     0.0\n",
       "26299 2017-12-31 20:00:00     -10.6     -10.6     0.0\n",
       "26300 2017-12-31 21:00:00     -11.1     -11.1     0.0\n",
       "26301 2017-12-31 22:00:00     -11.7     -11.7     0.0\n",
       "26302 2017-12-31 23:00:00     -11.1     -11.1     0.0\n",
       "\n",
       "[8480 rows x 4 columns]"
      ]
     },
     "execution_count": 20,
     "metadata": {},
     "output_type": "execute_result"
    }
   ],
   "source": [
    "# Remove the duplicated date times with precipitation = 1 of the data set\n",
    "df_weather_precip_sub = df_weather_precip_dup[(df_weather_precip_dup['precip'] == 1)]\n",
    "df_weather_2017 = df_weather_2017.drop(index = df_weather_precip_sub.index)\n",
    "df_weather_2017"
   ]
  },
  {
   "cell_type": "markdown",
   "id": "c1f464b1",
   "metadata": {},
   "source": [
    "Now we are removing the duplicate values in the column \"date_time\"."
   ]
  },
  {
   "cell_type": "code",
   "execution_count": 21,
   "id": "7a7ea7d2",
   "metadata": {},
   "outputs": [
    {
     "data": {
      "text/plain": [
       "8176"
      ]
     },
     "execution_count": 21,
     "metadata": {},
     "output_type": "execute_result"
    }
   ],
   "source": [
    "df_weather_2017 = df_weather_2017.drop_duplicates(subset='date_time', keep='first')\n",
    "len(df_weather_2017)"
   ]
  },
  {
   "cell_type": "markdown",
   "id": "3700a9b6",
   "metadata": {},
   "source": [
    "## 2.4 Fill the missing data\n",
    "After removing and handling the duplicate date times of our data set, we need to determine which date times are missing and fill in those missing records, since we only have 8176 out of 8760 records."
   ]
  },
  {
   "cell_type": "markdown",
   "id": "2e7ff8ca",
   "metadata": {},
   "source": [
    "### 2.4.1 Add missing hours"
   ]
  },
  {
   "cell_type": "code",
   "execution_count": 22,
   "id": "b69cab13",
   "metadata": {},
   "outputs": [
    {
     "data": {
      "text/html": [
       "<div>\n",
       "<style scoped>\n",
       "    .dataframe tbody tr th:only-of-type {\n",
       "        vertical-align: middle;\n",
       "    }\n",
       "\n",
       "    .dataframe tbody tr th {\n",
       "        vertical-align: top;\n",
       "    }\n",
       "\n",
       "    .dataframe thead th {\n",
       "        text-align: right;\n",
       "    }\n",
       "</style>\n",
       "<table border=\"1\" class=\"dataframe\">\n",
       "  <thead>\n",
       "    <tr style=\"text-align: right;\">\n",
       "      <th></th>\n",
       "      <th>max_temp</th>\n",
       "      <th>min_temp</th>\n",
       "      <th>precip</th>\n",
       "    </tr>\n",
       "    <tr>\n",
       "      <th>date_time</th>\n",
       "      <th></th>\n",
       "      <th></th>\n",
       "      <th></th>\n",
       "    </tr>\n",
       "  </thead>\n",
       "  <tbody>\n",
       "    <tr>\n",
       "      <th>2017-01-01 00:00:00</th>\n",
       "      <td>3.9</td>\n",
       "      <td>3.9</td>\n",
       "      <td>0.0</td>\n",
       "    </tr>\n",
       "    <tr>\n",
       "      <th>2017-01-01 01:00:00</th>\n",
       "      <td>4.4</td>\n",
       "      <td>4.4</td>\n",
       "      <td>0.0</td>\n",
       "    </tr>\n",
       "    <tr>\n",
       "      <th>2017-01-01 02:00:00</th>\n",
       "      <td>5.0</td>\n",
       "      <td>5.0</td>\n",
       "      <td>1.0</td>\n",
       "    </tr>\n",
       "    <tr>\n",
       "      <th>2017-01-01 03:00:00</th>\n",
       "      <td>5.0</td>\n",
       "      <td>5.0</td>\n",
       "      <td>1.0</td>\n",
       "    </tr>\n",
       "    <tr>\n",
       "      <th>2017-01-01 04:00:00</th>\n",
       "      <td>5.0</td>\n",
       "      <td>4.4</td>\n",
       "      <td>1.0</td>\n",
       "    </tr>\n",
       "    <tr>\n",
       "      <th>...</th>\n",
       "      <td>...</td>\n",
       "      <td>...</td>\n",
       "      <td>...</td>\n",
       "    </tr>\n",
       "    <tr>\n",
       "      <th>2017-12-31 19:00:00</th>\n",
       "      <td>-11.1</td>\n",
       "      <td>-11.1</td>\n",
       "      <td>0.0</td>\n",
       "    </tr>\n",
       "    <tr>\n",
       "      <th>2017-12-31 20:00:00</th>\n",
       "      <td>-10.6</td>\n",
       "      <td>-10.6</td>\n",
       "      <td>0.0</td>\n",
       "    </tr>\n",
       "    <tr>\n",
       "      <th>2017-12-31 21:00:00</th>\n",
       "      <td>-11.1</td>\n",
       "      <td>-11.1</td>\n",
       "      <td>0.0</td>\n",
       "    </tr>\n",
       "    <tr>\n",
       "      <th>2017-12-31 22:00:00</th>\n",
       "      <td>-11.7</td>\n",
       "      <td>-11.7</td>\n",
       "      <td>0.0</td>\n",
       "    </tr>\n",
       "    <tr>\n",
       "      <th>2017-12-31 23:00:00</th>\n",
       "      <td>-11.1</td>\n",
       "      <td>-11.1</td>\n",
       "      <td>0.0</td>\n",
       "    </tr>\n",
       "  </tbody>\n",
       "</table>\n",
       "<p>8176 rows × 3 columns</p>\n",
       "</div>"
      ],
      "text/plain": [
       "                     max_temp  min_temp  precip\n",
       "date_time                                      \n",
       "2017-01-01 00:00:00       3.9       3.9     0.0\n",
       "2017-01-01 01:00:00       4.4       4.4     0.0\n",
       "2017-01-01 02:00:00       5.0       5.0     1.0\n",
       "2017-01-01 03:00:00       5.0       5.0     1.0\n",
       "2017-01-01 04:00:00       5.0       4.4     1.0\n",
       "...                       ...       ...     ...\n",
       "2017-12-31 19:00:00     -11.1     -11.1     0.0\n",
       "2017-12-31 20:00:00     -10.6     -10.6     0.0\n",
       "2017-12-31 21:00:00     -11.1     -11.1     0.0\n",
       "2017-12-31 22:00:00     -11.7     -11.7     0.0\n",
       "2017-12-31 23:00:00     -11.1     -11.1     0.0\n",
       "\n",
       "[8176 rows x 3 columns]"
      ]
     },
     "execution_count": 22,
     "metadata": {},
     "output_type": "execute_result"
    }
   ],
   "source": [
    "# Setting the date_time as DateTimeIndex of the Dataframe to \"fill in\" the missing date times\n",
    "df_weather_2017.set_index('date_time', inplace = True)\n",
    "df_weather_2017"
   ]
  },
  {
   "cell_type": "code",
   "execution_count": 23,
   "id": "eeb9407b",
   "metadata": {},
   "outputs": [
    {
     "data": {
      "text/html": [
       "<div>\n",
       "<style scoped>\n",
       "    .dataframe tbody tr th:only-of-type {\n",
       "        vertical-align: middle;\n",
       "    }\n",
       "\n",
       "    .dataframe tbody tr th {\n",
       "        vertical-align: top;\n",
       "    }\n",
       "\n",
       "    .dataframe thead th {\n",
       "        text-align: right;\n",
       "    }\n",
       "</style>\n",
       "<table border=\"1\" class=\"dataframe\">\n",
       "  <thead>\n",
       "    <tr style=\"text-align: right;\">\n",
       "      <th></th>\n",
       "      <th>max_temp</th>\n",
       "      <th>min_temp</th>\n",
       "      <th>precip</th>\n",
       "    </tr>\n",
       "    <tr>\n",
       "      <th>date_time</th>\n",
       "      <th></th>\n",
       "      <th></th>\n",
       "      <th></th>\n",
       "    </tr>\n",
       "  </thead>\n",
       "  <tbody>\n",
       "    <tr>\n",
       "      <th>2017-01-01 00:00:00</th>\n",
       "      <td>3.9</td>\n",
       "      <td>3.9</td>\n",
       "      <td>0.0</td>\n",
       "    </tr>\n",
       "    <tr>\n",
       "      <th>2017-01-01 01:00:00</th>\n",
       "      <td>4.4</td>\n",
       "      <td>4.4</td>\n",
       "      <td>0.0</td>\n",
       "    </tr>\n",
       "    <tr>\n",
       "      <th>2017-01-01 02:00:00</th>\n",
       "      <td>5.0</td>\n",
       "      <td>5.0</td>\n",
       "      <td>1.0</td>\n",
       "    </tr>\n",
       "    <tr>\n",
       "      <th>2017-01-01 03:00:00</th>\n",
       "      <td>5.0</td>\n",
       "      <td>5.0</td>\n",
       "      <td>1.0</td>\n",
       "    </tr>\n",
       "    <tr>\n",
       "      <th>2017-01-01 04:00:00</th>\n",
       "      <td>5.0</td>\n",
       "      <td>4.4</td>\n",
       "      <td>1.0</td>\n",
       "    </tr>\n",
       "    <tr>\n",
       "      <th>...</th>\n",
       "      <td>...</td>\n",
       "      <td>...</td>\n",
       "      <td>...</td>\n",
       "    </tr>\n",
       "    <tr>\n",
       "      <th>2017-12-31 19:00:00</th>\n",
       "      <td>-11.1</td>\n",
       "      <td>-11.1</td>\n",
       "      <td>0.0</td>\n",
       "    </tr>\n",
       "    <tr>\n",
       "      <th>2017-12-31 20:00:00</th>\n",
       "      <td>-10.6</td>\n",
       "      <td>-10.6</td>\n",
       "      <td>0.0</td>\n",
       "    </tr>\n",
       "    <tr>\n",
       "      <th>2017-12-31 21:00:00</th>\n",
       "      <td>-11.1</td>\n",
       "      <td>-11.1</td>\n",
       "      <td>0.0</td>\n",
       "    </tr>\n",
       "    <tr>\n",
       "      <th>2017-12-31 22:00:00</th>\n",
       "      <td>-11.7</td>\n",
       "      <td>-11.7</td>\n",
       "      <td>0.0</td>\n",
       "    </tr>\n",
       "    <tr>\n",
       "      <th>2017-12-31 23:00:00</th>\n",
       "      <td>-11.1</td>\n",
       "      <td>-11.1</td>\n",
       "      <td>0.0</td>\n",
       "    </tr>\n",
       "  </tbody>\n",
       "</table>\n",
       "<p>8760 rows × 3 columns</p>\n",
       "</div>"
      ],
      "text/plain": [
       "                     max_temp  min_temp  precip\n",
       "date_time                                      \n",
       "2017-01-01 00:00:00       3.9       3.9     0.0\n",
       "2017-01-01 01:00:00       4.4       4.4     0.0\n",
       "2017-01-01 02:00:00       5.0       5.0     1.0\n",
       "2017-01-01 03:00:00       5.0       5.0     1.0\n",
       "2017-01-01 04:00:00       5.0       4.4     1.0\n",
       "...                       ...       ...     ...\n",
       "2017-12-31 19:00:00     -11.1     -11.1     0.0\n",
       "2017-12-31 20:00:00     -10.6     -10.6     0.0\n",
       "2017-12-31 21:00:00     -11.1     -11.1     0.0\n",
       "2017-12-31 22:00:00     -11.7     -11.7     0.0\n",
       "2017-12-31 23:00:00     -11.1     -11.1     0.0\n",
       "\n",
       "[8760 rows x 3 columns]"
      ]
     },
     "execution_count": 23,
     "metadata": {},
     "output_type": "execute_result"
    }
   ],
   "source": [
    "# \"Filling in\" the missing date times to interpolate the missing values\n",
    "df_weather_modified = df_weather_2017.asfreq(freq='1H')\n",
    "df_weather_modified"
   ]
  },
  {
   "cell_type": "markdown",
   "id": "50c51395",
   "metadata": {},
   "source": [
    "### 2.4.2 Interpolate missing values\n",
    "The steady course of the temperature allows us to replace the missing values by the mean values of the surrounding values."
   ]
  },
  {
   "cell_type": "code",
   "execution_count": 24,
   "id": "b0adab9d",
   "metadata": {
    "scrolled": false
   },
   "outputs": [
    {
     "name": "stdout",
     "output_type": "stream",
     "text": [
      "<class 'pandas.core.frame.DataFrame'>\n",
      "DatetimeIndex: 8760 entries, 2017-01-01 00:00:00 to 2017-12-31 23:00:00\n",
      "Freq: H\n",
      "Data columns (total 3 columns):\n",
      " #   Column    Non-Null Count  Dtype  \n",
      "---  ------    --------------  -----  \n",
      " 0   max_temp  8760 non-null   float64\n",
      " 1   min_temp  8760 non-null   float64\n",
      " 2   precip    8760 non-null   float64\n",
      "dtypes: float64(3)\n",
      "memory usage: 273.8 KB\n"
     ]
    }
   ],
   "source": [
    "# Interpolating the missing values\n",
    "df_weather_modified = df_weather_modified.interpolate(method = 'linear')\n",
    "df_weather_modified.info()"
   ]
  },
  {
   "cell_type": "code",
   "execution_count": 25,
   "id": "41f42f35",
   "metadata": {},
   "outputs": [
    {
     "data": {
      "text/html": [
       "<div>\n",
       "<style scoped>\n",
       "    .dataframe tbody tr th:only-of-type {\n",
       "        vertical-align: middle;\n",
       "    }\n",
       "\n",
       "    .dataframe tbody tr th {\n",
       "        vertical-align: top;\n",
       "    }\n",
       "\n",
       "    .dataframe thead th {\n",
       "        text-align: right;\n",
       "    }\n",
       "</style>\n",
       "<table border=\"1\" class=\"dataframe\">\n",
       "  <thead>\n",
       "    <tr style=\"text-align: right;\">\n",
       "      <th></th>\n",
       "      <th>max_temp</th>\n",
       "      <th>min_temp</th>\n",
       "      <th>precip</th>\n",
       "    </tr>\n",
       "    <tr>\n",
       "      <th>date_time</th>\n",
       "      <th></th>\n",
       "      <th></th>\n",
       "      <th></th>\n",
       "    </tr>\n",
       "  </thead>\n",
       "  <tbody>\n",
       "    <tr>\n",
       "      <th>2017-01-01 00:00:00</th>\n",
       "      <td>3.9</td>\n",
       "      <td>3.9</td>\n",
       "      <td>0.0</td>\n",
       "    </tr>\n",
       "    <tr>\n",
       "      <th>2017-01-01 01:00:00</th>\n",
       "      <td>4.4</td>\n",
       "      <td>4.4</td>\n",
       "      <td>0.0</td>\n",
       "    </tr>\n",
       "    <tr>\n",
       "      <th>2017-01-01 02:00:00</th>\n",
       "      <td>5.0</td>\n",
       "      <td>5.0</td>\n",
       "      <td>1.0</td>\n",
       "    </tr>\n",
       "    <tr>\n",
       "      <th>2017-01-01 03:00:00</th>\n",
       "      <td>5.0</td>\n",
       "      <td>5.0</td>\n",
       "      <td>1.0</td>\n",
       "    </tr>\n",
       "    <tr>\n",
       "      <th>2017-01-01 04:00:00</th>\n",
       "      <td>5.0</td>\n",
       "      <td>4.4</td>\n",
       "      <td>1.0</td>\n",
       "    </tr>\n",
       "    <tr>\n",
       "      <th>...</th>\n",
       "      <td>...</td>\n",
       "      <td>...</td>\n",
       "      <td>...</td>\n",
       "    </tr>\n",
       "    <tr>\n",
       "      <th>2017-12-31 19:00:00</th>\n",
       "      <td>-11.1</td>\n",
       "      <td>-11.1</td>\n",
       "      <td>0.0</td>\n",
       "    </tr>\n",
       "    <tr>\n",
       "      <th>2017-12-31 20:00:00</th>\n",
       "      <td>-10.6</td>\n",
       "      <td>-10.6</td>\n",
       "      <td>0.0</td>\n",
       "    </tr>\n",
       "    <tr>\n",
       "      <th>2017-12-31 21:00:00</th>\n",
       "      <td>-11.1</td>\n",
       "      <td>-11.1</td>\n",
       "      <td>0.0</td>\n",
       "    </tr>\n",
       "    <tr>\n",
       "      <th>2017-12-31 22:00:00</th>\n",
       "      <td>-11.7</td>\n",
       "      <td>-11.7</td>\n",
       "      <td>0.0</td>\n",
       "    </tr>\n",
       "    <tr>\n",
       "      <th>2017-12-31 23:00:00</th>\n",
       "      <td>-11.1</td>\n",
       "      <td>-11.1</td>\n",
       "      <td>0.0</td>\n",
       "    </tr>\n",
       "  </tbody>\n",
       "</table>\n",
       "<p>8760 rows × 3 columns</p>\n",
       "</div>"
      ],
      "text/plain": [
       "                     max_temp  min_temp  precip\n",
       "date_time                                      \n",
       "2017-01-01 00:00:00       3.9       3.9     0.0\n",
       "2017-01-01 01:00:00       4.4       4.4     0.0\n",
       "2017-01-01 02:00:00       5.0       5.0     1.0\n",
       "2017-01-01 03:00:00       5.0       5.0     1.0\n",
       "2017-01-01 04:00:00       5.0       4.4     1.0\n",
       "...                       ...       ...     ...\n",
       "2017-12-31 19:00:00     -11.1     -11.1     0.0\n",
       "2017-12-31 20:00:00     -10.6     -10.6     0.0\n",
       "2017-12-31 21:00:00     -11.1     -11.1     0.0\n",
       "2017-12-31 22:00:00     -11.7     -11.7     0.0\n",
       "2017-12-31 23:00:00     -11.1     -11.1     0.0\n",
       "\n",
       "[8760 rows x 3 columns]"
      ]
     },
     "execution_count": 25,
     "metadata": {},
     "output_type": "execute_result"
    }
   ],
   "source": [
    "df_weather_modified"
   ]
  },
  {
   "cell_type": "markdown",
   "id": "59659428",
   "metadata": {},
   "source": [
    "## 2.5 Export cleaned data set\n",
    "In order to reuse the cleaned wheather data for further analysis, we export that dataset into a new csv file."
   ]
  },
  {
   "cell_type": "code",
   "execution_count": 26,
   "id": "e24aac73",
   "metadata": {},
   "outputs": [
    {
     "data": {
      "text/html": [
       "<div>\n",
       "<style scoped>\n",
       "    .dataframe tbody tr th:only-of-type {\n",
       "        vertical-align: middle;\n",
       "    }\n",
       "\n",
       "    .dataframe tbody tr th {\n",
       "        vertical-align: top;\n",
       "    }\n",
       "\n",
       "    .dataframe thead th {\n",
       "        text-align: right;\n",
       "    }\n",
       "</style>\n",
       "<table border=\"1\" class=\"dataframe\">\n",
       "  <thead>\n",
       "    <tr style=\"text-align: right;\">\n",
       "      <th></th>\n",
       "      <th>max_temp</th>\n",
       "      <th>min_temp</th>\n",
       "      <th>precip</th>\n",
       "      <th>date_time</th>\n",
       "    </tr>\n",
       "  </thead>\n",
       "  <tbody>\n",
       "    <tr>\n",
       "      <th>0</th>\n",
       "      <td>3.9</td>\n",
       "      <td>3.9</td>\n",
       "      <td>0.0</td>\n",
       "      <td>2017-01-01 00:00:00</td>\n",
       "    </tr>\n",
       "    <tr>\n",
       "      <th>1</th>\n",
       "      <td>4.4</td>\n",
       "      <td>4.4</td>\n",
       "      <td>0.0</td>\n",
       "      <td>2017-01-01 01:00:00</td>\n",
       "    </tr>\n",
       "    <tr>\n",
       "      <th>2</th>\n",
       "      <td>5.0</td>\n",
       "      <td>5.0</td>\n",
       "      <td>1.0</td>\n",
       "      <td>2017-01-01 02:00:00</td>\n",
       "    </tr>\n",
       "    <tr>\n",
       "      <th>3</th>\n",
       "      <td>5.0</td>\n",
       "      <td>5.0</td>\n",
       "      <td>1.0</td>\n",
       "      <td>2017-01-01 03:00:00</td>\n",
       "    </tr>\n",
       "    <tr>\n",
       "      <th>4</th>\n",
       "      <td>5.0</td>\n",
       "      <td>4.4</td>\n",
       "      <td>1.0</td>\n",
       "      <td>2017-01-01 04:00:00</td>\n",
       "    </tr>\n",
       "    <tr>\n",
       "      <th>...</th>\n",
       "      <td>...</td>\n",
       "      <td>...</td>\n",
       "      <td>...</td>\n",
       "      <td>...</td>\n",
       "    </tr>\n",
       "    <tr>\n",
       "      <th>8755</th>\n",
       "      <td>-11.1</td>\n",
       "      <td>-11.1</td>\n",
       "      <td>0.0</td>\n",
       "      <td>2017-12-31 19:00:00</td>\n",
       "    </tr>\n",
       "    <tr>\n",
       "      <th>8756</th>\n",
       "      <td>-10.6</td>\n",
       "      <td>-10.6</td>\n",
       "      <td>0.0</td>\n",
       "      <td>2017-12-31 20:00:00</td>\n",
       "    </tr>\n",
       "    <tr>\n",
       "      <th>8757</th>\n",
       "      <td>-11.1</td>\n",
       "      <td>-11.1</td>\n",
       "      <td>0.0</td>\n",
       "      <td>2017-12-31 21:00:00</td>\n",
       "    </tr>\n",
       "    <tr>\n",
       "      <th>8758</th>\n",
       "      <td>-11.7</td>\n",
       "      <td>-11.7</td>\n",
       "      <td>0.0</td>\n",
       "      <td>2017-12-31 22:00:00</td>\n",
       "    </tr>\n",
       "    <tr>\n",
       "      <th>8759</th>\n",
       "      <td>-11.1</td>\n",
       "      <td>-11.1</td>\n",
       "      <td>0.0</td>\n",
       "      <td>2017-12-31 23:00:00</td>\n",
       "    </tr>\n",
       "  </tbody>\n",
       "</table>\n",
       "<p>8760 rows × 4 columns</p>\n",
       "</div>"
      ],
      "text/plain": [
       "      max_temp  min_temp  precip           date_time\n",
       "0          3.9       3.9     0.0 2017-01-01 00:00:00\n",
       "1          4.4       4.4     0.0 2017-01-01 01:00:00\n",
       "2          5.0       5.0     1.0 2017-01-01 02:00:00\n",
       "3          5.0       5.0     1.0 2017-01-01 03:00:00\n",
       "4          5.0       4.4     1.0 2017-01-01 04:00:00\n",
       "...        ...       ...     ...                 ...\n",
       "8755     -11.1     -11.1     0.0 2017-12-31 19:00:00\n",
       "8756     -10.6     -10.6     0.0 2017-12-31 20:00:00\n",
       "8757     -11.1     -11.1     0.0 2017-12-31 21:00:00\n",
       "8758     -11.7     -11.7     0.0 2017-12-31 22:00:00\n",
       "8759     -11.1     -11.1     0.0 2017-12-31 23:00:00\n",
       "\n",
       "[8760 rows x 4 columns]"
      ]
     },
     "execution_count": 26,
     "metadata": {},
     "output_type": "execute_result"
    }
   ],
   "source": [
    "df_weather_modified['date_time'] = df_weather_modified.index\n",
    "df_weather_modified.reset_index(drop = True)"
   ]
  },
  {
   "cell_type": "code",
   "execution_count": 27,
   "id": "ad1fb684",
   "metadata": {},
   "outputs": [],
   "source": [
    "df_weather_modified.to_csv('weather_2017_cleaned.csv', index = False, header=True)"
   ]
  }
 ],
 "metadata": {
  "kernelspec": {
   "display_name": "Python 3 (ipykernel)",
   "language": "python",
   "name": "python3"
  },
  "language_info": {
   "codemirror_mode": {
    "name": "ipython",
    "version": 3
   },
   "file_extension": ".py",
   "mimetype": "text/x-python",
   "name": "python",
   "nbconvert_exporter": "python",
   "pygments_lexer": "ipython3",
   "version": "3.10.1"
  }
 },
 "nbformat": 4,
 "nbformat_minor": 5
}
