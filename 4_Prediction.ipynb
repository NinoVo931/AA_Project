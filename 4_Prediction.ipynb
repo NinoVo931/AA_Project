{
 "cells": [
  {
   "cell_type": "markdown",
   "id": "a47fcd17",
   "metadata": {},
   "source": [
    "# 4 Predictive Analytics"
   ]
  },
  {
   "cell_type": "markdown",
   "id": "dab9576a",
   "metadata": {},
   "source": [
    "Predicting the future demand is a key factor driving the operational decision-making of a bike sharing network. Knowledge about the future demand can be used to efficiently deploy additional bikes or reposition the current vehicles.\n",
    "\n",
    "Therefore the next and final step of the project is to determine the total bike level demand as a function of our processed data sets including existing and newly engineered variables. For this purpose different regression algorithms are implemented, trained and evaluated against each other. "
   ]
  },
  {
   "cell_type": "markdown",
   "id": "8919664c",
   "metadata": {},
   "source": [
    "## 4.1 Import"
   ]
  },
  {
   "cell_type": "code",
   "execution_count": 34,
   "id": "357e84df",
   "metadata": {},
   "outputs": [],
   "source": [
    "import pandas as pd\n",
    "import numpy as np\n",
    "import matplotlib as mpl\n",
    "import matplotlib.pyplot as plt\n",
    "import xgboost as xgb\n",
    "import seaborn as sns\n",
    "import statistics\n",
    "import timeit\n",
    "import time\n",
    "\n",
    "\n",
    "from sklearn.linear_model import LinearRegression\n",
    "from sklearn.metrics import mean_squared_error, mean_absolute_error, r2_score\n",
    "from sklearn.model_selection import train_test_split\n",
    "from sklearn.preprocessing import PolynomialFeatures\n",
    "from sklearn.model_selection import KFold\n",
    "from sklearn.model_selection import cross_val_score\n",
    "from sklearn.model_selection import GridSearchCV\n",
    "from sklearn.linear_model import Ridge\n",
    "from sklearn.tree import DecisionTreeRegressor\n",
    "\n",
    "import random\n",
    "random.seed(42)\n",
    "\n",
    "%matplotlib inline"
   ]
  },
  {
   "cell_type": "code",
   "execution_count": 35,
   "id": "d18035a5",
   "metadata": {},
   "outputs": [],
   "source": [
    "import warnings\n",
    "warnings.filterwarnings(\"ignore\")"
   ]
  },
  {
   "cell_type": "markdown",
   "id": "8fdb49cc",
   "metadata": {},
   "source": [
    "**Import of data**"
   ]
  },
  {
   "cell_type": "code",
   "execution_count": 36,
   "id": "f244ea45",
   "metadata": {},
   "outputs": [],
   "source": [
    "df_trips = pd.read_csv('data/boston_2017_cleaned_trips.csv')\n",
    "df_weather = pd.read_csv('data/weather_2017_cleaned.csv')"
   ]
  },
  {
   "cell_type": "code",
   "execution_count": 37,
   "id": "993f5d73",
   "metadata": {
    "scrolled": true
   },
   "outputs": [
    {
     "name": "stdout",
     "output_type": "stream",
     "text": [
      "<class 'pandas.core.frame.DataFrame'>\n",
      "RangeIndex: 1310760 entries, 0 to 1310759\n",
      "Data columns (total 12 columns):\n",
      " #   Column              Non-Null Count    Dtype  \n",
      "---  ------              --------------    -----  \n",
      " 0   start_time          1310760 non-null  object \n",
      " 1   end_time            1310760 non-null  object \n",
      " 2   start_station_id    1310760 non-null  int64  \n",
      " 3   end_station_id      1310760 non-null  int64  \n",
      " 4   start_station_name  1310760 non-null  object \n",
      " 5   end_station_name    1310760 non-null  object \n",
      " 6   bike_id             1310760 non-null  int64  \n",
      " 7   user_type           1310760 non-null  object \n",
      " 8   start_hour          1310760 non-null  int64  \n",
      " 9   weekday             1310760 non-null  int64  \n",
      " 10  duration            1310760 non-null  float64\n",
      " 11  month               1310760 non-null  int64  \n",
      "dtypes: float64(1), int64(6), object(5)\n",
      "memory usage: 120.0+ MB\n"
     ]
    }
   ],
   "source": [
    "df_trips.info()"
   ]
  },
  {
   "cell_type": "markdown",
   "id": "24b22d44",
   "metadata": {},
   "source": [
    "Our pre-processed data already contain various information about the temporal patterns e.g. the start time furthermore the hour, weekday and month of the trips."
   ]
  },
  {
   "cell_type": "code",
   "execution_count": 38,
   "id": "81731d07",
   "metadata": {
    "scrolled": false
   },
   "outputs": [
    {
     "name": "stdout",
     "output_type": "stream",
     "text": [
      "<class 'pandas.core.frame.DataFrame'>\n",
      "RangeIndex: 8760 entries, 0 to 8759\n",
      "Data columns (total 4 columns):\n",
      " #   Column     Non-Null Count  Dtype  \n",
      "---  ------     --------------  -----  \n",
      " 0   max_temp   8760 non-null   float64\n",
      " 1   min_temp   8760 non-null   float64\n",
      " 2   precip     8760 non-null   float64\n",
      " 3   date_time  8760 non-null   object \n",
      "dtypes: float64(3), object(1)\n",
      "memory usage: 273.9+ KB\n"
     ]
    }
   ],
   "source": [
    "df_weather.info()"
   ]
  },
  {
   "cell_type": "markdown",
   "id": "49aa748a",
   "metadata": {},
   "source": [
    "(Re-)Setting the start time as the DateTimeIndex for our dataframe."
   ]
  },
  {
   "cell_type": "code",
   "execution_count": 39,
   "id": "bd9dd8b6",
   "metadata": {},
   "outputs": [],
   "source": [
    "df_trips['start_date'] = df_trips['start_time']\n",
    "df_trips.set_index('start_date', inplace = True)\n",
    "df_trips.index = pd.to_datetime(df_trips.index)"
   ]
  },
  {
   "cell_type": "markdown",
   "id": "5b22e3a7",
   "metadata": {},
   "source": [
    "## 4.2 Feature Engineering"
   ]
  },
  {
   "cell_type": "markdown",
   "id": "be83a64a",
   "metadata": {},
   "source": [
    "In advance of building the models, suitable variables are engineered to improve prediction performance. Beginning with the most important variable to predict: The hourly demand."
   ]
  },
  {
   "cell_type": "code",
   "execution_count": 40,
   "id": "304bd748",
   "metadata": {
    "scrolled": false
   },
   "outputs": [
    {
     "data": {
      "text/plain": [
       "start_time\n",
       "2017-01-01 00:00:00    13\n",
       "2017-01-01 01:00:00     7\n",
       "2017-01-01 02:00:00     4\n",
       "2017-01-01 03:00:00     2\n",
       "2017-01-01 04:00:00     6\n",
       "                       ..\n",
       "2017-12-31 19:00:00     6\n",
       "2017-12-31 20:00:00     5\n",
       "2017-12-31 21:00:00     3\n",
       "2017-12-31 22:00:00     7\n",
       "2017-12-31 23:00:00     2\n",
       "Freq: H, Name: end_time, Length: 8760, dtype: int64"
      ]
     },
     "execution_count": 40,
     "metadata": {},
     "output_type": "execute_result"
    }
   ],
   "source": [
    "# calculating the total amount of trips started per hour\n",
    "df_trips['start_time'] = pd.to_datetime(df_trips['start_time'])\n",
    "df_trips_group = df_trips.groupby(pd.Grouper(key='start_time', freq='H')).count()\n",
    "hourly_demand = df_trips_group['end_time']\n",
    "hourly_demand"
   ]
  },
  {
   "cell_type": "code",
   "execution_count": 41,
   "id": "7751877f",
   "metadata": {
    "scrolled": true
   },
   "outputs": [
    {
     "data": {
      "text/html": [
       "<div>\n",
       "<style scoped>\n",
       "    .dataframe tbody tr th:only-of-type {\n",
       "        vertical-align: middle;\n",
       "    }\n",
       "\n",
       "    .dataframe tbody tr th {\n",
       "        vertical-align: top;\n",
       "    }\n",
       "\n",
       "    .dataframe thead th {\n",
       "        text-align: right;\n",
       "    }\n",
       "</style>\n",
       "<table border=\"1\" class=\"dataframe\">\n",
       "  <thead>\n",
       "    <tr style=\"text-align: right;\">\n",
       "      <th></th>\n",
       "      <th>max_temp</th>\n",
       "      <th>min_temp</th>\n",
       "      <th>precip</th>\n",
       "      <th>hourly_demand</th>\n",
       "    </tr>\n",
       "    <tr>\n",
       "      <th>date_time</th>\n",
       "      <th></th>\n",
       "      <th></th>\n",
       "      <th></th>\n",
       "      <th></th>\n",
       "    </tr>\n",
       "  </thead>\n",
       "  <tbody>\n",
       "    <tr>\n",
       "      <th>2017-01-01 00:00:00</th>\n",
       "      <td>3.9</td>\n",
       "      <td>3.9</td>\n",
       "      <td>0.0</td>\n",
       "      <td>13</td>\n",
       "    </tr>\n",
       "    <tr>\n",
       "      <th>2017-01-01 01:00:00</th>\n",
       "      <td>4.4</td>\n",
       "      <td>4.4</td>\n",
       "      <td>0.0</td>\n",
       "      <td>7</td>\n",
       "    </tr>\n",
       "    <tr>\n",
       "      <th>2017-01-01 02:00:00</th>\n",
       "      <td>5.0</td>\n",
       "      <td>5.0</td>\n",
       "      <td>1.0</td>\n",
       "      <td>4</td>\n",
       "    </tr>\n",
       "    <tr>\n",
       "      <th>2017-01-01 03:00:00</th>\n",
       "      <td>5.0</td>\n",
       "      <td>5.0</td>\n",
       "      <td>1.0</td>\n",
       "      <td>2</td>\n",
       "    </tr>\n",
       "    <tr>\n",
       "      <th>2017-01-01 04:00:00</th>\n",
       "      <td>5.0</td>\n",
       "      <td>4.4</td>\n",
       "      <td>1.0</td>\n",
       "      <td>6</td>\n",
       "    </tr>\n",
       "    <tr>\n",
       "      <th>...</th>\n",
       "      <td>...</td>\n",
       "      <td>...</td>\n",
       "      <td>...</td>\n",
       "      <td>...</td>\n",
       "    </tr>\n",
       "    <tr>\n",
       "      <th>2017-12-31 19:00:00</th>\n",
       "      <td>-11.1</td>\n",
       "      <td>-11.1</td>\n",
       "      <td>0.0</td>\n",
       "      <td>6</td>\n",
       "    </tr>\n",
       "    <tr>\n",
       "      <th>2017-12-31 20:00:00</th>\n",
       "      <td>-10.6</td>\n",
       "      <td>-10.6</td>\n",
       "      <td>0.0</td>\n",
       "      <td>5</td>\n",
       "    </tr>\n",
       "    <tr>\n",
       "      <th>2017-12-31 21:00:00</th>\n",
       "      <td>-11.1</td>\n",
       "      <td>-11.1</td>\n",
       "      <td>0.0</td>\n",
       "      <td>3</td>\n",
       "    </tr>\n",
       "    <tr>\n",
       "      <th>2017-12-31 22:00:00</th>\n",
       "      <td>-11.7</td>\n",
       "      <td>-11.7</td>\n",
       "      <td>0.0</td>\n",
       "      <td>7</td>\n",
       "    </tr>\n",
       "    <tr>\n",
       "      <th>2017-12-31 23:00:00</th>\n",
       "      <td>-11.1</td>\n",
       "      <td>-11.1</td>\n",
       "      <td>0.0</td>\n",
       "      <td>2</td>\n",
       "    </tr>\n",
       "  </tbody>\n",
       "</table>\n",
       "<p>8760 rows × 4 columns</p>\n",
       "</div>"
      ],
      "text/plain": [
       "                     max_temp  min_temp  precip  hourly_demand\n",
       "date_time                                                     \n",
       "2017-01-01 00:00:00       3.9       3.9     0.0             13\n",
       "2017-01-01 01:00:00       4.4       4.4     0.0              7\n",
       "2017-01-01 02:00:00       5.0       5.0     1.0              4\n",
       "2017-01-01 03:00:00       5.0       5.0     1.0              2\n",
       "2017-01-01 04:00:00       5.0       4.4     1.0              6\n",
       "...                       ...       ...     ...            ...\n",
       "2017-12-31 19:00:00     -11.1     -11.1     0.0              6\n",
       "2017-12-31 20:00:00     -10.6     -10.6     0.0              5\n",
       "2017-12-31 21:00:00     -11.1     -11.1     0.0              3\n",
       "2017-12-31 22:00:00     -11.7     -11.7     0.0              7\n",
       "2017-12-31 23:00:00     -11.1     -11.1     0.0              2\n",
       "\n",
       "[8760 rows x 4 columns]"
      ]
     },
     "execution_count": 41,
     "metadata": {},
     "output_type": "execute_result"
    }
   ],
   "source": [
    "df_weather['date_time'] = pd.to_datetime(df_weather['date_time'])\n",
    "df_weather.set_index('date_time', inplace = True)\n",
    "\n",
    "df_pred_feat = df_weather\n",
    "df_pred_feat[\"hourly_demand\"] = hourly_demand\n",
    "df_pred_feat"
   ]
  },
  {
   "cell_type": "markdown",
   "id": "6fe58806",
   "metadata": {},
   "source": [
    "After aggregating the total number of trips started per hour, we focus on the time series and derive some basic temporal features, like hour, weekday (number of day in week) and the month."
   ]
  },
  {
   "cell_type": "code",
   "execution_count": 42,
   "id": "2e1c5a5b",
   "metadata": {
    "scrolled": true
   },
   "outputs": [],
   "source": [
    "# adding basic temporal features\n",
    "df_pred_feat[\"hour\"] = df_pred_feat.index.hour\n",
    "df_pred_feat[\"weekday\"] = df_pred_feat.index.weekday\n",
    "df_pred_feat[\"month\"] = df_pred_feat.index.month"
   ]
  },
  {
   "cell_type": "markdown",
   "id": "4ae18fd4",
   "metadata": {},
   "source": [
    "After calculating the hourly demand it probably makes sense to categorzie each record into two separate groups of peak hours:\n",
    "* Peak hours between 7 am and 9 am\n",
    "* Peak hours between 12 am and 7 pm"
   ]
  },
  {
   "cell_type": "code",
   "execution_count": 43,
   "id": "53ae403b",
   "metadata": {},
   "outputs": [],
   "source": [
    "# advances temporal features and dummy encoding\n",
    "df_pred_feat['is_workday'] = df_pred_feat['weekday'].apply(lambda x: 1 if x < 5 else 0)\n",
    "df_pred_feat['peak_hour_1'] = df_pred_feat['hour'].apply(lambda x: 1 if x > 6 & x < 10 else 0)\n",
    "df_pred_feat['peak_hour_2'] = df_pred_feat['hour'].apply(lambda x: 1 if x > 11 & x < 20 else 0)\n",
    "\n",
    "# calculating the quarters to represent seasonality in our data \n",
    "df_pred_feat['quarter'] = df_pred_feat['month'].apply(lambda x: x // 4)\n",
    "df_pred_feat = pd.get_dummies(df_pred_feat, columns = ['quarter'])"
   ]
  },
  {
   "cell_type": "markdown",
   "id": "6fb2bd50",
   "metadata": {},
   "source": [
    "As hour, weekday and month are cyclical features the sin and cos components are calculated to preserve information such as hour 23 and hour 0 being close to each other and not far."
   ]
  },
  {
   "cell_type": "code",
   "execution_count": 44,
   "id": "18775496",
   "metadata": {},
   "outputs": [],
   "source": [
    "df_pred_feat['hour_sin'] = np.sin(df_pred_feat.hour*(2.*np.pi/24))\n",
    "df_pred_feat['hour_cos'] = np.cos(df_pred_feat.hour*(2.*np.pi/24))\n",
    "# month values between 0 and 11 \n",
    "df_pred_feat['month_sin'] = np.sin((df_pred_feat.month-1)*(2.*np.pi/12))\n",
    "df_pred_feat['month_cos'] = np.cos((df_pred_feat.month-1)*(2.*np.pi/12))"
   ]
  },
  {
   "cell_type": "code",
   "execution_count": 45,
   "id": "127a0f9d",
   "metadata": {},
   "outputs": [],
   "source": [
    "# scale temperature features \n",
    "mean_temp = statistics.mean(df_pred_feat['max_temp'])\n",
    "std_temp = statistics.stdev(df_pred_feat['max_temp'])\n",
    "df_pred_feat['temp_scaled'] = (df_pred_feat['max_temp'] - mean_temp) / std_temp"
   ]
  },
  {
   "cell_type": "code",
   "execution_count": 46,
   "id": "c07c4cab",
   "metadata": {
    "scrolled": true
   },
   "outputs": [
    {
     "data": {
      "text/html": [
       "<div>\n",
       "<style scoped>\n",
       "    .dataframe tbody tr th:only-of-type {\n",
       "        vertical-align: middle;\n",
       "    }\n",
       "\n",
       "    .dataframe tbody tr th {\n",
       "        vertical-align: top;\n",
       "    }\n",
       "\n",
       "    .dataframe thead th {\n",
       "        text-align: right;\n",
       "    }\n",
       "</style>\n",
       "<table border=\"1\" class=\"dataframe\">\n",
       "  <thead>\n",
       "    <tr style=\"text-align: right;\">\n",
       "      <th></th>\n",
       "      <th>precip</th>\n",
       "      <th>hourly_demand</th>\n",
       "      <th>hour</th>\n",
       "      <th>weekday</th>\n",
       "      <th>month</th>\n",
       "      <th>is_workday</th>\n",
       "      <th>peak_hour_1</th>\n",
       "      <th>peak_hour_2</th>\n",
       "      <th>quarter_0</th>\n",
       "      <th>quarter_1</th>\n",
       "      <th>quarter_2</th>\n",
       "      <th>quarter_3</th>\n",
       "      <th>hour_sin</th>\n",
       "      <th>hour_cos</th>\n",
       "      <th>month_sin</th>\n",
       "      <th>month_cos</th>\n",
       "      <th>temp_scaled</th>\n",
       "    </tr>\n",
       "    <tr>\n",
       "      <th>date_time</th>\n",
       "      <th></th>\n",
       "      <th></th>\n",
       "      <th></th>\n",
       "      <th></th>\n",
       "      <th></th>\n",
       "      <th></th>\n",
       "      <th></th>\n",
       "      <th></th>\n",
       "      <th></th>\n",
       "      <th></th>\n",
       "      <th></th>\n",
       "      <th></th>\n",
       "      <th></th>\n",
       "      <th></th>\n",
       "      <th></th>\n",
       "      <th></th>\n",
       "      <th></th>\n",
       "    </tr>\n",
       "  </thead>\n",
       "  <tbody>\n",
       "    <tr>\n",
       "      <th>2017-01-01 00:00:00</th>\n",
       "      <td>0.0</td>\n",
       "      <td>13</td>\n",
       "      <td>0</td>\n",
       "      <td>6</td>\n",
       "      <td>1</td>\n",
       "      <td>0</td>\n",
       "      <td>0</td>\n",
       "      <td>0</td>\n",
       "      <td>1</td>\n",
       "      <td>0</td>\n",
       "      <td>0</td>\n",
       "      <td>0</td>\n",
       "      <td>0.000000</td>\n",
       "      <td>1.000000</td>\n",
       "      <td>0.0</td>\n",
       "      <td>1.000000</td>\n",
       "      <td>-0.752447</td>\n",
       "    </tr>\n",
       "    <tr>\n",
       "      <th>2017-01-01 01:00:00</th>\n",
       "      <td>0.0</td>\n",
       "      <td>7</td>\n",
       "      <td>1</td>\n",
       "      <td>6</td>\n",
       "      <td>1</td>\n",
       "      <td>0</td>\n",
       "      <td>1</td>\n",
       "      <td>0</td>\n",
       "      <td>1</td>\n",
       "      <td>0</td>\n",
       "      <td>0</td>\n",
       "      <td>0</td>\n",
       "      <td>0.258819</td>\n",
       "      <td>0.965926</td>\n",
       "      <td>0.0</td>\n",
       "      <td>1.000000</td>\n",
       "      <td>-0.702026</td>\n",
       "    </tr>\n",
       "    <tr>\n",
       "      <th>2017-01-01 02:00:00</th>\n",
       "      <td>1.0</td>\n",
       "      <td>4</td>\n",
       "      <td>2</td>\n",
       "      <td>6</td>\n",
       "      <td>1</td>\n",
       "      <td>0</td>\n",
       "      <td>0</td>\n",
       "      <td>0</td>\n",
       "      <td>1</td>\n",
       "      <td>0</td>\n",
       "      <td>0</td>\n",
       "      <td>0</td>\n",
       "      <td>0.500000</td>\n",
       "      <td>0.866025</td>\n",
       "      <td>0.0</td>\n",
       "      <td>1.000000</td>\n",
       "      <td>-0.641519</td>\n",
       "    </tr>\n",
       "    <tr>\n",
       "      <th>2017-01-01 03:00:00</th>\n",
       "      <td>1.0</td>\n",
       "      <td>2</td>\n",
       "      <td>3</td>\n",
       "      <td>6</td>\n",
       "      <td>1</td>\n",
       "      <td>0</td>\n",
       "      <td>1</td>\n",
       "      <td>0</td>\n",
       "      <td>1</td>\n",
       "      <td>0</td>\n",
       "      <td>0</td>\n",
       "      <td>0</td>\n",
       "      <td>0.707107</td>\n",
       "      <td>0.707107</td>\n",
       "      <td>0.0</td>\n",
       "      <td>1.000000</td>\n",
       "      <td>-0.641519</td>\n",
       "    </tr>\n",
       "    <tr>\n",
       "      <th>2017-01-01 04:00:00</th>\n",
       "      <td>1.0</td>\n",
       "      <td>6</td>\n",
       "      <td>4</td>\n",
       "      <td>6</td>\n",
       "      <td>1</td>\n",
       "      <td>0</td>\n",
       "      <td>0</td>\n",
       "      <td>1</td>\n",
       "      <td>1</td>\n",
       "      <td>0</td>\n",
       "      <td>0</td>\n",
       "      <td>0</td>\n",
       "      <td>0.866025</td>\n",
       "      <td>0.500000</td>\n",
       "      <td>0.0</td>\n",
       "      <td>1.000000</td>\n",
       "      <td>-0.641519</td>\n",
       "    </tr>\n",
       "    <tr>\n",
       "      <th>...</th>\n",
       "      <td>...</td>\n",
       "      <td>...</td>\n",
       "      <td>...</td>\n",
       "      <td>...</td>\n",
       "      <td>...</td>\n",
       "      <td>...</td>\n",
       "      <td>...</td>\n",
       "      <td>...</td>\n",
       "      <td>...</td>\n",
       "      <td>...</td>\n",
       "      <td>...</td>\n",
       "      <td>...</td>\n",
       "      <td>...</td>\n",
       "      <td>...</td>\n",
       "      <td>...</td>\n",
       "      <td>...</td>\n",
       "      <td>...</td>\n",
       "    </tr>\n",
       "    <tr>\n",
       "      <th>2017-12-31 19:00:00</th>\n",
       "      <td>0.0</td>\n",
       "      <td>6</td>\n",
       "      <td>19</td>\n",
       "      <td>6</td>\n",
       "      <td>12</td>\n",
       "      <td>0</td>\n",
       "      <td>1</td>\n",
       "      <td>1</td>\n",
       "      <td>0</td>\n",
       "      <td>0</td>\n",
       "      <td>0</td>\n",
       "      <td>1</td>\n",
       "      <td>-0.965926</td>\n",
       "      <td>0.258819</td>\n",
       "      <td>-0.5</td>\n",
       "      <td>0.866025</td>\n",
       "      <td>-2.265101</td>\n",
       "    </tr>\n",
       "    <tr>\n",
       "      <th>2017-12-31 20:00:00</th>\n",
       "      <td>0.0</td>\n",
       "      <td>5</td>\n",
       "      <td>20</td>\n",
       "      <td>6</td>\n",
       "      <td>12</td>\n",
       "      <td>0</td>\n",
       "      <td>1</td>\n",
       "      <td>1</td>\n",
       "      <td>0</td>\n",
       "      <td>0</td>\n",
       "      <td>0</td>\n",
       "      <td>1</td>\n",
       "      <td>-0.866025</td>\n",
       "      <td>0.500000</td>\n",
       "      <td>-0.5</td>\n",
       "      <td>0.866025</td>\n",
       "      <td>-2.214679</td>\n",
       "    </tr>\n",
       "    <tr>\n",
       "      <th>2017-12-31 21:00:00</th>\n",
       "      <td>0.0</td>\n",
       "      <td>3</td>\n",
       "      <td>21</td>\n",
       "      <td>6</td>\n",
       "      <td>12</td>\n",
       "      <td>0</td>\n",
       "      <td>1</td>\n",
       "      <td>1</td>\n",
       "      <td>0</td>\n",
       "      <td>0</td>\n",
       "      <td>0</td>\n",
       "      <td>1</td>\n",
       "      <td>-0.707107</td>\n",
       "      <td>0.707107</td>\n",
       "      <td>-0.5</td>\n",
       "      <td>0.866025</td>\n",
       "      <td>-2.265101</td>\n",
       "    </tr>\n",
       "    <tr>\n",
       "      <th>2017-12-31 22:00:00</th>\n",
       "      <td>0.0</td>\n",
       "      <td>7</td>\n",
       "      <td>22</td>\n",
       "      <td>6</td>\n",
       "      <td>12</td>\n",
       "      <td>0</td>\n",
       "      <td>1</td>\n",
       "      <td>1</td>\n",
       "      <td>0</td>\n",
       "      <td>0</td>\n",
       "      <td>0</td>\n",
       "      <td>1</td>\n",
       "      <td>-0.500000</td>\n",
       "      <td>0.866025</td>\n",
       "      <td>-0.5</td>\n",
       "      <td>0.866025</td>\n",
       "      <td>-2.325607</td>\n",
       "    </tr>\n",
       "    <tr>\n",
       "      <th>2017-12-31 23:00:00</th>\n",
       "      <td>0.0</td>\n",
       "      <td>2</td>\n",
       "      <td>23</td>\n",
       "      <td>6</td>\n",
       "      <td>12</td>\n",
       "      <td>0</td>\n",
       "      <td>1</td>\n",
       "      <td>1</td>\n",
       "      <td>0</td>\n",
       "      <td>0</td>\n",
       "      <td>0</td>\n",
       "      <td>1</td>\n",
       "      <td>-0.258819</td>\n",
       "      <td>0.965926</td>\n",
       "      <td>-0.5</td>\n",
       "      <td>0.866025</td>\n",
       "      <td>-2.265101</td>\n",
       "    </tr>\n",
       "  </tbody>\n",
       "</table>\n",
       "<p>8760 rows × 17 columns</p>\n",
       "</div>"
      ],
      "text/plain": [
       "                     precip  hourly_demand  hour  weekday  month  is_workday  \\\n",
       "date_time                                                                      \n",
       "2017-01-01 00:00:00     0.0             13     0        6      1           0   \n",
       "2017-01-01 01:00:00     0.0              7     1        6      1           0   \n",
       "2017-01-01 02:00:00     1.0              4     2        6      1           0   \n",
       "2017-01-01 03:00:00     1.0              2     3        6      1           0   \n",
       "2017-01-01 04:00:00     1.0              6     4        6      1           0   \n",
       "...                     ...            ...   ...      ...    ...         ...   \n",
       "2017-12-31 19:00:00     0.0              6    19        6     12           0   \n",
       "2017-12-31 20:00:00     0.0              5    20        6     12           0   \n",
       "2017-12-31 21:00:00     0.0              3    21        6     12           0   \n",
       "2017-12-31 22:00:00     0.0              7    22        6     12           0   \n",
       "2017-12-31 23:00:00     0.0              2    23        6     12           0   \n",
       "\n",
       "                     peak_hour_1  peak_hour_2  quarter_0  quarter_1  \\\n",
       "date_time                                                             \n",
       "2017-01-01 00:00:00            0            0          1          0   \n",
       "2017-01-01 01:00:00            1            0          1          0   \n",
       "2017-01-01 02:00:00            0            0          1          0   \n",
       "2017-01-01 03:00:00            1            0          1          0   \n",
       "2017-01-01 04:00:00            0            1          1          0   \n",
       "...                          ...          ...        ...        ...   \n",
       "2017-12-31 19:00:00            1            1          0          0   \n",
       "2017-12-31 20:00:00            1            1          0          0   \n",
       "2017-12-31 21:00:00            1            1          0          0   \n",
       "2017-12-31 22:00:00            1            1          0          0   \n",
       "2017-12-31 23:00:00            1            1          0          0   \n",
       "\n",
       "                     quarter_2  quarter_3  hour_sin  hour_cos  month_sin  \\\n",
       "date_time                                                                  \n",
       "2017-01-01 00:00:00          0          0  0.000000  1.000000        0.0   \n",
       "2017-01-01 01:00:00          0          0  0.258819  0.965926        0.0   \n",
       "2017-01-01 02:00:00          0          0  0.500000  0.866025        0.0   \n",
       "2017-01-01 03:00:00          0          0  0.707107  0.707107        0.0   \n",
       "2017-01-01 04:00:00          0          0  0.866025  0.500000        0.0   \n",
       "...                        ...        ...       ...       ...        ...   \n",
       "2017-12-31 19:00:00          0          1 -0.965926  0.258819       -0.5   \n",
       "2017-12-31 20:00:00          0          1 -0.866025  0.500000       -0.5   \n",
       "2017-12-31 21:00:00          0          1 -0.707107  0.707107       -0.5   \n",
       "2017-12-31 22:00:00          0          1 -0.500000  0.866025       -0.5   \n",
       "2017-12-31 23:00:00          0          1 -0.258819  0.965926       -0.5   \n",
       "\n",
       "                     month_cos  temp_scaled  \n",
       "date_time                                    \n",
       "2017-01-01 00:00:00   1.000000    -0.752447  \n",
       "2017-01-01 01:00:00   1.000000    -0.702026  \n",
       "2017-01-01 02:00:00   1.000000    -0.641519  \n",
       "2017-01-01 03:00:00   1.000000    -0.641519  \n",
       "2017-01-01 04:00:00   1.000000    -0.641519  \n",
       "...                        ...          ...  \n",
       "2017-12-31 19:00:00   0.866025    -2.265101  \n",
       "2017-12-31 20:00:00   0.866025    -2.214679  \n",
       "2017-12-31 21:00:00   0.866025    -2.265101  \n",
       "2017-12-31 22:00:00   0.866025    -2.325607  \n",
       "2017-12-31 23:00:00   0.866025    -2.265101  \n",
       "\n",
       "[8760 rows x 17 columns]"
      ]
     },
     "execution_count": 46,
     "metadata": {},
     "output_type": "execute_result"
    }
   ],
   "source": [
    "# For simplification we remove the features \"max_temp\" and \"min_temp\"\n",
    "df_pred_feat = df_pred_feat.drop(columns=['max_temp','min_temp'])\n",
    "df_pred_feat"
   ]
  },
  {
   "cell_type": "markdown",
   "id": "1c78bcef",
   "metadata": {},
   "source": [
    "**Evaluating Feature Correlation**"
   ]
  },
  {
   "cell_type": "markdown",
   "id": "71239cb8",
   "metadata": {},
   "source": [
    "The heatmap shows the correlation between the features. Even though only features which have a stronger correlation to the demand per hour seem important, in the upcoming model evaluation different sets of features will be evaluated against each other so the perfect set of features for each model will be used."
   ]
  },
  {
   "cell_type": "code",
   "execution_count": 47,
   "id": "b4dac067",
   "metadata": {
    "scrolled": false
   },
   "outputs": [
    {
     "data": {
      "image/png": "[encoded data removed]",
      "text/plain": [
       "<Figure size 1296x1296 with 2 Axes>"
      ]
     },
     "metadata": {
      "needs_background": "light"
     },
     "output_type": "display_data"
    }
   ],
   "source": [
    "corrmat = df_pred_feat.corr()\n",
    "top_corr_features = corrmat.index\n",
    "\n",
    "plt.figure(figsize=(18,18))\n",
    "\n",
    "g=sns.heatmap(df_pred_feat[top_corr_features].corr(),annot=True, cmap=\"RdYlGn\")\n",
    "\n",
    "#plt.savefig(\"correlation_matrix.png\")"
   ]
  },
  {
   "cell_type": "markdown",
   "id": "7e38d3f5",
   "metadata": {},
   "source": [
    "## 4.3 Model Building"
   ]
  },
  {
   "cell_type": "markdown",
   "id": "7fa26f5c",
   "metadata": {},
   "source": [
    "Now the prediction models can be created. The 3 chosen Regression Models are: \n",
    "\n",
    "- Ridge Regression based on linear multipolinomial Regression\n",
    "- Decision Tree\n",
    "- XGBoost Regression\n",
    "\n",
    "The three algorithms were chosen as they are different approaches to the prediction problem with increasing complexity. "
   ]
  },
  {
   "cell_type": "markdown",
   "id": "f93fa2b4",
   "metadata": {},
   "source": [
    "After engineering and picking the features for the demand prediction, we chose to perform 2 different and easy understandable and interpretable approaches for the regression analysis: Multiple Polynomial Regression with Regularization (L2-Regression) and the Decision Tree Regression. Afterwards we trained a boosting ensemble method eXtreme Gradient Boosting (XGBoost) because of its execution speed and the mixture of numerical and categorial features of our dataset (e.g. One-Hot-Encoding for quarters 0-3 or the boolean feature 'precip'), assuming a very high performance in prediction. \n",
    "\n",
    "Firstly we tuned the hyperparameters of our machine learning algorithms starting with a handpicked feature set, of which we presume has the most correlation with our target value 'hourly_demand': ['hour', 'weekday', 'month', 'temp_scaled', 'precip']. For performance evaluation we chose the R² score.\n",
    "\n",
    "To avoid model overfitting to the data set (high variance in performance of different data sets), we decided to cross-validate our models. Therefore, we split up our data into a training set (70%) and a test set (30%), trained the model based on the training set and evaluated its prediction performance using the holdout set. We also built a plot demonstrating the root mean squared error (RMSE) of the model with regard to the degree of the polynom respectively tree depth.\n",
    "\n",
    "After running the regression multiple times through a loop we considered that the degree 8 of the polynomial is the optimal choice, since it fits the training and holdout sets best, resulting in a small RMSE and avoiding model overfitting (see fig. XY). For tuning in the regularization factor (Lambda) we preceeded in a similar manner, by iterating over different logarithmically spaced values for Lambda, leaving us with the optimal range for Lambda between 0.1-0.01.\n",
    "With these hyperparamters and the basic features the model delivered a R² value of about 0.61. \n",
    "\n",
    "The decision tree for regression was trained according to the same procedure. We have determined a tree depth of 10-11 (see fig. XY) would suit the training and testing data best, without increasing overfitting of the tree to the data set. With this method an overall R² score of 0.87-0.88 was achieved, which is a comparable performance for our prediction model using a completely different approach.\n",
    "\n",
    "As third and last model a XGBoost Regressor was trained. With the default hyperparamters and the handpicked features a R² value of approximately 0.92 was calculated. "
   ]
  },
  {
   "cell_type": "code",
   "execution_count": 48,
   "id": "0a7de9fc",
   "metadata": {},
   "outputs": [],
   "source": [
    "feature_set = [['hour', 'weekday', 'month', 'temp_scaled', 'precip']]"
   ]
  },
  {
   "cell_type": "code",
   "execution_count": 49,
   "id": "6220824b",
   "metadata": {},
   "outputs": [],
   "source": [
    "# function for data splitting in test and training with specified set of features\n",
    "def data_split(features):\n",
    "    \n",
    "    features.append('hourly_demand')\n",
    "    features.append(features.pop(features.index('hourly_demand')))\n",
    "    df = df_pred_feat[features]\n",
    "\n",
    "    # split the data with 70% training data\n",
    "    train, test = train_test_split(df, test_size = 0.3, random_state = 42)\n",
    "    x_train = train.iloc[:,:-1]\n",
    "    y_train = train.iloc[:,-1]\n",
    "\n",
    "    x_test = test.iloc[:,:-1]\n",
    "    y_test = test.iloc[:,-1]\n",
    "    \n",
    "    return x_train, y_train, x_test, y_test"
   ]
  },
  {
   "cell_type": "code",
   "execution_count": 50,
   "id": "de2362e8",
   "metadata": {
    "scrolled": true
   },
   "outputs": [],
   "source": [
    "X_train, y_train, X_test, y_test = data_split(feature_set[0])"
   ]
  },
  {
   "cell_type": "markdown",
   "id": "69e6b069",
   "metadata": {},
   "source": [
    "### 4.3.2 Linear Regression (L2-Regression)"
   ]
  },
  {
   "cell_type": "code",
   "execution_count": 51,
   "id": "853ec9cf",
   "metadata": {
    "scrolled": true
   },
   "outputs": [
    {
     "data": {
      "image/png": "[encoded data removed]",
      "text/plain": [
       "<Figure size 432x288 with 1 Axes>"
      ]
     },
     "metadata": {
      "needs_background": "light"
     },
     "output_type": "display_data"
    },
    {
     "name": "stdout",
     "output_type": "stream",
     "text": [
      "The best performance is at the polynominal degree 8 with R²: 0.6104890777452006\n",
      "[0.2855541384455831, 0.501389570841031, 0.5895509643734442, 0.6033288349341729, 0.6051040331085948, 0.6072229332616987, 0.6103930479970396, 0.6104890777452006, 0.6069621338933339]\n"
     ]
    }
   ],
   "source": [
    "# Hyperparameter Tuning for Ridge Regression (L2-Regression)\n",
    "\n",
    "err_train = []\n",
    "err_test = []\n",
    "r_2_score = []\n",
    "\n",
    "for i in range(1, 10):\n",
    "    \n",
    "    poly_reg = PolynomialFeatures (degree = i)\n",
    "    x_poly = poly_reg.fit_transform(X_train)\n",
    "\n",
    "    model = Ridge(alpha = 0, normalize = True, solver = 'lsqr')\n",
    "    model.fit(x_poly, y_train)\n",
    "\n",
    "    train_pred = model.predict(x_poly)\n",
    "    test_pred = model.predict(poly_reg.fit_transform(X_test))\n",
    "    \n",
    "    # calculate training and cross validation error, method = Root Mean Squared Error\n",
    "    err_train.append(mean_squared_error(y_train, train_pred, squared = False))\n",
    "    err_test.append(mean_squared_error(y_test, test_pred, squared = False))\n",
    "    r_2_score.append(r2_score(y_test, test_pred))\n",
    "    \n",
    "    \n",
    "# plotting the training and test error\n",
    "plt.semilogy(range(1,10),err_train, range(1, 10),err_test)\n",
    "plt.xlabel('Polynomial Degree')\n",
    "plt.ylabel('Root Mean Squared Error (RMSE)')\n",
    "plt.legend(['Training Set', 'Holdout Set'])\n",
    "plt.show()\n",
    "print(\"The best performance is at the polynominal degree \" + str(np.argmax(r_2_score) + 1) + \" with R²: \" + str(r_2_score[np.argmax(r_2_score)]))\n",
    "print(r_2_score)\n",
    "\n",
    "#plt.savefig(\"L2_regression.png\")"
   ]
  },
  {
   "cell_type": "code",
   "execution_count": 52,
   "id": "2393db0e",
   "metadata": {
    "scrolled": true
   },
   "outputs": [
    {
     "data": {
      "text/plain": [
       "Text(0, 0.5, 'Average squared loss')"
      ]
     },
     "execution_count": 52,
     "metadata": {},
     "output_type": "execute_result"
    },
    {
     "data": {
      "image/png": "[encoded data removed]",
      "text/plain": [
       "<Figure size 432x288 with 1 Axes>"
      ]
     },
     "metadata": {
      "needs_background": "light"
     },
     "output_type": "display_data"
    }
   ],
   "source": [
    "# Penalty / Regularization Factor (Lambda) Tuning for Ridge Regression (L2-Regression)\n",
    "\n",
    "poly_reg = PolynomialFeatures (degree = 8)\n",
    "x_poly = poly_reg.fit_transform(X_train)\n",
    "\n",
    "lam = np.logspace(-5, 5, 100)\n",
    "\n",
    "err_train_reg = []\n",
    "err_test_reg = []\n",
    "\n",
    "for l in lam:\n",
    "    \n",
    "    model_L2 = Ridge(alpha = l, normalize = True, solver = 'lsqr')\n",
    "    model_L2.fit(x_poly, y_train)\n",
    "\n",
    "    err_train_reg.append(((model_L2.predict(x_poly) - y_train)**2).mean())\n",
    "    err_test_reg.append(((model_L2.predict(poly_reg.fit_transform(X_test)) - y_test)**2).mean())\n",
    "    \n",
    "plt.loglog(lam, err_train_reg, lam, err_test_reg)\n",
    "plt.legend([\"Training\", \"Validation\"])\n",
    "plt.xlabel(\"Regularization parameter $\\lambda$\")\n",
    "plt.ylabel(\"Average squared loss\")\n",
    "# print(err_test_reg)\n",
    "\n",
    "#plt.savefig(\"Lambda.png\")"
   ]
  },
  {
   "cell_type": "code",
   "execution_count": 53,
   "id": "76f753f3",
   "metadata": {
    "scrolled": false
   },
   "outputs": [
    {
     "data": {
      "text/plain": [
       "Text(0, 0.5, 'Average squared loss')"
      ]
     },
     "execution_count": 53,
     "metadata": {},
     "output_type": "execute_result"
    },
    {
     "data": {
      "image/png": "[encoded data removed]",
      "text/plain": [
       "<Figure size 432x288 with 1 Axes>"
      ]
     },
     "metadata": {
      "needs_background": "light"
     },
     "output_type": "display_data"
    }
   ],
   "source": [
    "plt.loglog(lam[20:70], err_train_reg[20:70], lam[20:70], err_test_reg[20:70])\n",
    "plt.legend([\"Training\", \"Validation\"])\n",
    "plt.xlabel(\"Regularization parameter $\\lambda$\")\n",
    "plt.ylabel(\"Average squared loss\")"
   ]
  },
  {
   "cell_type": "markdown",
   "id": "e0329481",
   "metadata": {},
   "source": [
    "Lambda should be around 0.01 - 0.1 to minimize the Test Error."
   ]
  },
  {
   "cell_type": "markdown",
   "id": "2c7b84e3",
   "metadata": {},
   "source": [
    "### 4.3.1 Decision Tree Regressor"
   ]
  },
  {
   "cell_type": "code",
   "execution_count": 54,
   "id": "b536bd14",
   "metadata": {},
   "outputs": [
    {
     "data": {
      "image/png": "[encoded data removed]",
      "text/plain": [
       "<Figure size 432x288 with 1 Axes>"
      ]
     },
     "metadata": {
      "needs_background": "light"
     },
     "output_type": "display_data"
    }
   ],
   "source": [
    "err_train = []\n",
    "err_test = []\n",
    "r_2_score = []\n",
    "\n",
    "for i in range(1, 25):\n",
    "    # fit regression model\n",
    "    regr = DecisionTreeRegressor(max_depth=i)\n",
    "    regr.fit(X_train, y_train)\n",
    "\n",
    "    # predict\n",
    "    train_pred = regr.predict(X_train)\n",
    "    test_pred = regr.predict(X_test)\n",
    "\n",
    "    # calculate training and cross validation error, method = Root Mean Squared Error\n",
    "    err_train.append(mean_squared_error(y_train, train_pred, squared = False))\n",
    "    err_test.append(mean_squared_error(y_test, test_pred, squared = False))\n",
    "    r_2_score.append(r2_score(y_test, test_pred))\n",
    "    \n",
    "    \n",
    "# plotting the training and test error\n",
    "plt.semilogy(range(1,25),err_train, range(1, 25),err_test)\n",
    "plt.xlabel('Tree Depth')\n",
    "plt.ylabel('Root Mean Squared Error (RMSE)')\n",
    "plt.legend(['Training Set', 'Holdout Set'])\n",
    "plt.show()\n",
    "\n",
    "#plt.savefig(\"Decision_tree.png\")"
   ]
  },
  {
   "cell_type": "code",
   "execution_count": 55,
   "id": "8cee34c7",
   "metadata": {
    "scrolled": true
   },
   "outputs": [
    {
     "name": "stdout",
     "output_type": "stream",
     "text": [
      "[0.20966001889988106, 0.4295384169317463, 0.5664162076179278, 0.6247198252011505, 0.6726026514238421, 0.7703488250359929, 0.817157198622258, 0.8474824393611337, 0.8625568122394812, 0.8721733318419901, 0.878502653867447, 0.8745812597635251, 0.867513659560749, 0.8603035118515263, 0.857541685751118, 0.8531596164357925, 0.8513483780080418, 0.8449610119107217, 0.850685023314985, 0.8454500023620233, 0.8427794567852881, 0.8552011098723677, 0.8500638601403442, 0.8481785446268529]\n",
      "The best performance is at tree depth 11 with R²: 0.878502653867447\n"
     ]
    },
    {
     "data": {
      "image/png": "[encoded data removed]",
      "text/plain": [
       "<Figure size 432x288 with 1 Axes>"
      ]
     },
     "metadata": {
      "needs_background": "light"
     },
     "output_type": "display_data"
    }
   ],
   "source": [
    "dep = np.arange(1, 25)\n",
    "\n",
    "plt.semilogy(dep[6:12], err_train[6:12], dep[6:12], err_test[6:12])\n",
    "plt.legend([\"Training\", \"Validation\"])\n",
    "plt.xlabel(\"Tree Depth\")\n",
    "plt.ylabel(\"Average squared loss\")\n",
    "\n",
    "print(r_2_score) \n",
    "print(\"The best performance is at tree depth \" + str(np.argmax(r_2_score) + 1) + \" with R²: \" + str(r_2_score[np.argmax(r_2_score)]))"
   ]
  },
  {
   "cell_type": "markdown",
   "id": "7db3486f",
   "metadata": {},
   "source": [
    "After running the algorithm several times with different data test sets, we concluded, that a tree depth of 11 is significantly reducing the test error, without building a overly complex model."
   ]
  },
  {
   "cell_type": "markdown",
   "id": "64a27340",
   "metadata": {},
   "source": [
    "### 4.3.3 XGBoost"
   ]
  },
  {
   "cell_type": "markdown",
   "id": "1b6fdac2",
   "metadata": {},
   "source": [
    "As XGBoost is not depending on hyperparamter tuning the default hyperparamters are used. "
   ]
  },
  {
   "cell_type": "code",
   "execution_count": 56,
   "id": "9cf57130",
   "metadata": {
    "scrolled": true
   },
   "outputs": [
    {
     "name": "stdout",
     "output_type": "stream",
     "text": [
      "XGBoost R2: 0.9221454249354087\n"
     ]
    }
   ],
   "source": [
    "# XGBoost model with default hyperparamters for comparisson\n",
    "model = xgb.XGBRegressor()\n",
    "model.fit(X_train, y_train)\n",
    "y_test_pred = model.predict(X_test)\n",
    "print(\"XGBoost R2: \" + str(r2_score(y_test, y_test_pred)))"
   ]
  },
  {
   "cell_type": "markdown",
   "id": "84dbc36c",
   "metadata": {},
   "source": [
    "### 4.4 Model Evaluation"
   ]
  },
  {
   "cell_type": "markdown",
   "id": "15f0a9da",
   "metadata": {},
   "source": [
    "\n",
    "In this step we evaluated the models with different set of features, to get to know the best features for each model. Therefore we successively added features to the model and examined the respective performance. Doing this we discovered that including the features for peak hours or the quarter is not improving the performance of the models. Furthermore it was found that the boolean feature is_weekday did not enhance the models either. \n",
    "\n",
    "In contrast decent improvements for the L2-Regression by using the cyclical features for month and hour were found. Hence resulting in an increased R² of 0.89. Reasons why these improvements only occured for the L2-Regression could not be found. \n",
    "\n",
    "The chosen models and the respective best features as well as the achieved R² score are displayed in figure X\n",
    "\n",
    "| Model | Features | R² |\n",
    "| --- | --- | --- |\n",
    "| L2-Regression | hour\\_sin, hour\\_cos, month\\_sin, month\\_cos, weekday, precip, temp\\_scaled | 0.890 |\n",
    "| Decision Tree | hour, month, weekday, precip, temp\\_scaled | 0.876 |\n",
    "| XGBoost | hour, month, weekday, precip, temp\\_scaled | 0.922 |\n",
    "\n",
    "For deployment either the L2-Regression or the XGBoost are suitable, depending on preferences. Advantage of the L2-Regression is, that it is not that complex and the algorithm is explainable compared to XGBoost. However regarding the pure prediction performance the XGBoost model does perform better."
   ]
  },
  {
   "cell_type": "markdown",
   "id": "31bee7c0",
   "metadata": {},
   "source": [
    "### Functions for Model Evaluation "
   ]
  },
  {
   "cell_type": "code",
   "execution_count": 57,
   "id": "3c79c2d9",
   "metadata": {},
   "outputs": [],
   "source": [
    "# function to compare performance of regression models with different sets of features\n",
    "def model_comparison(feature_list):\n",
    "        \n",
    "    storage = pd.DataFrame()\n",
    "    \n",
    "    poly_ridge = PolynomialFeatures (degree = 8)\n",
    "    \n",
    "    for n in range(len(feature_list)):\n",
    "\n",
    "        x_train, y_train, x_test, y_test = data_split(feature_list[n])\n",
    "        models=[Ridge(alpha = 0.01, normalize = True, solver = 'lsqr'), DecisionTreeRegressor(max_depth=11), xgb.XGBRegressor()]\n",
    "        model_names=['Ridge (L2-) Regression', 'Decision Tree','XGBoost']\n",
    "        \n",
    "\n",
    "        x_ridge = poly_ridge.fit_transform(x_train)\n",
    "        \n",
    "        for model in range (len(models)):\n",
    "            clf = models[model]\n",
    "            \n",
    "            if(model == 0):\n",
    "                clf.fit(x_ridge, y_train)\n",
    "                test_pred = clf.predict(poly_ridge.fit_transform(x_test))\n",
    "            \n",
    "            else:\n",
    "                clf.fit(x_train,y_train)\n",
    "                test_pred = clf.predict(x_test)\n",
    "                \n",
    "            r2 = (r2_score(y_test, test_pred))\n",
    "            mae = (mean_absolute_error(y_test, test_pred))\n",
    "            rmse = (mean_squared_error(y_test, test_pred, squared = False))\n",
    "            \n",
    "            storage = storage.append({'Features':str(n) + ' ' + str(feature_list[n]), 'Model':model_names[model], 'R²':r2}, ignore_index=True)\n",
    "\n",
    "    return storage"
   ]
  },
  {
   "cell_type": "markdown",
   "id": "8c82065b",
   "metadata": {},
   "source": [
    "### 4.4.1 Successively adding and evaluation performance of  basic features"
   ]
  },
  {
   "cell_type": "markdown",
   "id": "f20f217e",
   "metadata": {},
   "source": [
    "In this structured approach the best set of features for each model will be determined. Hence features will be added successively to each model. For each model and set of features the R² is calculated. "
   ]
  },
  {
   "cell_type": "code",
   "execution_count": 58,
   "id": "56871696",
   "metadata": {},
   "outputs": [
    {
     "data": {
      "text/html": [
       "<div>\n",
       "<style scoped>\n",
       "    .dataframe tbody tr th:only-of-type {\n",
       "        vertical-align: middle;\n",
       "    }\n",
       "\n",
       "    .dataframe tbody tr th {\n",
       "        vertical-align: top;\n",
       "    }\n",
       "\n",
       "    .dataframe thead tr th {\n",
       "        text-align: left;\n",
       "    }\n",
       "\n",
       "    .dataframe thead tr:last-of-type th {\n",
       "        text-align: right;\n",
       "    }\n",
       "</style>\n",
       "<table border=\"1\" class=\"dataframe\">\n",
       "  <thead>\n",
       "    <tr>\n",
       "      <th></th>\n",
       "      <th colspan=\"3\" halign=\"left\">R²</th>\n",
       "    </tr>\n",
       "    <tr>\n",
       "      <th>Model</th>\n",
       "      <th>Decision Tree</th>\n",
       "      <th>Ridge (L2-) Regression</th>\n",
       "      <th>XGBoost</th>\n",
       "    </tr>\n",
       "    <tr>\n",
       "      <th>Features</th>\n",
       "      <th></th>\n",
       "      <th></th>\n",
       "      <th></th>\n",
       "    </tr>\n",
       "  </thead>\n",
       "  <tbody>\n",
       "    <tr>\n",
       "      <th>0 ['hour', 'hourly_demand']</th>\n",
       "      <td>0.413519</td>\n",
       "      <td>0.254832</td>\n",
       "      <td>0.413519</td>\n",
       "    </tr>\n",
       "    <tr>\n",
       "      <th>1 ['hour', 'month', 'hourly_demand']</th>\n",
       "      <td>0.750183</td>\n",
       "      <td>0.528071</td>\n",
       "      <td>0.749583</td>\n",
       "    </tr>\n",
       "    <tr>\n",
       "      <th>2 ['hour', 'month', 'weekday', 'hourly_demand']</th>\n",
       "      <td>0.848388</td>\n",
       "      <td>0.550230</td>\n",
       "      <td>0.848944</td>\n",
       "    </tr>\n",
       "    <tr>\n",
       "      <th>3 ['hour', 'month', 'weekday', 'precip', 'hourly_demand']</th>\n",
       "      <td>0.878161</td>\n",
       "      <td>0.563169</td>\n",
       "      <td>0.891457</td>\n",
       "    </tr>\n",
       "    <tr>\n",
       "      <th>4 ['hour', 'month', 'weekday', 'precip', 'temp_scaled', 'hourly_demand']</th>\n",
       "      <td>0.885345</td>\n",
       "      <td>0.602507</td>\n",
       "      <td>0.922349</td>\n",
       "    </tr>\n",
       "    <tr>\n",
       "      <th>5 ['hour', 'month', 'weekday', 'precip', 'temp_scaled', 'quarter_0', 'quarter_1', 'quarter_2', 'quarter_3', 'hourly_demand']</th>\n",
       "      <td>0.883198</td>\n",
       "      <td>0.612300</td>\n",
       "      <td>0.921748</td>\n",
       "    </tr>\n",
       "    <tr>\n",
       "      <th>6 ['hour', 'month', 'weekday', 'precip', 'temp_scaled', 'peak_hour_1', 'peak_hour_2', 'hourly_demand']</th>\n",
       "      <td>0.877100</td>\n",
       "      <td>0.628364</td>\n",
       "      <td>0.920537</td>\n",
       "    </tr>\n",
       "  </tbody>\n",
       "</table>\n",
       "</div>"
      ],
      "text/plain": [
       "                                                              R²  \\\n",
       "Model                                              Decision Tree   \n",
       "Features                                                           \n",
       "0 ['hour', 'hourly_demand']                             0.413519   \n",
       "1 ['hour', 'month', 'hourly_demand']                    0.750183   \n",
       "2 ['hour', 'month', 'weekday', 'hourly_demand']         0.848388   \n",
       "3 ['hour', 'month', 'weekday', 'precip', 'hourl...      0.878161   \n",
       "4 ['hour', 'month', 'weekday', 'precip', 'temp_...      0.885345   \n",
       "5 ['hour', 'month', 'weekday', 'precip', 'temp_...      0.883198   \n",
       "6 ['hour', 'month', 'weekday', 'precip', 'temp_...      0.877100   \n",
       "\n",
       "                                                                           \\\n",
       "Model                                              Ridge (L2-) Regression   \n",
       "Features                                                                    \n",
       "0 ['hour', 'hourly_demand']                                      0.254832   \n",
       "1 ['hour', 'month', 'hourly_demand']                             0.528071   \n",
       "2 ['hour', 'month', 'weekday', 'hourly_demand']                  0.550230   \n",
       "3 ['hour', 'month', 'weekday', 'precip', 'hourl...               0.563169   \n",
       "4 ['hour', 'month', 'weekday', 'precip', 'temp_...               0.602507   \n",
       "5 ['hour', 'month', 'weekday', 'precip', 'temp_...               0.612300   \n",
       "6 ['hour', 'month', 'weekday', 'precip', 'temp_...               0.628364   \n",
       "\n",
       "                                                              \n",
       "Model                                                XGBoost  \n",
       "Features                                                      \n",
       "0 ['hour', 'hourly_demand']                         0.413519  \n",
       "1 ['hour', 'month', 'hourly_demand']                0.749583  \n",
       "2 ['hour', 'month', 'weekday', 'hourly_demand']     0.848944  \n",
       "3 ['hour', 'month', 'weekday', 'precip', 'hourl...  0.891457  \n",
       "4 ['hour', 'month', 'weekday', 'precip', 'temp_...  0.922349  \n",
       "5 ['hour', 'month', 'weekday', 'precip', 'temp_...  0.921748  \n",
       "6 ['hour', 'month', 'weekday', 'precip', 'temp_...  0.920537  "
      ]
     },
     "execution_count": 58,
     "metadata": {},
     "output_type": "execute_result"
    }
   ],
   "source": [
    "test_feature_row_1 = ['hour']\n",
    "test_feature_row_2 = ['hour', 'month']\n",
    "test_feature_row_3 = ['hour', 'month', 'weekday']\n",
    "test_feature_row_4 = ['hour', 'month', 'weekday', 'precip']\n",
    "test_feature_row_5 = ['hour', 'month', 'weekday', 'precip', 'temp_scaled']\n",
    "test_feature_row_6 = ['hour', 'month', 'weekday', 'precip', 'temp_scaled', 'quarter_0', 'quarter_1', 'quarter_2', 'quarter_3']\n",
    "test_feature_row_7 = ['hour', 'month', 'weekday', 'precip', 'temp_scaled', 'peak_hour_1', 'peak_hour_2']\n",
    "\n",
    "featureList = [test_feature_row_1, test_feature_row_2, test_feature_row_3, test_feature_row_4, test_feature_row_5, test_feature_row_6, test_feature_row_7]\n",
    "\n",
    "model_comp_grid = model_comparison(featureList)\n",
    "\n",
    "model_comp_grid.pivot(index = 'Features', columns = 'Model')"
   ]
  },
  {
   "cell_type": "markdown",
   "id": "79dab48e",
   "metadata": {},
   "source": [
    "The results show that involving information about the season (quarter-dummys) and peak hours does not improve the models further. Therefore these features will not be included in upcoming feature set comparisons. "
   ]
  },
  {
   "cell_type": "markdown",
   "id": "57973f1c",
   "metadata": {},
   "source": [
    "### 4.4.2 Comparing performance of numeric weekday and boolean is_weekday features"
   ]
  },
  {
   "cell_type": "code",
   "execution_count": 59,
   "id": "5beaea9d",
   "metadata": {
    "scrolled": true
   },
   "outputs": [
    {
     "data": {
      "text/html": [
       "<div>\n",
       "<style scoped>\n",
       "    .dataframe tbody tr th:only-of-type {\n",
       "        vertical-align: middle;\n",
       "    }\n",
       "\n",
       "    .dataframe tbody tr th {\n",
       "        vertical-align: top;\n",
       "    }\n",
       "\n",
       "    .dataframe thead tr th {\n",
       "        text-align: left;\n",
       "    }\n",
       "\n",
       "    .dataframe thead tr:last-of-type th {\n",
       "        text-align: right;\n",
       "    }\n",
       "</style>\n",
       "<table border=\"1\" class=\"dataframe\">\n",
       "  <thead>\n",
       "    <tr>\n",
       "      <th></th>\n",
       "      <th colspan=\"3\" halign=\"left\">R²</th>\n",
       "    </tr>\n",
       "    <tr>\n",
       "      <th>Model</th>\n",
       "      <th>Decision Tree</th>\n",
       "      <th>Ridge (L2-) Regression</th>\n",
       "      <th>XGBoost</th>\n",
       "    </tr>\n",
       "    <tr>\n",
       "      <th>Features</th>\n",
       "      <th></th>\n",
       "      <th></th>\n",
       "      <th></th>\n",
       "    </tr>\n",
       "  </thead>\n",
       "  <tbody>\n",
       "    <tr>\n",
       "      <th>0 ['hour', 'month', 'weekday', 'precip', 'temp_scaled', 'hourly_demand']</th>\n",
       "      <td>0.879010</td>\n",
       "      <td>0.602507</td>\n",
       "      <td>0.922349</td>\n",
       "    </tr>\n",
       "    <tr>\n",
       "      <th>1 ['hour', 'month', 'is_workday', 'precip', 'temp_scaled', 'hourly_demand']</th>\n",
       "      <td>0.885806</td>\n",
       "      <td>0.606108</td>\n",
       "      <td>0.910502</td>\n",
       "    </tr>\n",
       "    <tr>\n",
       "      <th>2 ['hour', 'month', 'weekday', 'is_workday', 'precip', 'temp_scaled', 'hourly_demand']</th>\n",
       "      <td>0.882597</td>\n",
       "      <td>0.605626</td>\n",
       "      <td>0.922349</td>\n",
       "    </tr>\n",
       "  </tbody>\n",
       "</table>\n",
       "</div>"
      ],
      "text/plain": [
       "                                                              R²  \\\n",
       "Model                                              Decision Tree   \n",
       "Features                                                           \n",
       "0 ['hour', 'month', 'weekday', 'precip', 'temp_...      0.879010   \n",
       "1 ['hour', 'month', 'is_workday', 'precip', 'te...      0.885806   \n",
       "2 ['hour', 'month', 'weekday', 'is_workday', 'p...      0.882597   \n",
       "\n",
       "                                                                           \\\n",
       "Model                                              Ridge (L2-) Regression   \n",
       "Features                                                                    \n",
       "0 ['hour', 'month', 'weekday', 'precip', 'temp_...               0.602507   \n",
       "1 ['hour', 'month', 'is_workday', 'precip', 'te...               0.606108   \n",
       "2 ['hour', 'month', 'weekday', 'is_workday', 'p...               0.605626   \n",
       "\n",
       "                                                              \n",
       "Model                                                XGBoost  \n",
       "Features                                                      \n",
       "0 ['hour', 'month', 'weekday', 'precip', 'temp_...  0.922349  \n",
       "1 ['hour', 'month', 'is_workday', 'precip', 'te...  0.910502  \n",
       "2 ['hour', 'month', 'weekday', 'is_workday', 'p...  0.922349  "
      ]
     },
     "execution_count": 59,
     "metadata": {},
     "output_type": "execute_result"
    }
   ],
   "source": [
    "test_feature_row_10 = ['hour', 'month', 'weekday', 'precip', 'temp_scaled']\n",
    "test_feature_row_11 = ['hour', 'month', 'is_workday', 'precip', 'temp_scaled']\n",
    "test_feature_row_12 = ['hour', 'month', 'weekday', 'is_workday', 'precip', 'temp_scaled']\n",
    "\n",
    "featureList2 = [test_feature_row_10 , test_feature_row_11 , test_feature_row_12]\n",
    "\n",
    "model_grid_weekday_comp = model_comparison(featureList2)\n",
    "\n",
    "model_grid_weekday_comp.pivot(index = 'Features', columns = 'Model')"
   ]
  },
  {
   "cell_type": "markdown",
   "id": "d9ab0034",
   "metadata": {},
   "source": [
    "No relevant performance difference in using **is_weekday** and **weekday** is found. Therefore the numeric weekday as a feature will be used from now on. "
   ]
  },
  {
   "cell_type": "markdown",
   "id": "a940dff5",
   "metadata": {},
   "source": [
    "### 4.4.3 Comparing performance of cyclical presentation of hour and month "
   ]
  },
  {
   "cell_type": "code",
   "execution_count": 60,
   "id": "cbbe64f7",
   "metadata": {},
   "outputs": [
    {
     "data": {
      "text/html": [
       "<div>\n",
       "<style scoped>\n",
       "    .dataframe tbody tr th:only-of-type {\n",
       "        vertical-align: middle;\n",
       "    }\n",
       "\n",
       "    .dataframe tbody tr th {\n",
       "        vertical-align: top;\n",
       "    }\n",
       "\n",
       "    .dataframe thead tr th {\n",
       "        text-align: left;\n",
       "    }\n",
       "\n",
       "    .dataframe thead tr:last-of-type th {\n",
       "        text-align: right;\n",
       "    }\n",
       "</style>\n",
       "<table border=\"1\" class=\"dataframe\">\n",
       "  <thead>\n",
       "    <tr>\n",
       "      <th></th>\n",
       "      <th colspan=\"3\" halign=\"left\">R²</th>\n",
       "    </tr>\n",
       "    <tr>\n",
       "      <th>Model</th>\n",
       "      <th>Decision Tree</th>\n",
       "      <th>Ridge (L2-) Regression</th>\n",
       "      <th>XGBoost</th>\n",
       "    </tr>\n",
       "    <tr>\n",
       "      <th>Features</th>\n",
       "      <th></th>\n",
       "      <th></th>\n",
       "      <th></th>\n",
       "    </tr>\n",
       "  </thead>\n",
       "  <tbody>\n",
       "    <tr>\n",
       "      <th>0 ['hour_sin', 'hour_cos', 'hourly_demand']</th>\n",
       "      <td>0.413519</td>\n",
       "      <td>0.408335</td>\n",
       "      <td>0.413519</td>\n",
       "    </tr>\n",
       "    <tr>\n",
       "      <th>1 ['hour_sin', 'hour_cos', 'month_sin', 'month_cos', 'hourly_demand']</th>\n",
       "      <td>0.749661</td>\n",
       "      <td>0.750250</td>\n",
       "      <td>0.749574</td>\n",
       "    </tr>\n",
       "    <tr>\n",
       "      <th>2 ['hour_sin', 'hour_cos', 'month_sin', 'month_cos', 'weekday', 'hourly_demand']</th>\n",
       "      <td>0.826181</td>\n",
       "      <td>0.854971</td>\n",
       "      <td>0.846507</td>\n",
       "    </tr>\n",
       "    <tr>\n",
       "      <th>3 ['hour_sin', 'hour_cos', 'month_sin', 'month_cos', 'weekday', 'precip', 'hourly_demand']</th>\n",
       "      <td>0.870186</td>\n",
       "      <td>0.871825</td>\n",
       "      <td>0.887791</td>\n",
       "    </tr>\n",
       "    <tr>\n",
       "      <th>4 ['hour_sin', 'hour_cos', 'month_sin', 'month_cos', 'weekday', 'precip', 'temp_scaled', 'hourly_demand']</th>\n",
       "      <td>0.863663</td>\n",
       "      <td>0.890254</td>\n",
       "      <td>0.921135</td>\n",
       "    </tr>\n",
       "  </tbody>\n",
       "</table>\n",
       "</div>"
      ],
      "text/plain": [
       "                                                              R²  \\\n",
       "Model                                              Decision Tree   \n",
       "Features                                                           \n",
       "0 ['hour_sin', 'hour_cos', 'hourly_demand']             0.413519   \n",
       "1 ['hour_sin', 'hour_cos', 'month_sin', 'month_...      0.749661   \n",
       "2 ['hour_sin', 'hour_cos', 'month_sin', 'month_...      0.826181   \n",
       "3 ['hour_sin', 'hour_cos', 'month_sin', 'month_...      0.870186   \n",
       "4 ['hour_sin', 'hour_cos', 'month_sin', 'month_...      0.863663   \n",
       "\n",
       "                                                                           \\\n",
       "Model                                              Ridge (L2-) Regression   \n",
       "Features                                                                    \n",
       "0 ['hour_sin', 'hour_cos', 'hourly_demand']                      0.408335   \n",
       "1 ['hour_sin', 'hour_cos', 'month_sin', 'month_...               0.750250   \n",
       "2 ['hour_sin', 'hour_cos', 'month_sin', 'month_...               0.854971   \n",
       "3 ['hour_sin', 'hour_cos', 'month_sin', 'month_...               0.871825   \n",
       "4 ['hour_sin', 'hour_cos', 'month_sin', 'month_...               0.890254   \n",
       "\n",
       "                                                              \n",
       "Model                                                XGBoost  \n",
       "Features                                                      \n",
       "0 ['hour_sin', 'hour_cos', 'hourly_demand']         0.413519  \n",
       "1 ['hour_sin', 'hour_cos', 'month_sin', 'month_...  0.749574  \n",
       "2 ['hour_sin', 'hour_cos', 'month_sin', 'month_...  0.846507  \n",
       "3 ['hour_sin', 'hour_cos', 'month_sin', 'month_...  0.887791  \n",
       "4 ['hour_sin', 'hour_cos', 'month_sin', 'month_...  0.921135  "
      ]
     },
     "execution_count": 60,
     "metadata": {},
     "output_type": "execute_result"
    }
   ],
   "source": [
    "test_feature_row_21 = ['hour_sin', 'hour_cos']\n",
    "test_feature_row_22 = ['hour_sin', 'hour_cos', 'month_sin', 'month_cos']\n",
    "test_feature_row_23 = ['hour_sin', 'hour_cos', 'month_sin', 'month_cos', 'weekday']\n",
    "test_feature_row_24 = ['hour_sin', 'hour_cos', 'month_sin', 'month_cos', 'weekday', 'precip']\n",
    "test_feature_row_25 = ['hour_sin', 'hour_cos', 'month_sin', 'month_cos', 'weekday', 'precip', 'temp_scaled']\n",
    "\n",
    "featureList_cyclical = [test_feature_row_21 , test_feature_row_22 , test_feature_row_23, test_feature_row_24, test_feature_row_25]\n",
    "\n",
    "model_comp_grid_cyclical = model_comparison(featureList_cyclical)\n",
    "\n",
    "model_comp_grid_cyclical.pivot(index = 'Features', columns = 'Model')"
   ]
  },
  {
   "cell_type": "markdown",
   "id": "6bba611b",
   "metadata": {},
   "source": [
    "Involving the cyclical presentation of hour and month considerably improves the performance of the Ridge Regression. The performance of the Decisison Tree and XGBoost model did not increase."
   ]
  },
  {
   "cell_type": "markdown",
   "id": "311abbfd",
   "metadata": {},
   "source": [
    "### 4.4.3 Model Evaluation Conclusion "
   ]
  },
  {
   "cell_type": "markdown",
   "id": "ee67c539",
   "metadata": {},
   "source": [
    "The model evaluation resulted in these feature sets with the corresponding R²:\n",
    "\n",
    "\n",
    "**Decision Tree**: hour, month, weekday, precip, temp_scaled - **R²: 0.876**\n",
    "\n",
    "\n",
    "**Ridge-Regression**: hour_sin, hour_cos, month_sin, month_cos, weekday, precip, temp_scaled - **R²: 0.890**\n",
    "\n",
    "\n",
    "**XGBoost**: hour, month, weekday, precip, temp_scaled - **R²: 0.922**"
   ]
  },
  {
   "cell_type": "markdown",
   "id": "7a2bcb70",
   "metadata": {},
   "source": [
    "For deployment either the Ridge-Regression or the XGBoost model are suitable and either have their own advantages and drawbacks. \n",
    "\n",
    "**Ridge-Regression** is not that complex  and the model and its parameters are understandable in contrast to XGBoost, which is like a black-box, making it more difficult to interpret. \n",
    "\n",
    "\n",
    "However if model performance is the most relevant aspect, **XGBoost** performs better, which is a valid reason to choose it. "
   ]
  },
  {
   "cell_type": "markdown",
   "id": "33cc34c3",
   "metadata": {},
   "source": [
    "## 4.5 Outlook"
   ]
  },
  {
   "cell_type": "markdown",
   "id": "deae52d6",
   "metadata": {},
   "source": [
    "In this section further improvements are discussed and implemented. Furthermore suggestions for a follow-up project are given. "
   ]
  },
  {
   "cell_type": "markdown",
   "id": "976dc291",
   "metadata": {},
   "source": [
    "### 4.5.1 Hyperparamter Tuning with Grid Search\n"
   ]
  },
  {
   "cell_type": "markdown",
   "id": "7bdf8b71",
   "metadata": {},
   "source": [
    "While some hyperparamters in the models like the **polynomial degree for Ridge Regression** or the **Tree Depth for the Decision Tree** were already adjusted, there are more hyperparamters than can be tuned to improve the model performance. \n",
    "\n",
    "Using **Grid Search Cross Validation** different sets of hyperparamters are compared on the models. In this section we only focus on hyperparamter tuning for the XGBoost model, as we expect  the biggest potential. "
   ]
  },
  {
   "cell_type": "code",
   "execution_count": 61,
   "id": "acf68cab",
   "metadata": {
    "scrolled": true
   },
   "outputs": [
    {
     "name": "stdout",
     "output_type": "stream",
     "text": [
      "Ridge Regression : \n",
      "{'alpha': 1.0, 'copy_X': True, 'fit_intercept': True, 'max_iter': None, 'normalize': 'deprecated', 'positive': False, 'random_state': None, 'solver': 'auto', 'tol': 0.001} \n",
      "\n",
      "Decision Tree : \n",
      "{'ccp_alpha': 0.0, 'criterion': 'squared_error', 'max_depth': None, 'max_features': None, 'max_leaf_nodes': None, 'min_impurity_decrease': 0.0, 'min_samples_leaf': 1, 'min_samples_split': 2, 'min_weight_fraction_leaf': 0.0, 'random_state': None, 'splitter': 'best'} \n",
      "\n",
      "XGBoost : \n",
      "{'objective': 'reg:squarederror', 'base_score': None, 'booster': None, 'colsample_bylevel': None, 'colsample_bynode': None, 'colsample_bytree': None, 'enable_categorical': False, 'gamma': None, 'gpu_id': None, 'importance_type': None, 'interaction_constraints': None, 'learning_rate': None, 'max_delta_step': None, 'max_depth': None, 'min_child_weight': None, 'missing': nan, 'monotone_constraints': None, 'n_estimators': 100, 'n_jobs': None, 'num_parallel_tree': None, 'predictor': None, 'random_state': None, 'reg_alpha': None, 'reg_lambda': None, 'scale_pos_weight': None, 'subsample': None, 'tree_method': None, 'validate_parameters': None, 'verbosity': None} \n",
      "\n"
     ]
    }
   ],
   "source": [
    "# show the hyperparamters for the chosen models\n",
    "models=[Ridge(), DecisionTreeRegressor(), xgb.XGBRegressor()]\n",
    "model_names=['Ridge Regression', 'Decision Tree','XGBoost']\n",
    "\n",
    "for model in range (len(models)):\n",
    "    clf = models[model]\n",
    "    print(model_names[model],\": \")\n",
    "    print(clf.get_params(), \"\\n\")"
   ]
  },
  {
   "cell_type": "code",
   "execution_count": 62,
   "id": "a9e4c802",
   "metadata": {},
   "outputs": [],
   "source": [
    "# creating test and train data with best features for XGBoost\n",
    "features_XGBoostCV =  ['hour', 'month', 'weekday', 'precip', 'temp_scaled']\n",
    "x_train, y_train, x_test, y_test = data_split(features_XGBoostCV)"
   ]
  },
  {
   "cell_type": "code",
   "execution_count": 63,
   "id": "c1e2674f",
   "metadata": {},
   "outputs": [
    {
     "name": "stdout",
     "output_type": "stream",
     "text": [
      "XGBoost R2: 0.9151016239483774\n"
     ]
    }
   ],
   "source": [
    "# XGBoost model with default hyperparamters for comparisson\n",
    "model = xgb.XGBRegressor()\n",
    "model.fit(x_train, y_train)\n",
    "y_test_pred = model.predict(x_test)\n",
    "print(\"XGBoost R2: \" + str(r2_score(y_test_pred, y_test)))"
   ]
  },
  {
   "cell_type": "code",
   "execution_count": 64,
   "id": "9940ecba",
   "metadata": {},
   "outputs": [],
   "source": [
    "# creating set of hyperparamters\n",
    "parameters = {\n",
    "    'nthread':[4],\n",
    "    'max_depth': [20, 30], \n",
    "    'n_estimators': [100, 200, 300 ,400],\n",
    "    'learning_rate': [0.5, 0.3, 0.1]}"
   ]
  },
  {
   "cell_type": "code",
   "execution_count": null,
   "id": "27ba014e",
   "metadata": {
    "scrolled": false
   },
   "outputs": [
    {
     "name": "stdout",
     "output_type": "stream",
     "text": [
      "Fitting 4 folds for each of 24 candidates, totalling 96 fits\n"
     ]
    }
   ],
   "source": [
    "# grid search    \n",
    "model_gridsearch_cv = xgb.XGBRegressor()\n",
    "\n",
    "xgb_grid = GridSearchCV(model_gridsearch_cv,\n",
    "                        parameters,\n",
    "                        cv = 4,\n",
    "                        n_jobs = 5,\n",
    "                        verbose=True)\n",
    "\n",
    "xgb_grid.fit(x_train, y_train)\n",
    "\n",
    "# result of the cv grid search\n",
    "print('Best model hyperparamters: ', xgb_grid.best_params_)\n",
    "\n",
    "y_test_pred_grid = xgb_grid.predict(x_test)\n",
    "\n",
    "print(\"XGBoost Grid Search R2: \" + str(r2_score(y_test_pred_grid, y_test)))"
   ]
  },
  {
   "cell_type": "markdown",
   "id": "2a47153c",
   "metadata": {},
   "source": [
    "The Grid Search Cross Validation resulted in a worse performance than the default hyperparamters. By validating on more hyperparamters values the performance could propably be better. As this is very intensive computing that takes long periods to calculate, we did not perform any more Grid Search. "
   ]
  },
  {
   "cell_type": "markdown",
   "id": "40208a88",
   "metadata": {},
   "source": [
    "### 4.5.2 Further possible improvements\n"
   ]
  },
  {
   "cell_type": "markdown",
   "id": "3b36fcd3",
   "metadata": {},
   "source": [
    "- More features like windspeed, information about holidays, the spatial distribution of the bikes in the bikesharing area could be useful.\n",
    "\n",
    "\n",
    "- One possible improvement is to find the optimal set of features for each model by trying every combination of features. The approach used in **4.4** helped choosing features but most propaby did not resolve in the optimal set of features. \n",
    "\n",
    "\n",
    "- Furthermore more advanved Machine Learning like the Auto-Sklearn Regression could be used to determine the 'optimal' prediction model. "
   ]
  }
 ],
 "metadata": {
  "kernelspec": {
   "display_name": "Python 3 (ipykernel)",
   "language": "python",
   "name": "python3"
  },
  "language_info": {
   "codemirror_mode": {
    "name": "ipython",
    "version": 3
   },
   "file_extension": ".py",
   "mimetype": "text/x-python",
   "name": "python",
   "nbconvert_exporter": "python",
   "pygments_lexer": "ipython3",
   "version": "3.10.1"
  }
 },
 "nbformat": 4,
 "nbformat_minor": 5
}
