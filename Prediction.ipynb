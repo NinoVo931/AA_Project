{
 "cells": [
  {
   "cell_type": "markdown",
   "id": "a47fcd17",
   "metadata": {},
   "source": [
    "# 3 Predictive Analytics: \n",
    "Future demand is a key factor that will steer operational decision making of a shared rental network. As a data scientist it is your responsibility to facilitate this type of decision support. For the purpose of this assignment we will be interested in forecasting total system-level demand in the next hour. To do so, develop a prediction model that predicts bike rental demand as a function of suitable features available in or derived from the datasets (incl. the weather data).\n",
    "\n",
    "1. Feature Engineering: Develop a rich set of features that you expect to be correlated with your target. In this process you can draw on your domain knowledge and/or conduct additional research around the topic of demand prediction in vehicle rental networks. Justify your selection of features.\n",
    "\n",
    "2. Model Building: Select three regression algorithms that are suitable for the prediction task at hand. Explain and justify why you selected the three algorithms and describe their respective advantages and drawbacks.\n",
    "\n",
    "3. Model Evaluation: How well do the models perform? Evaluate and benchmark your models’ performance using suitable evaluation metrics. Which model would you select for deployment?\n",
    "\n",
    "4. Outlook: How could the selected model be improved further? Explain some of the improvement levers that you might focus on in a follow-up project."
   ]
  },
  {
   "cell_type": "markdown",
   "id": "dab9576a",
   "metadata": {},
   "source": [
    "Notes and tipps\n",
    "\n",
    "- Make generous use of visualization techniques to clearly illustrate your findings and present them in an appealing fashion.\n",
    "- Evaluate your methodology and clearly state why you have opted for a specific approach in your analysis.\n",
    "- Relate your findings to the real world and interpret them for non-technical audiences (e.g. What do the coefficients in your regression model mean?, What does the achieved error mean for your model?, etc.)\n",
    "- Make sure to clearly state the implications (i.e. the ”so what?”) of your findings for managers/decision makers."
   ]
  },
  {
   "cell_type": "markdown",
   "id": "8919664c",
   "metadata": {},
   "source": [
    "## 3.1 Import"
   ]
  },
  {
   "cell_type": "code",
   "execution_count": 2,
   "id": "357e84df",
   "metadata": {},
   "outputs": [],
   "source": [
    "import pandas as pd\n",
    "import numpy as np\n",
    "import matplotlib as mpl\n",
    "import matplotlib.pyplot as plt"
   ]
  },
  {
   "cell_type": "markdown",
   "id": "8fdb49cc",
   "metadata": {},
   "source": [
    "Import of data"
   ]
  },
  {
   "cell_type": "code",
   "execution_count": 3,
   "id": "f244ea45",
   "metadata": {},
   "outputs": [],
   "source": [
    "df_trips = pd.read_csv('boston_2017_cleaned_trips.csv')\n",
    "df_weather = pd.read_csv('weather_2017_cleaned.csv')"
   ]
  },
  {
   "cell_type": "markdown",
   "id": "019f6531",
   "metadata": {},
   "source": [
    "## 3.2 Feature Engineering\n",
    "\n",
    "In advance of building the models suitable variables are enginered that help the prediction. "
   ]
  },
  {
   "cell_type": "code",
   "execution_count": 4,
   "id": "993f5d73",
   "metadata": {
    "scrolled": true
   },
   "outputs": [
    {
     "name": "stdout",
     "output_type": "stream",
     "text": [
      "<class 'pandas.core.frame.DataFrame'>\n",
      "RangeIndex: 1310760 entries, 0 to 1310759\n",
      "Data columns (total 12 columns):\n",
      " #   Column              Non-Null Count    Dtype  \n",
      "---  ------              --------------    -----  \n",
      " 0   start_time          1310760 non-null  object \n",
      " 1   end_time            1310760 non-null  object \n",
      " 2   start_station_id    1310760 non-null  int64  \n",
      " 3   end_station_id      1310760 non-null  int64  \n",
      " 4   start_station_name  1310760 non-null  object \n",
      " 5   end_station_name    1310760 non-null  object \n",
      " 6   bike_id             1310760 non-null  int64  \n",
      " 7   user_type           1310760 non-null  object \n",
      " 8   start_hour          1310760 non-null  int64  \n",
      " 9   weekday             1310760 non-null  int64  \n",
      " 10  duration            1310760 non-null  float64\n",
      " 11  month               1310760 non-null  int64  \n",
      "dtypes: float64(1), int64(6), object(5)\n",
      "memory usage: 120.0+ MB\n"
     ]
    }
   ],
   "source": [
    "df_trips.info()"
   ]
  },
  {
   "cell_type": "markdown",
   "id": "24b22d44",
   "metadata": {},
   "source": [
    "Our pre-processed data already contains various information about the temporal patterns e.g. the start time furthermore the hour, weekday and month of the trips."
   ]
  },
  {
   "cell_type": "code",
   "execution_count": 5,
   "id": "81731d07",
   "metadata": {},
   "outputs": [
    {
     "name": "stdout",
     "output_type": "stream",
     "text": [
      "<class 'pandas.core.frame.DataFrame'>\n",
      "RangeIndex: 8760 entries, 0 to 8759\n",
      "Data columns (total 4 columns):\n",
      " #   Column     Non-Null Count  Dtype  \n",
      "---  ------     --------------  -----  \n",
      " 0   max_temp   8760 non-null   float64\n",
      " 1   min_temp   8760 non-null   float64\n",
      " 2   precip     8760 non-null   float64\n",
      " 3   date_time  8760 non-null   object \n",
      "dtypes: float64(3), object(1)\n",
      "memory usage: 273.9+ KB\n"
     ]
    }
   ],
   "source": [
    "df_weather.info()"
   ]
  },
  {
   "cell_type": "code",
   "execution_count": null,
   "id": "c44fa8f4",
   "metadata": {},
   "outputs": [],
   "source": []
  }
 ],
 "metadata": {
  "kernelspec": {
   "display_name": "Python 3 (ipykernel)",
   "language": "python",
   "name": "python3"
  },
  "language_info": {
   "codemirror_mode": {
    "name": "ipython",
    "version": 3
   },
   "file_extension": ".py",
   "mimetype": "text/x-python",
   "name": "python",
   "nbconvert_exporter": "python",
   "pygments_lexer": "ipython3",
   "version": "3.10.1"
  }
 },
 "nbformat": 4,
 "nbformat_minor": 5
}
