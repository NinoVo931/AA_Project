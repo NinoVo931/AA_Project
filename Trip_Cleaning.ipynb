{
 "cells": [
  {
   "cell_type": "markdown",
   "id": "a5c53046",
   "metadata": {},
   "source": [
    "# 1 Trip Cleaning"
   ]
  },
  {
   "cell_type": "markdown",
   "id": "ba61190e",
   "metadata": {},
   "source": [
    "Proudly presented by team mucki-schnucki"
   ]
  },
  {
   "cell_type": "markdown",
   "id": "5ff60e01",
   "metadata": {},
   "source": [
    "In the first step the imported data will be examined, cleaned and transformed. This leads to a clean data set with additional features upon which further analysis can be performed."
   ]
  },
  {
   "cell_type": "markdown",
   "id": "a709b0a6",
   "metadata": {},
   "source": [
    "## 1.1 Imports"
   ]
  },
  {
   "cell_type": "markdown",
   "id": "63128298",
   "metadata": {},
   "source": [
    "Import of packages"
   ]
  },
  {
   "cell_type": "code",
   "execution_count": 1,
   "id": "357e84df",
   "metadata": {},
   "outputs": [],
   "source": [
    "import pandas as pd\n",
    "import numpy as np\n",
    "import matplotlib as mpl\n",
    "import matplotlib.pyplot as plt"
   ]
  },
  {
   "cell_type": "markdown",
   "id": "56fd8654",
   "metadata": {},
   "source": [
    "Import of data"
   ]
  },
  {
   "cell_type": "code",
   "execution_count": 2,
   "id": "2b2c1a15",
   "metadata": {},
   "outputs": [],
   "source": [
    "df_Trips = pd.read_csv('boston_2017.csv')"
   ]
  },
  {
   "cell_type": "markdown",
   "id": "20227f7e",
   "metadata": {},
   "source": [
    "## 1.2 Getting a first overview of the data"
   ]
  },
  {
   "cell_type": "code",
   "execution_count": 3,
   "id": "71289f3c",
   "metadata": {
    "scrolled": true
   },
   "outputs": [
    {
     "name": "stdout",
     "output_type": "stream",
     "text": [
      "<class 'pandas.core.frame.DataFrame'>\n",
      "RangeIndex: 1313774 entries, 0 to 1313773\n",
      "Data columns (total 8 columns):\n",
      " #   Column              Non-Null Count    Dtype \n",
      "---  ------              --------------    ----- \n",
      " 0   start_time          1313774 non-null  object\n",
      " 1   end_time            1313774 non-null  object\n",
      " 2   start_station_id    1313774 non-null  int64 \n",
      " 3   end_station_id      1313774 non-null  int64 \n",
      " 4   start_station_name  1313774 non-null  object\n",
      " 5   end_station_name    1313774 non-null  object\n",
      " 6   bike_id             1313774 non-null  int64 \n",
      " 7   user_type           1313774 non-null  object\n",
      "dtypes: int64(3), object(5)\n",
      "memory usage: 80.2+ MB\n"
     ]
    }
   ],
   "source": [
    "df_Trips.info()"
   ]
  },
  {
   "cell_type": "code",
   "execution_count": 4,
   "id": "f6b0224d",
   "metadata": {},
   "outputs": [
    {
     "name": "stdout",
     "output_type": "stream",
     "text": [
      "Number of rows (=trips) in dataset: 1313774\n"
     ]
    }
   ],
   "source": [
    "print(\"Number of rows (=trips) in dataset: %d\" % (len(df_Trips)))"
   ]
  },
  {
   "cell_type": "code",
   "execution_count": 5,
   "id": "26982e3c",
   "metadata": {},
   "outputs": [
    {
     "data": {
      "text/plain": [
       "Index(['start_time', 'end_time', 'start_station_id', 'end_station_id',\n",
       "       'start_station_name', 'end_station_name', 'bike_id', 'user_type'],\n",
       "      dtype='object')"
      ]
     },
     "execution_count": 5,
     "metadata": {},
     "output_type": "execute_result"
    }
   ],
   "source": [
    "df_Trips.columns"
   ]
  },
  {
   "cell_type": "code",
   "execution_count": 6,
   "id": "e48df63a",
   "metadata": {
    "scrolled": true
   },
   "outputs": [
    {
     "data": {
      "text/html": [
       "<div>\n",
       "<style scoped>\n",
       "    .dataframe tbody tr th:only-of-type {\n",
       "        vertical-align: middle;\n",
       "    }\n",
       "\n",
       "    .dataframe tbody tr th {\n",
       "        vertical-align: top;\n",
       "    }\n",
       "\n",
       "    .dataframe thead th {\n",
       "        text-align: right;\n",
       "    }\n",
       "</style>\n",
       "<table border=\"1\" class=\"dataframe\">\n",
       "  <thead>\n",
       "    <tr style=\"text-align: right;\">\n",
       "      <th></th>\n",
       "      <th>start_time</th>\n",
       "      <th>end_time</th>\n",
       "      <th>start_station_id</th>\n",
       "      <th>end_station_id</th>\n",
       "      <th>start_station_name</th>\n",
       "      <th>end_station_name</th>\n",
       "      <th>bike_id</th>\n",
       "      <th>user_type</th>\n",
       "    </tr>\n",
       "  </thead>\n",
       "  <tbody>\n",
       "    <tr>\n",
       "      <th>0</th>\n",
       "      <td>2017-01-01 00:06:58</td>\n",
       "      <td>2017-01-01 00:12:49</td>\n",
       "      <td>67</td>\n",
       "      <td>139</td>\n",
       "      <td>MIT at Mass Ave / Amherst St</td>\n",
       "      <td>Dana Park</td>\n",
       "      <td>644</td>\n",
       "      <td>Subscriber</td>\n",
       "    </tr>\n",
       "    <tr>\n",
       "      <th>1</th>\n",
       "      <td>2017-01-01 00:13:16</td>\n",
       "      <td>2017-01-01 00:28:07</td>\n",
       "      <td>36</td>\n",
       "      <td>10</td>\n",
       "      <td>Boston Public Library - 700 Boylston St.</td>\n",
       "      <td>B.U. Central - 725 Comm. Ave.</td>\n",
       "      <td>230</td>\n",
       "      <td>Subscriber</td>\n",
       "    </tr>\n",
       "    <tr>\n",
       "      <th>2</th>\n",
       "      <td>2017-01-01 00:16:17</td>\n",
       "      <td>2017-01-01 00:44:10</td>\n",
       "      <td>36</td>\n",
       "      <td>9</td>\n",
       "      <td>Boston Public Library - 700 Boylston St.</td>\n",
       "      <td>Agganis Arena - 925 Comm Ave.</td>\n",
       "      <td>980</td>\n",
       "      <td>Customer</td>\n",
       "    </tr>\n",
       "    <tr>\n",
       "      <th>3</th>\n",
       "      <td>2017-01-01 00:21:22</td>\n",
       "      <td>2017-01-01 00:33:50</td>\n",
       "      <td>46</td>\n",
       "      <td>19</td>\n",
       "      <td>Christian Science Plaza</td>\n",
       "      <td>Buswell St. at Park Dr.</td>\n",
       "      <td>1834</td>\n",
       "      <td>Subscriber</td>\n",
       "    </tr>\n",
       "    <tr>\n",
       "      <th>4</th>\n",
       "      <td>2017-01-01 00:30:06</td>\n",
       "      <td>2017-01-01 00:40:28</td>\n",
       "      <td>10</td>\n",
       "      <td>8</td>\n",
       "      <td>B.U. Central - 725 Comm. Ave.</td>\n",
       "      <td>Union Square - Brighton Ave. at Cambridge St.</td>\n",
       "      <td>230</td>\n",
       "      <td>Subscriber</td>\n",
       "    </tr>\n",
       "  </tbody>\n",
       "</table>\n",
       "</div>"
      ],
      "text/plain": [
       "            start_time             end_time  start_station_id  end_station_id  \\\n",
       "0  2017-01-01 00:06:58  2017-01-01 00:12:49                67             139   \n",
       "1  2017-01-01 00:13:16  2017-01-01 00:28:07                36              10   \n",
       "2  2017-01-01 00:16:17  2017-01-01 00:44:10                36               9   \n",
       "3  2017-01-01 00:21:22  2017-01-01 00:33:50                46              19   \n",
       "4  2017-01-01 00:30:06  2017-01-01 00:40:28                10               8   \n",
       "\n",
       "                         start_station_name  \\\n",
       "0              MIT at Mass Ave / Amherst St   \n",
       "1  Boston Public Library - 700 Boylston St.   \n",
       "2  Boston Public Library - 700 Boylston St.   \n",
       "3                   Christian Science Plaza   \n",
       "4             B.U. Central - 725 Comm. Ave.   \n",
       "\n",
       "                                end_station_name  bike_id   user_type  \n",
       "0                                      Dana Park      644  Subscriber  \n",
       "1                  B.U. Central - 725 Comm. Ave.      230  Subscriber  \n",
       "2                  Agganis Arena - 925 Comm Ave.      980    Customer  \n",
       "3                        Buswell St. at Park Dr.     1834  Subscriber  \n",
       "4  Union Square - Brighton Ave. at Cambridge St.      230  Subscriber  "
      ]
     },
     "execution_count": 6,
     "metadata": {},
     "output_type": "execute_result"
    }
   ],
   "source": [
    "df_Trips.head(5)"
   ]
  },
  {
   "cell_type": "code",
   "execution_count": 7,
   "id": "4642af8f",
   "metadata": {},
   "outputs": [
    {
     "data": {
      "text/html": [
       "<div>\n",
       "<style scoped>\n",
       "    .dataframe tbody tr th:only-of-type {\n",
       "        vertical-align: middle;\n",
       "    }\n",
       "\n",
       "    .dataframe tbody tr th {\n",
       "        vertical-align: top;\n",
       "    }\n",
       "\n",
       "    .dataframe thead th {\n",
       "        text-align: right;\n",
       "    }\n",
       "</style>\n",
       "<table border=\"1\" class=\"dataframe\">\n",
       "  <thead>\n",
       "    <tr style=\"text-align: right;\">\n",
       "      <th></th>\n",
       "      <th>start_time</th>\n",
       "      <th>end_time</th>\n",
       "      <th>start_station_id</th>\n",
       "      <th>end_station_id</th>\n",
       "      <th>start_station_name</th>\n",
       "      <th>end_station_name</th>\n",
       "      <th>bike_id</th>\n",
       "      <th>user_type</th>\n",
       "    </tr>\n",
       "  </thead>\n",
       "  <tbody>\n",
       "    <tr>\n",
       "      <th>1313769</th>\n",
       "      <td>2017-12-31 23:46:18</td>\n",
       "      <td>2017-12-31 23:50:27</td>\n",
       "      <td>117</td>\n",
       "      <td>141</td>\n",
       "      <td>Binney St / Sixth St</td>\n",
       "      <td>Kendall Street</td>\n",
       "      <td>1846</td>\n",
       "      <td>Subscriber</td>\n",
       "    </tr>\n",
       "    <tr>\n",
       "      <th>1313770</th>\n",
       "      <td>2017-12-29 16:11:56</td>\n",
       "      <td>2017-12-29 16:16:18</td>\n",
       "      <td>54</td>\n",
       "      <td>42</td>\n",
       "      <td>Tremont St at West St</td>\n",
       "      <td>Boylston St at Arlington St TEMPORARY WINTER L...</td>\n",
       "      <td>2</td>\n",
       "      <td>Subscriber</td>\n",
       "    </tr>\n",
       "    <tr>\n",
       "      <th>1313771</th>\n",
       "      <td>2017-12-30 08:09:44</td>\n",
       "      <td>2017-12-30 08:26:08</td>\n",
       "      <td>54</td>\n",
       "      <td>58</td>\n",
       "      <td>Tremont St at West St</td>\n",
       "      <td>Beacon St at Arlington St</td>\n",
       "      <td>1534</td>\n",
       "      <td>Subscriber</td>\n",
       "    </tr>\n",
       "    <tr>\n",
       "      <th>1313772</th>\n",
       "      <td>2017-12-30 12:20:01</td>\n",
       "      <td>2017-12-30 12:49:12</td>\n",
       "      <td>54</td>\n",
       "      <td>46</td>\n",
       "      <td>Tremont St at West St</td>\n",
       "      <td>Christian Science Plaza - Massachusetts Ave at...</td>\n",
       "      <td>1978</td>\n",
       "      <td>Subscriber</td>\n",
       "    </tr>\n",
       "    <tr>\n",
       "      <th>1313773</th>\n",
       "      <td>2017-12-30 18:27:39</td>\n",
       "      <td>2017-12-30 18:53:54</td>\n",
       "      <td>54</td>\n",
       "      <td>21</td>\n",
       "      <td>Tremont St at West St</td>\n",
       "      <td>Prudential Center - Belvedere St</td>\n",
       "      <td>15</td>\n",
       "      <td>Subscriber</td>\n",
       "    </tr>\n",
       "  </tbody>\n",
       "</table>\n",
       "</div>"
      ],
      "text/plain": [
       "                  start_time             end_time  start_station_id  \\\n",
       "1313769  2017-12-31 23:46:18  2017-12-31 23:50:27               117   \n",
       "1313770  2017-12-29 16:11:56  2017-12-29 16:16:18                54   \n",
       "1313771  2017-12-30 08:09:44  2017-12-30 08:26:08                54   \n",
       "1313772  2017-12-30 12:20:01  2017-12-30 12:49:12                54   \n",
       "1313773  2017-12-30 18:27:39  2017-12-30 18:53:54                54   \n",
       "\n",
       "         end_station_id     start_station_name  \\\n",
       "1313769             141   Binney St / Sixth St   \n",
       "1313770              42  Tremont St at West St   \n",
       "1313771              58  Tremont St at West St   \n",
       "1313772              46  Tremont St at West St   \n",
       "1313773              21  Tremont St at West St   \n",
       "\n",
       "                                          end_station_name  bike_id  \\\n",
       "1313769                                     Kendall Street     1846   \n",
       "1313770  Boylston St at Arlington St TEMPORARY WINTER L...        2   \n",
       "1313771                          Beacon St at Arlington St     1534   \n",
       "1313772  Christian Science Plaza - Massachusetts Ave at...     1978   \n",
       "1313773                   Prudential Center - Belvedere St       15   \n",
       "\n",
       "          user_type  \n",
       "1313769  Subscriber  \n",
       "1313770  Subscriber  \n",
       "1313771  Subscriber  \n",
       "1313772  Subscriber  \n",
       "1313773  Subscriber  "
      ]
     },
     "execution_count": 7,
     "metadata": {},
     "output_type": "execute_result"
    }
   ],
   "source": [
    "df_Trips.tail(5)"
   ]
  },
  {
   "cell_type": "markdown",
   "id": "2cb2dea9",
   "metadata": {},
   "source": [
    "Now the ranges of the variables start_time, end_time, station_id, bike_id and user_type are examined. \n",
    "This is the first opportunity to detect erroneous data."
   ]
  },
  {
   "cell_type": "code",
   "execution_count": 8,
   "id": "8629ce03",
   "metadata": {},
   "outputs": [
    {
     "name": "stdout",
     "output_type": "stream",
     "text": [
      "Start times range from 2017-01-01 00:06:58 to 2017-12-31 23:46:18\n",
      "End times range from 2017-01-01 00:12:49 to 2018-01-07 20:00:16 \n",
      "\n",
      "Station IDs range from 1 to 232. 200 different stations in total\n",
      "Bike IDs range from 1 to 1981. 1799 different bikes in total were 2017 in use \n",
      "Possible user types are ['Customer' 'Subscriber']\n"
     ]
    }
   ],
   "source": [
    "print(\"Start times range from %s to %s\" % (df_Trips['start_time'].min(), df_Trips['start_time'].max()))\n",
    "print(\"End times range from %s to %s \\n\" % (df_Trips['end_time'].min(), df_Trips['end_time'].max()))\n",
    "\n",
    "station_ids_total = df_Trips[[\"start_station_id\", \"end_station_id\"]].values\n",
    "station_ids_unique = np.unique(station_ids_total)\n",
    "print(\"Station IDs range from %d to %d. %d different stations in total\" % (station_ids_unique.min(), station_ids_unique.max(), len(station_ids_unique)))\n",
    "\n",
    "bike_ids_unique = np.unique(df_Trips[[\"bike_id\"]].values)\n",
    "print(\"Bike IDs range from %d to %d. %d different bikes in total were 2017 in use \" % (bike_ids_unique.min(), bike_ids_unique.max(),len(bike_ids_unique)))\n",
    "\n",
    "print(\"Possible user types are %s\" % (np.unique(df_Trips[\"user_type\"].values)))"
   ]
  },
  {
   "cell_type": "markdown",
   "id": "1199d6b1",
   "metadata": {},
   "source": [
    "## 1.3 Identifying missing or wrong values and duplicates"
   ]
  },
  {
   "cell_type": "code",
   "execution_count": 9,
   "id": "fe55527a",
   "metadata": {
    "scrolled": true
   },
   "outputs": [
    {
     "name": "stdout",
     "output_type": "stream",
     "text": [
      "False\n",
      "False\n"
     ]
    }
   ],
   "source": [
    "# Checking for null & nan values through two different ways\n",
    "print(df_Trips.isnull().values.any())\n",
    "print(True if len(df_Trips)-len(df_Trips.dropna(axis=0)) else False)"
   ]
  },
  {
   "cell_type": "code",
   "execution_count": 10,
   "id": "fc115870",
   "metadata": {},
   "outputs": [
    {
     "data": {
      "text/plain": [
       "0"
      ]
     },
     "execution_count": 10,
     "metadata": {},
     "output_type": "execute_result"
    }
   ],
   "source": [
    "# Checking for duplicated rows: .sum() counts the TRUE values \n",
    "df_Trips.duplicated().sum()"
   ]
  },
  {
   "cell_type": "code",
   "execution_count": 11,
   "id": "8427f599",
   "metadata": {},
   "outputs": [
    {
     "data": {
      "text/plain": [
       "0"
      ]
     },
     "execution_count": 11,
     "metadata": {},
     "output_type": "execute_result"
    }
   ],
   "source": [
    "# Checking for duplicate combinations of start_time and bike_id, what would indicate an multiple uses of a single bike at a time\n",
    "len(df_Trips[df_Trips.duplicated(subset = [\"bike_id\", \"start_time\"], keep = False)])"
   ]
  },
  {
   "cell_type": "markdown",
   "id": "994c2b42",
   "metadata": {},
   "source": [
    "As there are no missing, duplicated, or erroneous values in the DataFrame, it can be suspected that the quality of the data is already very good and we can continue with the feature engineering. "
   ]
  },
  {
   "cell_type": "markdown",
   "id": "82253e43",
   "metadata": {},
   "source": [
    "## 1.4 Feature Engineering "
   ]
  },
  {
   "cell_type": "markdown",
   "id": "2f666c27",
   "metadata": {},
   "source": [
    "Now additional features will be calculated out of the existing data. \n",
    "This will contain: \n",
    "- temporal data: Duration of the trip inseconds, as well as month, weekday, and hour of the starting time"
   ]
  },
  {
   "cell_type": "code",
   "execution_count": 12,
   "id": "0cd23816",
   "metadata": {},
   "outputs": [],
   "source": [
    "# For this purpose, we convert the columns start_time and end_time to datetime thorugh pandas built-in datetime functionalities\n",
    "df_Trips[['start_time','end_time']] = df_Trips[['start_time','end_time']].apply(pd.to_datetime)"
   ]
  },
  {
   "cell_type": "code",
   "execution_count": 19,
   "id": "da94d4aa",
   "metadata": {},
   "outputs": [],
   "source": [
    "# Now the three additional, temporal features are calculated and added to the dataframe\n",
    "# Start hour that describes the absolute hour number within the respective day (values 0-23)\n",
    "df_Trips['start_hour'] = pd.DatetimeIndex(df_Trips['start_time']).hour\n",
    "\n",
    "# Weekday that describes the day within a single week (values 0-6, starting with monday)\n",
    "df_Trips['weekday'] = pd.DatetimeIndex(df_Trips['start_time']).weekday\n",
    "\n",
    "# The number of the month within the considered year (values 1-12)\n",
    "df_Trips['month'] = pd.DatetimeIndex(df_Trips['start_time']).month\n",
    "\n",
    "# The duration of the trip, which is calculated thorugh the delta of strart & end time (values in seconds)\n",
    "df_Trips['duration'] = (df_Trips['end_time'] - df_Trips['start_time']).dt.total_seconds()"
   ]
  },
  {
   "cell_type": "code",
   "execution_count": 18,
   "id": "72823529",
   "metadata": {},
   "outputs": [
    {
     "data": {
      "text/html": [
       "<div>\n",
       "<style scoped>\n",
       "    .dataframe tbody tr th:only-of-type {\n",
       "        vertical-align: middle;\n",
       "    }\n",
       "\n",
       "    .dataframe tbody tr th {\n",
       "        vertical-align: top;\n",
       "    }\n",
       "\n",
       "    .dataframe thead th {\n",
       "        text-align: right;\n",
       "    }\n",
       "</style>\n",
       "<table border=\"1\" class=\"dataframe\">\n",
       "  <thead>\n",
       "    <tr style=\"text-align: right;\">\n",
       "      <th></th>\n",
       "      <th>start_time</th>\n",
       "      <th>end_time</th>\n",
       "      <th>start_station_id</th>\n",
       "      <th>end_station_id</th>\n",
       "      <th>start_station_name</th>\n",
       "      <th>end_station_name</th>\n",
       "      <th>bike_id</th>\n",
       "      <th>user_type</th>\n",
       "      <th>start_hour</th>\n",
       "      <th>weekday</th>\n",
       "      <th>month</th>\n",
       "      <th>duration</th>\n",
       "    </tr>\n",
       "  </thead>\n",
       "  <tbody>\n",
       "    <tr>\n",
       "      <th>0</th>\n",
       "      <td>2017-01-01 00:06:58</td>\n",
       "      <td>2017-01-01 00:12:49</td>\n",
       "      <td>67</td>\n",
       "      <td>139</td>\n",
       "      <td>MIT at Mass Ave / Amherst St</td>\n",
       "      <td>Dana Park</td>\n",
       "      <td>644</td>\n",
       "      <td>Subscriber</td>\n",
       "      <td>0</td>\n",
       "      <td>6</td>\n",
       "      <td>1</td>\n",
       "      <td>351.0</td>\n",
       "    </tr>\n",
       "    <tr>\n",
       "      <th>1</th>\n",
       "      <td>2017-01-01 00:13:16</td>\n",
       "      <td>2017-01-01 00:28:07</td>\n",
       "      <td>36</td>\n",
       "      <td>10</td>\n",
       "      <td>Boston Public Library - 700 Boylston St.</td>\n",
       "      <td>B.U. Central - 725 Comm. Ave.</td>\n",
       "      <td>230</td>\n",
       "      <td>Subscriber</td>\n",
       "      <td>0</td>\n",
       "      <td>6</td>\n",
       "      <td>1</td>\n",
       "      <td>891.0</td>\n",
       "    </tr>\n",
       "    <tr>\n",
       "      <th>2</th>\n",
       "      <td>2017-01-01 00:16:17</td>\n",
       "      <td>2017-01-01 00:44:10</td>\n",
       "      <td>36</td>\n",
       "      <td>9</td>\n",
       "      <td>Boston Public Library - 700 Boylston St.</td>\n",
       "      <td>Agganis Arena - 925 Comm Ave.</td>\n",
       "      <td>980</td>\n",
       "      <td>Customer</td>\n",
       "      <td>0</td>\n",
       "      <td>6</td>\n",
       "      <td>1</td>\n",
       "      <td>1673.0</td>\n",
       "    </tr>\n",
       "    <tr>\n",
       "      <th>3</th>\n",
       "      <td>2017-01-01 00:21:22</td>\n",
       "      <td>2017-01-01 00:33:50</td>\n",
       "      <td>46</td>\n",
       "      <td>19</td>\n",
       "      <td>Christian Science Plaza</td>\n",
       "      <td>Buswell St. at Park Dr.</td>\n",
       "      <td>1834</td>\n",
       "      <td>Subscriber</td>\n",
       "      <td>0</td>\n",
       "      <td>6</td>\n",
       "      <td>1</td>\n",
       "      <td>748.0</td>\n",
       "    </tr>\n",
       "    <tr>\n",
       "      <th>4</th>\n",
       "      <td>2017-01-01 00:30:06</td>\n",
       "      <td>2017-01-01 00:40:28</td>\n",
       "      <td>10</td>\n",
       "      <td>8</td>\n",
       "      <td>B.U. Central - 725 Comm. Ave.</td>\n",
       "      <td>Union Square - Brighton Ave. at Cambridge St.</td>\n",
       "      <td>230</td>\n",
       "      <td>Subscriber</td>\n",
       "      <td>0</td>\n",
       "      <td>6</td>\n",
       "      <td>1</td>\n",
       "      <td>622.0</td>\n",
       "    </tr>\n",
       "  </tbody>\n",
       "</table>\n",
       "</div>"
      ],
      "text/plain": [
       "           start_time            end_time  start_station_id  end_station_id  \\\n",
       "0 2017-01-01 00:06:58 2017-01-01 00:12:49                67             139   \n",
       "1 2017-01-01 00:13:16 2017-01-01 00:28:07                36              10   \n",
       "2 2017-01-01 00:16:17 2017-01-01 00:44:10                36               9   \n",
       "3 2017-01-01 00:21:22 2017-01-01 00:33:50                46              19   \n",
       "4 2017-01-01 00:30:06 2017-01-01 00:40:28                10               8   \n",
       "\n",
       "                         start_station_name  \\\n",
       "0              MIT at Mass Ave / Amherst St   \n",
       "1  Boston Public Library - 700 Boylston St.   \n",
       "2  Boston Public Library - 700 Boylston St.   \n",
       "3                   Christian Science Plaza   \n",
       "4             B.U. Central - 725 Comm. Ave.   \n",
       "\n",
       "                                end_station_name  bike_id   user_type  \\\n",
       "0                                      Dana Park      644  Subscriber   \n",
       "1                  B.U. Central - 725 Comm. Ave.      230  Subscriber   \n",
       "2                  Agganis Arena - 925 Comm Ave.      980    Customer   \n",
       "3                        Buswell St. at Park Dr.     1834  Subscriber   \n",
       "4  Union Square - Brighton Ave. at Cambridge St.      230  Subscriber   \n",
       "\n",
       "   start_hour  weekday  month  duration  \n",
       "0           0        6      1     351.0  \n",
       "1           0        6      1     891.0  \n",
       "2           0        6      1    1673.0  \n",
       "3           0        6      1     748.0  \n",
       "4           0        6      1     622.0  "
      ]
     },
     "execution_count": 18,
     "metadata": {},
     "output_type": "execute_result"
    }
   ],
   "source": [
    "df_Trips.head()"
   ]
  },
  {
   "cell_type": "markdown",
   "id": "c7e56ce7",
   "metadata": {},
   "source": [
    "Now we take a first look on the duration feature, to check if there are any stricking or implausible values included"
   ]
  },
  {
   "cell_type": "code",
   "execution_count": 14,
   "id": "51c1b998",
   "metadata": {},
   "outputs": [
    {
     "data": {
      "text/plain": [
       "4178421.0000000005"
      ]
     },
     "execution_count": 14,
     "metadata": {},
     "output_type": "execute_result"
    }
   ],
   "source": [
    "df_Trips['duration'].max()"
   ]
  },
  {
   "cell_type": "code",
   "execution_count": 15,
   "id": "639fdbc1",
   "metadata": {},
   "outputs": [
    {
     "data": {
      "text/plain": [
       "-3233.0"
      ]
     },
     "execution_count": 15,
     "metadata": {},
     "output_type": "execute_result"
    }
   ],
   "source": [
    "df_Trips['duration'].min()"
   ]
  },
  {
   "cell_type": "markdown",
   "id": "d9a07924",
   "metadata": {},
   "source": [
    "As we can see, there are implausible negative duration values, as well as very high values present in the data set. Therefore we proceed in our data cleaning with the filtering and exclusion of erroneous and implausible values for the enginnered features."
   ]
  },
  {
   "cell_type": "markdown",
   "id": "1e506677",
   "metadata": {},
   "source": [
    "## 1.5 Data Filtering for Exclusion of Records"
   ]
  },
  {
   "cell_type": "markdown",
   "id": "dfa57102",
   "metadata": {},
   "source": [
    "Now wrong values of the duration are excluded of the data frame. \n",
    "\n",
    "For this purpose we firstly create descriptive statistics and visualize the distribution of trip durations across our dataset by a histogram, to get a feeling for the duration of all trips."
   ]
  },
  {
   "cell_type": "code",
   "execution_count": 20,
   "id": "a7aaef9e",
   "metadata": {},
   "outputs": [
    {
     "data": {
      "text/plain": [
       "count    1.313774e+06\n",
       "mean     1.137437e+03\n",
       "std      1.338434e+04\n",
       "min     -3.233000e+03\n",
       "25%      3.940000e+02\n",
       "50%      6.560000e+02\n",
       "75%      1.075000e+03\n",
       "max      4.178421e+06\n",
       "Name: duration, dtype: float64"
      ]
     },
     "execution_count": 20,
     "metadata": {},
     "output_type": "execute_result"
    }
   ],
   "source": [
    "df_Trips['duration'].describe()"
   ]
  },
  {
   "cell_type": "code",
   "execution_count": 21,
   "id": "06d0602f",
   "metadata": {},
   "outputs": [
    {
     "data": {
      "image/png": "[encoded data removed]",
      "text/plain": [
       "<Figure size 432x288 with 1 Axes>"
      ]
     },
     "metadata": {
      "needs_background": "light"
     },
     "output_type": "display_data"
    }
   ],
   "source": [
    "distr_duration = df_Trips['duration']\n",
    "value_counts = distr_duration.value_counts()\n",
    "\n",
    "plt.hist(value_counts / 60, bins = 20)\n",
    "\n",
    "plt.title('Distribution of Trip Durations (in Minutes)')\n",
    "plt.xlabel('Trip Duration in Minutes')\n",
    "plt.ylabel('Total Number of Trips')\n",
    "plt.show()"
   ]
  },
  {
   "cell_type": "markdown",
   "id": "90e5cd9f",
   "metadata": {},
   "source": [
    "This reveals that 75% of all trips take less than 18 minutes. The histogram presents a very high density of durations in the range of single minutes. In contrast to that, there are very few trips which lasted multiple days, up to a maximum of 48 days. Rentals of multiple days are usually not the purpose of bike sharing, so that we tend to exclude very long durations from our dataset.\n",
    "\n",
    "At the same time, the descriptive statistics shows that there are also trips that have a negative duration, which means that the end_time was before the start_time so that the record can be regarded as inplausible and have to be excluded.\n",
    "\n",
    "As we want to focus in the following on the casual usage of the bike sharing and offer precise predictions and calculations, we also filter out and exclude trips that lasted multiple hours because they can be regarded as outliers. An aproriate threshold for the filtering is determined in the next code section."
   ]
  },
  {
   "cell_type": "code",
   "execution_count": 17,
   "id": "6591c918",
   "metadata": {},
   "outputs": [
    {
     "data": {
      "text/plain": [
       "count    2.874500e+04\n",
       "mean     1.698514e+04\n",
       "std      8.898371e+04\n",
       "min      3.601000e+03\n",
       "25%      4.471000e+03\n",
       "50%      5.900000e+03\n",
       "75%      9.280000e+03\n",
       "max      4.178421e+06\n",
       "Name: duration, dtype: float64"
      ]
     },
     "execution_count": 17,
     "metadata": {},
     "output_type": "execute_result"
    }
   ],
   "source": [
    "# Describe the set of trips above one hour\n",
    "df_Trips[df_Trips['duration'] > 3600]['duration'].describe()"
   ]
  },
  {
   "cell_type": "code",
   "execution_count": 28,
   "id": "192d6600",
   "metadata": {},
   "outputs": [
    {
     "name": "stdout",
     "output_type": "stream",
     "text": [
      "3008 trips are above 5 hours. This makes up 0.228959 percent of the size of the raw dataset\n"
     ]
    }
   ],
   "source": [
    "# Because the mean of long trips is rounded 5 hours, we now check the number and percentage of records above the threshold of 5\n",
    "no_high = len(df_Trips[df_Trips['duration'] > 18000])\n",
    "print(\"%d trips are above 5 hours. This makes up %f percent of the size of the raw dataset\" % (no_high, no_high / len(df_Trips) * 100))"
   ]
  },
  {
   "cell_type": "markdown",
   "id": "f3e9e321",
   "metadata": {},
   "source": [
    "Because the mean of trips above one hour is 4:43 hours, we just round up the mean to 5 hours and take this as threshold for the exclusion of outliers. This filter would exclude 0.22% of all records. "
   ]
  },
  {
   "cell_type": "markdown",
   "id": "be33b268",
   "metadata": {},
   "source": [
    "Now we actually want to filter out the unwanted and implausible values.\n",
    "First we look for trips, who take shorter than 1 minute but still have a positive duration."
   ]
  },
  {
   "cell_type": "code",
   "execution_count": 29,
   "id": "9aca0275",
   "metadata": {},
   "outputs": [
    {
     "data": {
      "text/plain": [
       "0"
      ]
     },
     "execution_count": 29,
     "metadata": {},
     "output_type": "execute_result"
    }
   ],
   "source": [
    "df_dur_short = df_Trips[(df_Trips['duration'] < 60) & (df_Trips['duration'] > 0)] \n",
    "len(df_dur_short)"
   ]
  },
  {
   "cell_type": "markdown",
   "id": "4651d397",
   "metadata": {},
   "source": [
    "There are no trips with a duration less than one minute. So we continue with filtering out negative duration values and applying our exclusion threshold of 5 hours to the dataset, to finally create our cleaned DataFrame df_Trips_Modified. "
   ]
  },
  {
   "cell_type": "code",
   "execution_count": 7,
   "id": "02c09d18",
   "metadata": {},
   "outputs": [],
   "source": [
    "df_Trips_Modified = df_Trips[(df_Trips['duration'] > 0) & (df_Trips['duration'] < 18000)]"
   ]
  },
  {
   "cell_type": "code",
   "execution_count": 8,
   "id": "3c018848",
   "metadata": {},
   "outputs": [
    {
     "name": "stdout",
     "output_type": "stream",
     "text": [
      "<class 'pandas.core.frame.DataFrame'>\n",
      "Int64Index: 1310760 entries, 0 to 1313773\n",
      "Data columns (total 12 columns):\n",
      " #   Column              Non-Null Count    Dtype         \n",
      "---  ------              --------------    -----         \n",
      " 0   start_time          1310760 non-null  datetime64[ns]\n",
      " 1   end_time            1310760 non-null  datetime64[ns]\n",
      " 2   start_station_id    1310760 non-null  int64         \n",
      " 3   end_station_id      1310760 non-null  int64         \n",
      " 4   start_station_name  1310760 non-null  object        \n",
      " 5   end_station_name    1310760 non-null  object        \n",
      " 6   bike_id             1310760 non-null  int64         \n",
      " 7   user_type           1310760 non-null  object        \n",
      " 8   start_hour          1310760 non-null  int64         \n",
      " 9   weekday             1310760 non-null  int64         \n",
      " 10  duration            1310760 non-null  float64       \n",
      " 11  month               1310760 non-null  int64         \n",
      "dtypes: datetime64[ns](2), float64(1), int64(6), object(3)\n",
      "memory usage: 130.0+ MB\n"
     ]
    }
   ],
   "source": [
    "df_Trips_Modified.info()"
   ]
  },
  {
   "cell_type": "code",
   "execution_count": 9,
   "id": "2d35d09b",
   "metadata": {},
   "outputs": [
    {
     "name": "stdout",
     "output_type": "stream",
     "text": [
      "Number of exlcuded records: 3014\n"
     ]
    }
   ],
   "source": [
    "# Calculating the differnce of records between our raw and modified dataset\n",
    "print(\"Number of exlcuded records: %d\" % ((len(df_Trips) - len(df_Trips_Modified))))"
   ]
  },
  {
   "cell_type": "markdown",
   "id": "4dc3d7e7",
   "metadata": {},
   "source": [
    "The summary of the modified DataFrame present a good quality of the data, because we have all of our desired attributes and no null values. We had to exclude 3014 outliers and implausible records to finally create our cleaned dataset of 1310760 trips.\n",
    "\n",
    "So finally, we write our cleaned dataset back to a new .csv file which is used for the following investigations. We ignore the index of the original records, so that we receive a new continous index on import later on, that fills the emerged gaps of the records exclusion."
   ]
  },
  {
   "cell_type": "code",
   "execution_count": 10,
   "id": "940d2f32",
   "metadata": {},
   "outputs": [],
   "source": [
    "# Write cleaned output back to csv\n",
    "df_Trips_Modified.to_csv(\"boston_2017_cleaned_trips.csv\", index = False)"
   ]
  }
 ],
 "metadata": {
  "kernelspec": {
   "display_name": "Python 3",
   "language": "python",
   "name": "python3"
  },
  "language_info": {
   "codemirror_mode": {
    "name": "ipython",
    "version": 3
   },
   "file_extension": ".py",
   "mimetype": "text/x-python",
   "name": "python",
   "nbconvert_exporter": "python",
   "pygments_lexer": "ipython3",
   "version": "3.8.8"
  },
  "toc": {
   "base_numbering": 1,
   "nav_menu": {},
   "number_sections": true,
   "sideBar": true,
   "skip_h1_title": false,
   "title_cell": "Table of Contents",
   "title_sidebar": "Contents",
   "toc_cell": false,
   "toc_position": {},
   "toc_section_display": true,
   "toc_window_display": false
  }
 },
 "nbformat": 4,
 "nbformat_minor": 5
}
