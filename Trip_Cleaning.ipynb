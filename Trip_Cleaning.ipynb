{
 "cells": [
  {
   "cell_type": "markdown",
   "id": "a5c53046",
   "metadata": {},
   "source": [
    "# Trip Cleaning"
   ]
  },
  {
   "cell_type": "markdown",
   "id": "6716ade3",
   "metadata": {},
   "source": [
    "### Proudly presented by team mucki-schnucki"
   ]
  },
  {
   "cell_type": "markdown",
   "id": "63128298",
   "metadata": {},
   "source": [
    "Import of packages"
   ]
  },
  {
   "cell_type": "code",
   "execution_count": 2,
   "id": "357e84df",
   "metadata": {},
   "outputs": [],
   "source": [
    "import pandas as pd\n",
    "import numpy as np"
   ]
  },
  {
   "cell_type": "markdown",
   "id": "56fd8654",
   "metadata": {},
   "source": [
    "Import of data"
   ]
  },
  {
   "cell_type": "code",
   "execution_count": 3,
   "id": "2b2c1a15",
   "metadata": {},
   "outputs": [],
   "source": [
    "df_Trips = pd.read_csv('boston_2017.csv')"
   ]
  },
  {
   "cell_type": "markdown",
   "id": "20227f7e",
   "metadata": {},
   "source": [
    "###  1.1 Getting a first overview of the data"
   ]
  },
  {
   "cell_type": "code",
   "execution_count": 4,
   "id": "71289f3c",
   "metadata": {},
   "outputs": [
    {
     "name": "stdout",
     "output_type": "stream",
     "text": [
      "<class 'pandas.core.frame.DataFrame'>\n",
      "RangeIndex: 1313774 entries, 0 to 1313773\n",
      "Data columns (total 8 columns):\n",
      " #   Column              Non-Null Count    Dtype \n",
      "---  ------              --------------    ----- \n",
      " 0   start_time          1313774 non-null  object\n",
      " 1   end_time            1313774 non-null  object\n",
      " 2   start_station_id    1313774 non-null  int64 \n",
      " 3   end_station_id      1313774 non-null  int64 \n",
      " 4   start_station_name  1313774 non-null  object\n",
      " 5   end_station_name    1313774 non-null  object\n",
      " 6   bike_id             1313774 non-null  int64 \n",
      " 7   user_type           1313774 non-null  object\n",
      "dtypes: int64(3), object(5)\n",
      "memory usage: 80.2+ MB\n"
     ]
    }
   ],
   "source": [
    "df_Trips.info()"
   ]
  },
  {
   "cell_type": "code",
   "execution_count": 5,
   "id": "f6b0224d",
   "metadata": {},
   "outputs": [
    {
     "data": {
      "text/plain": [
       "1313774"
      ]
     },
     "execution_count": 5,
     "metadata": {},
     "output_type": "execute_result"
    }
   ],
   "source": [
    "len(df_Trips)"
   ]
  },
  {
   "cell_type": "code",
   "execution_count": 6,
   "id": "26982e3c",
   "metadata": {},
   "outputs": [
    {
     "data": {
      "text/plain": [
       "Index(['start_time', 'end_time', 'start_station_id', 'end_station_id',\n",
       "       'start_station_name', 'end_station_name', 'bike_id', 'user_type'],\n",
       "      dtype='object')"
      ]
     },
     "execution_count": 6,
     "metadata": {},
     "output_type": "execute_result"
    }
   ],
   "source": [
    "df_Trips.columns"
   ]
  },
  {
   "cell_type": "code",
   "execution_count": 7,
   "id": "e48df63a",
   "metadata": {
    "scrolled": true
   },
   "outputs": [
    {
     "data": {
      "text/html": [
       "<div>\n",
       "<style scoped>\n",
       "    .dataframe tbody tr th:only-of-type {\n",
       "        vertical-align: middle;\n",
       "    }\n",
       "\n",
       "    .dataframe tbody tr th {\n",
       "        vertical-align: top;\n",
       "    }\n",
       "\n",
       "    .dataframe thead th {\n",
       "        text-align: right;\n",
       "    }\n",
       "</style>\n",
       "<table border=\"1\" class=\"dataframe\">\n",
       "  <thead>\n",
       "    <tr style=\"text-align: right;\">\n",
       "      <th></th>\n",
       "      <th>start_time</th>\n",
       "      <th>end_time</th>\n",
       "      <th>start_station_id</th>\n",
       "      <th>end_station_id</th>\n",
       "      <th>start_station_name</th>\n",
       "      <th>end_station_name</th>\n",
       "      <th>bike_id</th>\n",
       "      <th>user_type</th>\n",
       "    </tr>\n",
       "  </thead>\n",
       "  <tbody>\n",
       "    <tr>\n",
       "      <th>0</th>\n",
       "      <td>2017-01-01 00:06:58</td>\n",
       "      <td>2017-01-01 00:12:49</td>\n",
       "      <td>67</td>\n",
       "      <td>139</td>\n",
       "      <td>MIT at Mass Ave / Amherst St</td>\n",
       "      <td>Dana Park</td>\n",
       "      <td>644</td>\n",
       "      <td>Subscriber</td>\n",
       "    </tr>\n",
       "    <tr>\n",
       "      <th>1</th>\n",
       "      <td>2017-01-01 00:13:16</td>\n",
       "      <td>2017-01-01 00:28:07</td>\n",
       "      <td>36</td>\n",
       "      <td>10</td>\n",
       "      <td>Boston Public Library - 700 Boylston St.</td>\n",
       "      <td>B.U. Central - 725 Comm. Ave.</td>\n",
       "      <td>230</td>\n",
       "      <td>Subscriber</td>\n",
       "    </tr>\n",
       "    <tr>\n",
       "      <th>2</th>\n",
       "      <td>2017-01-01 00:16:17</td>\n",
       "      <td>2017-01-01 00:44:10</td>\n",
       "      <td>36</td>\n",
       "      <td>9</td>\n",
       "      <td>Boston Public Library - 700 Boylston St.</td>\n",
       "      <td>Agganis Arena - 925 Comm Ave.</td>\n",
       "      <td>980</td>\n",
       "      <td>Customer</td>\n",
       "    </tr>\n",
       "    <tr>\n",
       "      <th>3</th>\n",
       "      <td>2017-01-01 00:21:22</td>\n",
       "      <td>2017-01-01 00:33:50</td>\n",
       "      <td>46</td>\n",
       "      <td>19</td>\n",
       "      <td>Christian Science Plaza</td>\n",
       "      <td>Buswell St. at Park Dr.</td>\n",
       "      <td>1834</td>\n",
       "      <td>Subscriber</td>\n",
       "    </tr>\n",
       "    <tr>\n",
       "      <th>4</th>\n",
       "      <td>2017-01-01 00:30:06</td>\n",
       "      <td>2017-01-01 00:40:28</td>\n",
       "      <td>10</td>\n",
       "      <td>8</td>\n",
       "      <td>B.U. Central - 725 Comm. Ave.</td>\n",
       "      <td>Union Square - Brighton Ave. at Cambridge St.</td>\n",
       "      <td>230</td>\n",
       "      <td>Subscriber</td>\n",
       "    </tr>\n",
       "  </tbody>\n",
       "</table>\n",
       "</div>"
      ],
      "text/plain": [
       "            start_time             end_time  start_station_id  end_station_id  \\\n",
       "0  2017-01-01 00:06:58  2017-01-01 00:12:49                67             139   \n",
       "1  2017-01-01 00:13:16  2017-01-01 00:28:07                36              10   \n",
       "2  2017-01-01 00:16:17  2017-01-01 00:44:10                36               9   \n",
       "3  2017-01-01 00:21:22  2017-01-01 00:33:50                46              19   \n",
       "4  2017-01-01 00:30:06  2017-01-01 00:40:28                10               8   \n",
       "\n",
       "                         start_station_name  \\\n",
       "0              MIT at Mass Ave / Amherst St   \n",
       "1  Boston Public Library - 700 Boylston St.   \n",
       "2  Boston Public Library - 700 Boylston St.   \n",
       "3                   Christian Science Plaza   \n",
       "4             B.U. Central - 725 Comm. Ave.   \n",
       "\n",
       "                                end_station_name  bike_id   user_type  \n",
       "0                                      Dana Park      644  Subscriber  \n",
       "1                  B.U. Central - 725 Comm. Ave.      230  Subscriber  \n",
       "2                  Agganis Arena - 925 Comm Ave.      980    Customer  \n",
       "3                        Buswell St. at Park Dr.     1834  Subscriber  \n",
       "4  Union Square - Brighton Ave. at Cambridge St.      230  Subscriber  "
      ]
     },
     "execution_count": 7,
     "metadata": {},
     "output_type": "execute_result"
    }
   ],
   "source": [
    "df_Trips.head(5)"
   ]
  },
  {
   "cell_type": "code",
   "execution_count": 8,
   "id": "4642af8f",
   "metadata": {},
   "outputs": [
    {
     "data": {
      "text/html": [
       "<div>\n",
       "<style scoped>\n",
       "    .dataframe tbody tr th:only-of-type {\n",
       "        vertical-align: middle;\n",
       "    }\n",
       "\n",
       "    .dataframe tbody tr th {\n",
       "        vertical-align: top;\n",
       "    }\n",
       "\n",
       "    .dataframe thead th {\n",
       "        text-align: right;\n",
       "    }\n",
       "</style>\n",
       "<table border=\"1\" class=\"dataframe\">\n",
       "  <thead>\n",
       "    <tr style=\"text-align: right;\">\n",
       "      <th></th>\n",
       "      <th>start_time</th>\n",
       "      <th>end_time</th>\n",
       "      <th>start_station_id</th>\n",
       "      <th>end_station_id</th>\n",
       "      <th>start_station_name</th>\n",
       "      <th>end_station_name</th>\n",
       "      <th>bike_id</th>\n",
       "      <th>user_type</th>\n",
       "    </tr>\n",
       "  </thead>\n",
       "  <tbody>\n",
       "    <tr>\n",
       "      <th>1313769</th>\n",
       "      <td>2017-12-31 23:46:18</td>\n",
       "      <td>2017-12-31 23:50:27</td>\n",
       "      <td>117</td>\n",
       "      <td>141</td>\n",
       "      <td>Binney St / Sixth St</td>\n",
       "      <td>Kendall Street</td>\n",
       "      <td>1846</td>\n",
       "      <td>Subscriber</td>\n",
       "    </tr>\n",
       "    <tr>\n",
       "      <th>1313770</th>\n",
       "      <td>2017-12-29 16:11:56</td>\n",
       "      <td>2017-12-29 16:16:18</td>\n",
       "      <td>54</td>\n",
       "      <td>42</td>\n",
       "      <td>Tremont St at West St</td>\n",
       "      <td>Boylston St at Arlington St TEMPORARY WINTER L...</td>\n",
       "      <td>2</td>\n",
       "      <td>Subscriber</td>\n",
       "    </tr>\n",
       "    <tr>\n",
       "      <th>1313771</th>\n",
       "      <td>2017-12-30 08:09:44</td>\n",
       "      <td>2017-12-30 08:26:08</td>\n",
       "      <td>54</td>\n",
       "      <td>58</td>\n",
       "      <td>Tremont St at West St</td>\n",
       "      <td>Beacon St at Arlington St</td>\n",
       "      <td>1534</td>\n",
       "      <td>Subscriber</td>\n",
       "    </tr>\n",
       "    <tr>\n",
       "      <th>1313772</th>\n",
       "      <td>2017-12-30 12:20:01</td>\n",
       "      <td>2017-12-30 12:49:12</td>\n",
       "      <td>54</td>\n",
       "      <td>46</td>\n",
       "      <td>Tremont St at West St</td>\n",
       "      <td>Christian Science Plaza - Massachusetts Ave at...</td>\n",
       "      <td>1978</td>\n",
       "      <td>Subscriber</td>\n",
       "    </tr>\n",
       "    <tr>\n",
       "      <th>1313773</th>\n",
       "      <td>2017-12-30 18:27:39</td>\n",
       "      <td>2017-12-30 18:53:54</td>\n",
       "      <td>54</td>\n",
       "      <td>21</td>\n",
       "      <td>Tremont St at West St</td>\n",
       "      <td>Prudential Center - Belvedere St</td>\n",
       "      <td>15</td>\n",
       "      <td>Subscriber</td>\n",
       "    </tr>\n",
       "  </tbody>\n",
       "</table>\n",
       "</div>"
      ],
      "text/plain": [
       "                  start_time             end_time  start_station_id  \\\n",
       "1313769  2017-12-31 23:46:18  2017-12-31 23:50:27               117   \n",
       "1313770  2017-12-29 16:11:56  2017-12-29 16:16:18                54   \n",
       "1313771  2017-12-30 08:09:44  2017-12-30 08:26:08                54   \n",
       "1313772  2017-12-30 12:20:01  2017-12-30 12:49:12                54   \n",
       "1313773  2017-12-30 18:27:39  2017-12-30 18:53:54                54   \n",
       "\n",
       "         end_station_id     start_station_name  \\\n",
       "1313769             141   Binney St / Sixth St   \n",
       "1313770              42  Tremont St at West St   \n",
       "1313771              58  Tremont St at West St   \n",
       "1313772              46  Tremont St at West St   \n",
       "1313773              21  Tremont St at West St   \n",
       "\n",
       "                                          end_station_name  bike_id  \\\n",
       "1313769                                     Kendall Street     1846   \n",
       "1313770  Boylston St at Arlington St TEMPORARY WINTER L...        2   \n",
       "1313771                          Beacon St at Arlington St     1534   \n",
       "1313772  Christian Science Plaza - Massachusetts Ave at...     1978   \n",
       "1313773                   Prudential Center - Belvedere St       15   \n",
       "\n",
       "          user_type  \n",
       "1313769  Subscriber  \n",
       "1313770  Subscriber  \n",
       "1313771  Subscriber  \n",
       "1313772  Subscriber  \n",
       "1313773  Subscriber  "
      ]
     },
     "execution_count": 8,
     "metadata": {},
     "output_type": "execute_result"
    }
   ],
   "source": [
    "df_Trips.tail(5)"
   ]
  },
  {
   "cell_type": "markdown",
   "id": "2cb2dea9",
   "metadata": {},
   "source": [
    "Now the range of the variables start_time, end_time, station_id, bike_id and user_type is examined. "
   ]
  },
  {
   "cell_type": "code",
   "execution_count": 9,
   "id": "8629ce03",
   "metadata": {},
   "outputs": [
    {
     "name": "stdout",
     "output_type": "stream",
     "text": [
      "Start times range from 2017-01-01 00:06:58 to 2017-12-31 23:46:18\n",
      "End times range from 2017-01-01 00:12:49 to 2018-01-07 20:00:16 \n",
      "\n",
      "Station IDs range from 1 to 232. 200 different stations in total\n",
      "Bike IDs range from 1 to 1981\n",
      "Possible user types types are ['Customer' 'Subscriber']\n"
     ]
    }
   ],
   "source": [
    "print(\"Start times range from %s to %s\" % (df_Trips['start_time'].min(), df_Trips['start_time'].max()))\n",
    "print(\"End times range from %s to %s \\n\" % (df_Trips['end_time'].min(), df_Trips['end_time'].max()))\n",
    "\n",
    "station_ids_total = df_Trips[[\"start_station_id\", \"end_station_id\"]].values\n",
    "station_ids_unique = np.unique(station_ids_total)\n",
    "print(\"Station IDs range from %d to %d. %d different stations in total\" % (station_ids_unique.min(), station_ids_unique.max(), len(station_ids_unique)))\n",
    "\n",
    "bike_ids_unique = np.unique(df_Trips[[\"bike_id\"]].values)\n",
    "print(\"Bike IDs range from %d to %d\" % (bike_ids_unique.min(), bike_ids_unique.max()))\n",
    "\n",
    "print(\"Possible user types types are %s\" % (np.unique(df_Trips[\"user_type\"].values)))"
   ]
  },
  {
   "cell_type": "markdown",
   "id": "1199d6b1",
   "metadata": {},
   "source": [
    "### 1.2 Identifying missing or wrong values and duplicates"
   ]
  },
  {
   "cell_type": "code",
   "execution_count": 10,
   "id": "fe55527a",
   "metadata": {
    "scrolled": true
   },
   "outputs": [
    {
     "data": {
      "text/plain": [
       "False"
      ]
     },
     "execution_count": 10,
     "metadata": {},
     "output_type": "execute_result"
    }
   ],
   "source": [
    "df_Trips.isnull().values.any()"
   ]
  },
  {
   "cell_type": "code",
   "execution_count": 11,
   "id": "fc115870",
   "metadata": {},
   "outputs": [
    {
     "data": {
      "text/plain": [
       "0"
      ]
     },
     "execution_count": 11,
     "metadata": {},
     "output_type": "execute_result"
    }
   ],
   "source": [
    "# .sum() counts the TRUE values \n",
    "df_Trips.duplicated().sum()"
   ]
  },
  {
   "cell_type": "markdown",
   "id": "994c2b42",
   "metadata": {},
   "source": [
    "As there are no missing or duplicates values in the dataframe, it can be suspected that the quality of the data is already very good and we can continue with the feature engineering. "
   ]
  },
  {
   "cell_type": "markdown",
   "id": "82253e43",
   "metadata": {},
   "source": [
    "### 1.3 Feature Engineering "
   ]
  },
  {
   "cell_type": "markdown",
   "id": "2f666c27",
   "metadata": {},
   "source": [
    "Now additional features will be calculated out of the existing data. \n",
    "This will contain: \n",
    "- temporal data eg. duration of the ride, weekday or hour"
   ]
  },
  {
   "cell_type": "code",
   "execution_count": 12,
   "id": "78562e4e",
   "metadata": {},
   "outputs": [],
   "source": [
    "df_Trips[['start_time','end_time']] = df_Trips[['start_time','end_time']].apply(pd.to_datetime)"
   ]
  },
  {
   "cell_type": "code",
   "execution_count": 13,
   "id": "da94d4aa",
   "metadata": {},
   "outputs": [],
   "source": [
    "df_Trips['start_hour'] = pd.DatetimeIndex(df_Trips['start_time']).hour\n",
    "df_Trips['weekday'] = pd.DatetimeIndex(df_Trips['start_time']).weekday\n",
    "df_Trips['duration'] = df_Trips['end_time'] - df_Trips['start_time']"
   ]
  },
  {
   "cell_type": "code",
   "execution_count": 14,
   "id": "51c1b998",
   "metadata": {},
   "outputs": [
    {
     "data": {
      "text/plain": [
       "Timedelta('48 days 08:40:21')"
      ]
     },
     "execution_count": 14,
     "metadata": {},
     "output_type": "execute_result"
    }
   ],
   "source": [
    "df_Trips['duration'].max()"
   ]
  },
  {
   "cell_type": "code",
   "execution_count": 15,
   "id": "639fdbc1",
   "metadata": {},
   "outputs": [
    {
     "data": {
      "text/plain": [
       "Timedelta('-1 days +23:06:07')"
      ]
     },
     "execution_count": 15,
     "metadata": {},
     "output_type": "execute_result"
    }
   ],
   "source": [
    "df_Trips['duration'].min()"
   ]
  },
  {
   "cell_type": "code",
   "execution_count": 16,
   "id": "4ae737ee",
   "metadata": {},
   "outputs": [
    {
     "data": {
      "text/plain": [
       "0"
      ]
     },
     "execution_count": 16,
     "metadata": {},
     "output_type": "execute_result"
    }
   ],
   "source": [
    "len(df_Trips[df_Trips.duplicated(subset = [\"bike_id\", \"start_time\"], keep = False)])"
   ]
  },
  {
   "cell_type": "markdown",
   "id": "ffd7e5e0",
   "metadata": {},
   "source": [
    "There are no duplicates of the combination bike_id and start_time"
   ]
  },
  {
   "cell_type": "markdown",
   "id": "dfa57102",
   "metadata": {},
   "source": [
    "Now wrong values of the duration are excluded of the data frame.\n",
    "\n",
    "First we look for trips, who take shorter than 1min. \n",
    "\n"
   ]
  },
  {
   "cell_type": "code",
   "execution_count": 30,
   "id": "9aca0275",
   "metadata": {},
   "outputs": [
    {
     "name": "stdout",
     "output_type": "stream",
     "text": [
      "<class 'pandas.core.frame.DataFrame'>\n",
      "Int64Index: 3253 entries, 419 to 1313616\n",
      "Data columns (total 11 columns):\n",
      " #   Column              Non-Null Count  Dtype          \n",
      "---  ------              --------------  -----          \n",
      " 0   start_time          3253 non-null   datetime64[ns] \n",
      " 1   end_time            3253 non-null   datetime64[ns] \n",
      " 2   start_station_id    3253 non-null   int64          \n",
      " 3   end_station_id      3253 non-null   int64          \n",
      " 4   start_station_name  3253 non-null   object         \n",
      " 5   end_station_name    3253 non-null   object         \n",
      " 6   bike_id             3253 non-null   int64          \n",
      " 7   user_type           3253 non-null   object         \n",
      " 8   start_hour          3253 non-null   int64          \n",
      " 9   weekday             3253 non-null   int64          \n",
      " 10  duration            3253 non-null   timedelta64[ns]\n",
      "dtypes: datetime64[ns](2), int64(5), object(3), timedelta64[ns](1)\n",
      "memory usage: 305.0+ KB\n"
     ]
    },
    {
     "data": {
      "text/html": [
       "<div>\n",
       "<style scoped>\n",
       "    .dataframe tbody tr th:only-of-type {\n",
       "        vertical-align: middle;\n",
       "    }\n",
       "\n",
       "    .dataframe tbody tr th {\n",
       "        vertical-align: top;\n",
       "    }\n",
       "\n",
       "    .dataframe thead th {\n",
       "        text-align: right;\n",
       "    }\n",
       "</style>\n",
       "<table border=\"1\" class=\"dataframe\">\n",
       "  <thead>\n",
       "    <tr style=\"text-align: right;\">\n",
       "      <th></th>\n",
       "      <th>start_time</th>\n",
       "      <th>end_time</th>\n",
       "      <th>start_station_id</th>\n",
       "      <th>end_station_id</th>\n",
       "      <th>start_station_name</th>\n",
       "      <th>end_station_name</th>\n",
       "      <th>bike_id</th>\n",
       "      <th>user_type</th>\n",
       "      <th>start_hour</th>\n",
       "      <th>weekday</th>\n",
       "      <th>duration</th>\n",
       "    </tr>\n",
       "  </thead>\n",
       "  <tbody>\n",
       "    <tr>\n",
       "      <th>419</th>\n",
       "      <td>2017-01-01 19:18:02</td>\n",
       "      <td>2017-01-01 19:19:08</td>\n",
       "      <td>189</td>\n",
       "      <td>189</td>\n",
       "      <td>Kendall T</td>\n",
       "      <td>Kendall T</td>\n",
       "      <td>1574</td>\n",
       "      <td>Subscriber</td>\n",
       "      <td>19</td>\n",
       "      <td>6</td>\n",
       "      <td>0 days 00:01:06</td>\n",
       "    </tr>\n",
       "    <tr>\n",
       "      <th>501</th>\n",
       "      <td>2017-01-02 06:59:45</td>\n",
       "      <td>2017-01-02 07:01:09</td>\n",
       "      <td>14</td>\n",
       "      <td>3</td>\n",
       "      <td>HMS / HSPH - Ave. Louis Pasteur at Longwood Ave.</td>\n",
       "      <td>Colleges of the Fenway</td>\n",
       "      <td>964</td>\n",
       "      <td>Subscriber</td>\n",
       "      <td>6</td>\n",
       "      <td>0</td>\n",
       "      <td>0 days 00:01:24</td>\n",
       "    </tr>\n",
       "    <tr>\n",
       "      <th>1208</th>\n",
       "      <td>2017-01-02 20:04:40</td>\n",
       "      <td>2017-01-02 20:05:45</td>\n",
       "      <td>107</td>\n",
       "      <td>189</td>\n",
       "      <td>Ames St at Main St</td>\n",
       "      <td>Kendall T</td>\n",
       "      <td>1035</td>\n",
       "      <td>Subscriber</td>\n",
       "      <td>20</td>\n",
       "      <td>0</td>\n",
       "      <td>0 days 00:01:05</td>\n",
       "    </tr>\n",
       "    <tr>\n",
       "      <th>1771</th>\n",
       "      <td>2017-01-03 15:59:41</td>\n",
       "      <td>2017-01-03 16:01:10</td>\n",
       "      <td>178</td>\n",
       "      <td>184</td>\n",
       "      <td>MIT Pacific St at Purrington St</td>\n",
       "      <td>Sidney Research Campus/ Erie Street at Waverly</td>\n",
       "      <td>767</td>\n",
       "      <td>Subscriber</td>\n",
       "      <td>15</td>\n",
       "      <td>1</td>\n",
       "      <td>0 days 00:01:29</td>\n",
       "    </tr>\n",
       "    <tr>\n",
       "      <th>2757</th>\n",
       "      <td>2017-01-04 14:52:03</td>\n",
       "      <td>2017-01-04 14:53:14</td>\n",
       "      <td>115</td>\n",
       "      <td>176</td>\n",
       "      <td>Porter Square Station</td>\n",
       "      <td>Lesley University</td>\n",
       "      <td>635</td>\n",
       "      <td>Subscriber</td>\n",
       "      <td>14</td>\n",
       "      <td>2</td>\n",
       "      <td>0 days 00:01:11</td>\n",
       "    </tr>\n",
       "    <tr>\n",
       "      <th>2838</th>\n",
       "      <td>2017-01-04 15:44:20</td>\n",
       "      <td>2017-01-04 15:45:36</td>\n",
       "      <td>44</td>\n",
       "      <td>23</td>\n",
       "      <td>Faneuil Hall - Union St. at North St.</td>\n",
       "      <td>Mayor Martin J Walsh - 28 State St</td>\n",
       "      <td>1107</td>\n",
       "      <td>Subscriber</td>\n",
       "      <td>15</td>\n",
       "      <td>2</td>\n",
       "      <td>0 days 00:01:16</td>\n",
       "    </tr>\n",
       "    <tr>\n",
       "      <th>2960</th>\n",
       "      <td>2017-01-04 16:43:58</td>\n",
       "      <td>2017-01-04 16:45:16</td>\n",
       "      <td>184</td>\n",
       "      <td>179</td>\n",
       "      <td>Sidney Research Campus/ Erie Street at Waverly</td>\n",
       "      <td>MIT Vassar St</td>\n",
       "      <td>1339</td>\n",
       "      <td>Subscriber</td>\n",
       "      <td>16</td>\n",
       "      <td>2</td>\n",
       "      <td>0 days 00:01:18</td>\n",
       "    </tr>\n",
       "    <tr>\n",
       "      <th>3061</th>\n",
       "      <td>2017-01-04 17:11:42</td>\n",
       "      <td>2017-01-04 17:13:00</td>\n",
       "      <td>178</td>\n",
       "      <td>184</td>\n",
       "      <td>MIT Pacific St at Purrington St</td>\n",
       "      <td>Sidney Research Campus/ Erie Street at Waverly</td>\n",
       "      <td>507</td>\n",
       "      <td>Subscriber</td>\n",
       "      <td>17</td>\n",
       "      <td>2</td>\n",
       "      <td>0 days 00:01:18</td>\n",
       "    </tr>\n",
       "    <tr>\n",
       "      <th>3079</th>\n",
       "      <td>2017-01-04 17:16:28</td>\n",
       "      <td>2017-01-04 17:17:55</td>\n",
       "      <td>218</td>\n",
       "      <td>218</td>\n",
       "      <td>Watermark Seaport</td>\n",
       "      <td>Watermark Seaport</td>\n",
       "      <td>356</td>\n",
       "      <td>Customer</td>\n",
       "      <td>17</td>\n",
       "      <td>2</td>\n",
       "      <td>0 days 00:01:27</td>\n",
       "    </tr>\n",
       "    <tr>\n",
       "      <th>3616</th>\n",
       "      <td>2017-01-05 07:50:02</td>\n",
       "      <td>2017-01-05 07:51:16</td>\n",
       "      <td>93</td>\n",
       "      <td>93</td>\n",
       "      <td>JFK / UMASS at MBTA Station</td>\n",
       "      <td>JFK / UMASS at MBTA Station</td>\n",
       "      <td>900</td>\n",
       "      <td>Subscriber</td>\n",
       "      <td>7</td>\n",
       "      <td>3</td>\n",
       "      <td>0 days 00:01:14</td>\n",
       "    </tr>\n",
       "  </tbody>\n",
       "</table>\n",
       "</div>"
      ],
      "text/plain": [
       "              start_time            end_time  start_station_id  \\\n",
       "419  2017-01-01 19:18:02 2017-01-01 19:19:08               189   \n",
       "501  2017-01-02 06:59:45 2017-01-02 07:01:09                14   \n",
       "1208 2017-01-02 20:04:40 2017-01-02 20:05:45               107   \n",
       "1771 2017-01-03 15:59:41 2017-01-03 16:01:10               178   \n",
       "2757 2017-01-04 14:52:03 2017-01-04 14:53:14               115   \n",
       "2838 2017-01-04 15:44:20 2017-01-04 15:45:36                44   \n",
       "2960 2017-01-04 16:43:58 2017-01-04 16:45:16               184   \n",
       "3061 2017-01-04 17:11:42 2017-01-04 17:13:00               178   \n",
       "3079 2017-01-04 17:16:28 2017-01-04 17:17:55               218   \n",
       "3616 2017-01-05 07:50:02 2017-01-05 07:51:16                93   \n",
       "\n",
       "      end_station_id                                start_station_name  \\\n",
       "419              189                                         Kendall T   \n",
       "501                3  HMS / HSPH - Ave. Louis Pasteur at Longwood Ave.   \n",
       "1208             189                                Ames St at Main St   \n",
       "1771             184                   MIT Pacific St at Purrington St   \n",
       "2757             176                             Porter Square Station   \n",
       "2838              23             Faneuil Hall - Union St. at North St.   \n",
       "2960             179    Sidney Research Campus/ Erie Street at Waverly   \n",
       "3061             184                   MIT Pacific St at Purrington St   \n",
       "3079             218                                 Watermark Seaport   \n",
       "3616              93                       JFK / UMASS at MBTA Station   \n",
       "\n",
       "                                    end_station_name  bike_id   user_type  \\\n",
       "419                                        Kendall T     1574  Subscriber   \n",
       "501                           Colleges of the Fenway      964  Subscriber   \n",
       "1208                                       Kendall T     1035  Subscriber   \n",
       "1771  Sidney Research Campus/ Erie Street at Waverly      767  Subscriber   \n",
       "2757                               Lesley University      635  Subscriber   \n",
       "2838              Mayor Martin J Walsh - 28 State St     1107  Subscriber   \n",
       "2960                                   MIT Vassar St     1339  Subscriber   \n",
       "3061  Sidney Research Campus/ Erie Street at Waverly      507  Subscriber   \n",
       "3079                               Watermark Seaport      356    Customer   \n",
       "3616                     JFK / UMASS at MBTA Station      900  Subscriber   \n",
       "\n",
       "      start_hour  weekday        duration  \n",
       "419           19        6 0 days 00:01:06  \n",
       "501            6        0 0 days 00:01:24  \n",
       "1208          20        0 0 days 00:01:05  \n",
       "1771          15        1 0 days 00:01:29  \n",
       "2757          14        2 0 days 00:01:11  \n",
       "2838          15        2 0 days 00:01:16  \n",
       "2960          16        2 0 days 00:01:18  \n",
       "3061          17        2 0 days 00:01:18  \n",
       "3079          17        2 0 days 00:01:27  \n",
       "3616           7        3 0 days 00:01:14  "
      ]
     },
     "execution_count": 30,
     "metadata": {},
     "output_type": "execute_result"
    }
   ],
   "source": [
    "df2 = df_Trips[(df_Trips['duration'].dt.total_seconds() < 60) & (df_Trips['duration'].dt.total_seconds() > 0)] \n",
    "df2.info()"
   ]
  },
  {
   "cell_type": "code",
   "execution_count": 22,
   "id": "02c09d18",
   "metadata": {},
   "outputs": [],
   "source": [
    "df_Trips_Modified = df_Trips[(df_Trips['duration'].dt.total_seconds() > 0) & (df_Trips['duration'].dt.total_seconds() < 18000)]"
   ]
  },
  {
   "cell_type": "code",
   "execution_count": 23,
   "id": "3c018848",
   "metadata": {},
   "outputs": [
    {
     "name": "stdout",
     "output_type": "stream",
     "text": [
      "<class 'pandas.core.frame.DataFrame'>\n",
      "Int64Index: 1310760 entries, 0 to 1313773\n",
      "Data columns (total 11 columns):\n",
      " #   Column              Non-Null Count    Dtype          \n",
      "---  ------              --------------    -----          \n",
      " 0   start_time          1310760 non-null  datetime64[ns] \n",
      " 1   end_time            1310760 non-null  datetime64[ns] \n",
      " 2   start_station_id    1310760 non-null  int64          \n",
      " 3   end_station_id      1310760 non-null  int64          \n",
      " 4   start_station_name  1310760 non-null  object         \n",
      " 5   end_station_name    1310760 non-null  object         \n",
      " 6   bike_id             1310760 non-null  int64          \n",
      " 7   user_type           1310760 non-null  object         \n",
      " 8   start_hour          1310760 non-null  int64          \n",
      " 9   weekday             1310760 non-null  int64          \n",
      " 10  duration            1310760 non-null  timedelta64[ns]\n",
      "dtypes: datetime64[ns](2), int64(5), object(3), timedelta64[ns](1)\n",
      "memory usage: 120.0+ MB\n"
     ]
    }
   ],
   "source": [
    "df_Trips_Modified.info()"
   ]
  },
  {
   "cell_type": "markdown",
   "id": "1c574f4d",
   "metadata": {},
   "source": [
    "### Weather data Cleaning "
   ]
  },
  {
   "cell_type": "code",
   "execution_count": null,
   "id": "558de89e",
   "metadata": {},
   "outputs": [],
   "source": [
    "df_Weather.info()"
   ]
  },
  {
   "cell_type": "code",
   "execution_count": null,
   "id": "2bb709e0",
   "metadata": {},
   "outputs": [],
   "source": [
    "df_Weather.isnull().values.sum()"
   ]
  },
  {
   "cell_type": "code",
   "execution_count": null,
   "id": "4df6a0d7",
   "metadata": {},
   "outputs": [],
   "source": [
    "df_Weather.head(5)"
   ]
  },
  {
   "cell_type": "code",
   "execution_count": null,
   "id": "69776235",
   "metadata": {},
   "outputs": [],
   "source": [
    "df_Weather.tail(5)"
   ]
  },
  {
   "cell_type": "markdown",
   "id": "d9d78ed1",
   "metadata": {},
   "source": [
    "The dataset containing information about the weather reaches from 2015 - 2020. As only data of 2017 is needed, the data can limited to this year. "
   ]
  },
  {
   "cell_type": "code",
   "execution_count": null,
   "id": "a8e84a6d",
   "metadata": {},
   "outputs": [],
   "source": [
    "df_Weather['date_time'] = pd.to_datetime(df_Weather['date_time'])\n",
    "\n",
    "df_Weather2 = df_Weather[(df_Weather['date_time'] > \"2017-01-01\") & (df_Weather['date_time'] < \"2018-01-01\")]\n"
   ]
  },
  {
   "cell_type": "code",
   "execution_count": null,
   "id": "3b918b8a",
   "metadata": {},
   "outputs": [],
   "source": [
    "df_Weather2.info()"
   ]
  },
  {
   "cell_type": "markdown",
   "id": "63cad4f5",
   "metadata": {},
   "source": [
    "To display information about every hour in 2017 the weather data should contain 365 * 24 = 8760 rows. As the filtered dataframe only has 8689 entries, information about 71 hours is missing. "
   ]
  },
  {
   "cell_type": "code",
   "execution_count": null,
   "id": "8fe59e73",
   "metadata": {},
   "outputs": [],
   "source": [
    "df_Weather2.isnull().values.sum()"
   ]
  },
  {
   "cell_type": "markdown",
   "id": "83395888",
   "metadata": {},
   "source": [
    "Fortunatley no NA values are in the dataset anymore."
   ]
  },
  {
   "cell_type": "code",
   "execution_count": null,
   "id": "7f85e67a",
   "metadata": {},
   "outputs": [],
   "source": [
    "df_Weather2.head(5)"
   ]
  },
  {
   "cell_type": "code",
   "execution_count": null,
   "id": "6b62cf31",
   "metadata": {},
   "outputs": [],
   "source": [
    "df_Weather2.tail(5)"
   ]
  },
  {
   "cell_type": "code",
   "execution_count": null,
   "id": "b36efe2c",
   "metadata": {},
   "outputs": [],
   "source": [
    "df_Stations.head()"
   ]
  },
  {
   "cell_type": "code",
   "execution_count": null,
   "id": "a606b86d",
   "metadata": {},
   "outputs": [],
   "source": []
  },
  {
   "cell_type": "code",
   "execution_count": null,
   "id": "7c45505a",
   "metadata": {},
   "outputs": [],
   "source": []
  }
 ],
 "metadata": {
  "kernelspec": {
   "display_name": "Python 3 (ipykernel)",
   "language": "python",
   "name": "python3"
  },
  "language_info": {
   "codemirror_mode": {
    "name": "ipython",
    "version": 3
   },
   "file_extension": ".py",
   "mimetype": "text/x-python",
   "name": "python",
   "nbconvert_exporter": "python",
   "pygments_lexer": "ipython3",
   "version": "3.10.0"
  }
 },
 "nbformat": 4,
 "nbformat_minor": 5
}
